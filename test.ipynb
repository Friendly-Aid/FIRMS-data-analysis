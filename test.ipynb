{
 "cells": [
  {
   "cell_type": "code",
   "id": "initial_id",
   "metadata": {
    "collapsed": true,
    "ExecuteTime": {
     "end_time": "2025-07-03T18:21:23.251407Z",
     "start_time": "2025-07-03T18:21:17.589877Z"
    }
   },
   "source": [
    "import pandas as pd\n",
    "import os\n",
    "import plotly.graph_objects as go\n",
    "import numpy as np\n",
    "\n",
    "path=os.getcwd()+\"\\\\data\\\\fire_archive_M-C61_626683.csv.xz\"\n",
    "data=pd.read_csv(path)\n",
    "data"
   ],
   "outputs": [
    {
     "data": {
      "text/plain": [
       "         latitude  longitude  brightness  scan  track    acq_date  acq_time  \\\n",
       "0         38.5422   -78.3047       304.8   2.8    1.6  2000-11-01       250   \n",
       "1         38.5451   -78.3107       309.9   2.8    1.6  2000-11-01       250   \n",
       "2         38.5563   -78.3084       309.4   2.8    1.6  2000-11-01       250   \n",
       "3         38.5586   -78.3170       302.3   2.8    1.6  2000-11-01       250   \n",
       "4         31.3393   -89.9124       304.9   1.0    1.0  2000-11-01       427   \n",
       "...           ...        ...         ...   ...    ...         ...       ...   \n",
       "2960417   41.6966   -99.1437       319.8   1.1    1.0  2025-01-31      2028   \n",
       "2960418   42.4419   -94.3783       300.6   1.2    1.1  2025-01-31      2028   \n",
       "2960419   41.4014   -97.9485       319.9   1.0    1.0  2025-01-31      2028   \n",
       "2960420   41.4032   -97.9369       322.9   1.0    1.0  2025-01-31      2028   \n",
       "2960421   42.7180  -120.4872       303.0   1.1    1.0  2025-01-31      2207   \n",
       "\n",
       "        satellite instrument  confidence  version  bright_t31   frp daynight  \\\n",
       "0           Terra      MODIS          23     6.03       280.9  40.3        N   \n",
       "1           Terra      MODIS          79     6.03       280.7  58.8        N   \n",
       "2           Terra      MODIS          70     6.03       280.4  54.5        N   \n",
       "3           Terra      MODIS          45     6.03       279.8  36.0        N   \n",
       "4           Terra      MODIS          62     6.03       287.5   8.5        N   \n",
       "...           ...        ...         ...      ...         ...   ...      ...   \n",
       "2960417      Aqua      MODIS          80    61.03       284.7  21.2        D   \n",
       "2960418      Aqua      MODIS          40    61.03       284.3   6.3        D   \n",
       "2960419      Aqua      MODIS          80    61.03       284.9  19.0        D   \n",
       "2960420      Aqua      MODIS          82    61.03       285.0  22.1        D   \n",
       "2960421      Aqua      MODIS          51    61.03       281.1   7.8        D   \n",
       "\n",
       "         type  \n",
       "0           0  \n",
       "1           0  \n",
       "2           0  \n",
       "3           0  \n",
       "4           0  \n",
       "...       ...  \n",
       "2960417     0  \n",
       "2960418     0  \n",
       "2960419     0  \n",
       "2960420     0  \n",
       "2960421     0  \n",
       "\n",
       "[2960422 rows x 15 columns]"
      ],
      "text/html": [
       "<div>\n",
       "<style scoped>\n",
       "    .dataframe tbody tr th:only-of-type {\n",
       "        vertical-align: middle;\n",
       "    }\n",
       "\n",
       "    .dataframe tbody tr th {\n",
       "        vertical-align: top;\n",
       "    }\n",
       "\n",
       "    .dataframe thead th {\n",
       "        text-align: right;\n",
       "    }\n",
       "</style>\n",
       "<table border=\"1\" class=\"dataframe\">\n",
       "  <thead>\n",
       "    <tr style=\"text-align: right;\">\n",
       "      <th></th>\n",
       "      <th>latitude</th>\n",
       "      <th>longitude</th>\n",
       "      <th>brightness</th>\n",
       "      <th>scan</th>\n",
       "      <th>track</th>\n",
       "      <th>acq_date</th>\n",
       "      <th>acq_time</th>\n",
       "      <th>satellite</th>\n",
       "      <th>instrument</th>\n",
       "      <th>confidence</th>\n",
       "      <th>version</th>\n",
       "      <th>bright_t31</th>\n",
       "      <th>frp</th>\n",
       "      <th>daynight</th>\n",
       "      <th>type</th>\n",
       "    </tr>\n",
       "  </thead>\n",
       "  <tbody>\n",
       "    <tr>\n",
       "      <th>0</th>\n",
       "      <td>38.5422</td>\n",
       "      <td>-78.3047</td>\n",
       "      <td>304.8</td>\n",
       "      <td>2.8</td>\n",
       "      <td>1.6</td>\n",
       "      <td>2000-11-01</td>\n",
       "      <td>250</td>\n",
       "      <td>Terra</td>\n",
       "      <td>MODIS</td>\n",
       "      <td>23</td>\n",
       "      <td>6.03</td>\n",
       "      <td>280.9</td>\n",
       "      <td>40.3</td>\n",
       "      <td>N</td>\n",
       "      <td>0</td>\n",
       "    </tr>\n",
       "    <tr>\n",
       "      <th>1</th>\n",
       "      <td>38.5451</td>\n",
       "      <td>-78.3107</td>\n",
       "      <td>309.9</td>\n",
       "      <td>2.8</td>\n",
       "      <td>1.6</td>\n",
       "      <td>2000-11-01</td>\n",
       "      <td>250</td>\n",
       "      <td>Terra</td>\n",
       "      <td>MODIS</td>\n",
       "      <td>79</td>\n",
       "      <td>6.03</td>\n",
       "      <td>280.7</td>\n",
       "      <td>58.8</td>\n",
       "      <td>N</td>\n",
       "      <td>0</td>\n",
       "    </tr>\n",
       "    <tr>\n",
       "      <th>2</th>\n",
       "      <td>38.5563</td>\n",
       "      <td>-78.3084</td>\n",
       "      <td>309.4</td>\n",
       "      <td>2.8</td>\n",
       "      <td>1.6</td>\n",
       "      <td>2000-11-01</td>\n",
       "      <td>250</td>\n",
       "      <td>Terra</td>\n",
       "      <td>MODIS</td>\n",
       "      <td>70</td>\n",
       "      <td>6.03</td>\n",
       "      <td>280.4</td>\n",
       "      <td>54.5</td>\n",
       "      <td>N</td>\n",
       "      <td>0</td>\n",
       "    </tr>\n",
       "    <tr>\n",
       "      <th>3</th>\n",
       "      <td>38.5586</td>\n",
       "      <td>-78.3170</td>\n",
       "      <td>302.3</td>\n",
       "      <td>2.8</td>\n",
       "      <td>1.6</td>\n",
       "      <td>2000-11-01</td>\n",
       "      <td>250</td>\n",
       "      <td>Terra</td>\n",
       "      <td>MODIS</td>\n",
       "      <td>45</td>\n",
       "      <td>6.03</td>\n",
       "      <td>279.8</td>\n",
       "      <td>36.0</td>\n",
       "      <td>N</td>\n",
       "      <td>0</td>\n",
       "    </tr>\n",
       "    <tr>\n",
       "      <th>4</th>\n",
       "      <td>31.3393</td>\n",
       "      <td>-89.9124</td>\n",
       "      <td>304.9</td>\n",
       "      <td>1.0</td>\n",
       "      <td>1.0</td>\n",
       "      <td>2000-11-01</td>\n",
       "      <td>427</td>\n",
       "      <td>Terra</td>\n",
       "      <td>MODIS</td>\n",
       "      <td>62</td>\n",
       "      <td>6.03</td>\n",
       "      <td>287.5</td>\n",
       "      <td>8.5</td>\n",
       "      <td>N</td>\n",
       "      <td>0</td>\n",
       "    </tr>\n",
       "    <tr>\n",
       "      <th>...</th>\n",
       "      <td>...</td>\n",
       "      <td>...</td>\n",
       "      <td>...</td>\n",
       "      <td>...</td>\n",
       "      <td>...</td>\n",
       "      <td>...</td>\n",
       "      <td>...</td>\n",
       "      <td>...</td>\n",
       "      <td>...</td>\n",
       "      <td>...</td>\n",
       "      <td>...</td>\n",
       "      <td>...</td>\n",
       "      <td>...</td>\n",
       "      <td>...</td>\n",
       "      <td>...</td>\n",
       "    </tr>\n",
       "    <tr>\n",
       "      <th>2960417</th>\n",
       "      <td>41.6966</td>\n",
       "      <td>-99.1437</td>\n",
       "      <td>319.8</td>\n",
       "      <td>1.1</td>\n",
       "      <td>1.0</td>\n",
       "      <td>2025-01-31</td>\n",
       "      <td>2028</td>\n",
       "      <td>Aqua</td>\n",
       "      <td>MODIS</td>\n",
       "      <td>80</td>\n",
       "      <td>61.03</td>\n",
       "      <td>284.7</td>\n",
       "      <td>21.2</td>\n",
       "      <td>D</td>\n",
       "      <td>0</td>\n",
       "    </tr>\n",
       "    <tr>\n",
       "      <th>2960418</th>\n",
       "      <td>42.4419</td>\n",
       "      <td>-94.3783</td>\n",
       "      <td>300.6</td>\n",
       "      <td>1.2</td>\n",
       "      <td>1.1</td>\n",
       "      <td>2025-01-31</td>\n",
       "      <td>2028</td>\n",
       "      <td>Aqua</td>\n",
       "      <td>MODIS</td>\n",
       "      <td>40</td>\n",
       "      <td>61.03</td>\n",
       "      <td>284.3</td>\n",
       "      <td>6.3</td>\n",
       "      <td>D</td>\n",
       "      <td>0</td>\n",
       "    </tr>\n",
       "    <tr>\n",
       "      <th>2960419</th>\n",
       "      <td>41.4014</td>\n",
       "      <td>-97.9485</td>\n",
       "      <td>319.9</td>\n",
       "      <td>1.0</td>\n",
       "      <td>1.0</td>\n",
       "      <td>2025-01-31</td>\n",
       "      <td>2028</td>\n",
       "      <td>Aqua</td>\n",
       "      <td>MODIS</td>\n",
       "      <td>80</td>\n",
       "      <td>61.03</td>\n",
       "      <td>284.9</td>\n",
       "      <td>19.0</td>\n",
       "      <td>D</td>\n",
       "      <td>0</td>\n",
       "    </tr>\n",
       "    <tr>\n",
       "      <th>2960420</th>\n",
       "      <td>41.4032</td>\n",
       "      <td>-97.9369</td>\n",
       "      <td>322.9</td>\n",
       "      <td>1.0</td>\n",
       "      <td>1.0</td>\n",
       "      <td>2025-01-31</td>\n",
       "      <td>2028</td>\n",
       "      <td>Aqua</td>\n",
       "      <td>MODIS</td>\n",
       "      <td>82</td>\n",
       "      <td>61.03</td>\n",
       "      <td>285.0</td>\n",
       "      <td>22.1</td>\n",
       "      <td>D</td>\n",
       "      <td>0</td>\n",
       "    </tr>\n",
       "    <tr>\n",
       "      <th>2960421</th>\n",
       "      <td>42.7180</td>\n",
       "      <td>-120.4872</td>\n",
       "      <td>303.0</td>\n",
       "      <td>1.1</td>\n",
       "      <td>1.0</td>\n",
       "      <td>2025-01-31</td>\n",
       "      <td>2207</td>\n",
       "      <td>Aqua</td>\n",
       "      <td>MODIS</td>\n",
       "      <td>51</td>\n",
       "      <td>61.03</td>\n",
       "      <td>281.1</td>\n",
       "      <td>7.8</td>\n",
       "      <td>D</td>\n",
       "      <td>0</td>\n",
       "    </tr>\n",
       "  </tbody>\n",
       "</table>\n",
       "<p>2960422 rows × 15 columns</p>\n",
       "</div>"
      ]
     },
     "execution_count": 1,
     "metadata": {},
     "output_type": "execute_result"
    }
   ],
   "execution_count": 1
  },
  {
   "metadata": {
    "ExecuteTime": {
     "end_time": "2025-07-03T18:21:23.320933Z",
     "start_time": "2025-07-03T18:21:23.314934Z"
    }
   },
   "cell_type": "code",
   "source": "data.columns",
   "id": "f72960b9a85689c",
   "outputs": [
    {
     "data": {
      "text/plain": [
       "Index(['latitude', 'longitude', 'brightness', 'scan', 'track', 'acq_date',\n",
       "       'acq_time', 'satellite', 'instrument', 'confidence', 'version',\n",
       "       'bright_t31', 'frp', 'daynight', 'type'],\n",
       "      dtype='object')"
      ]
     },
     "execution_count": 2,
     "metadata": {},
     "output_type": "execute_result"
    }
   ],
   "execution_count": 2
  },
  {
   "metadata": {
    "ExecuteTime": {
     "end_time": "2025-06-29T16:10:51.532877Z",
     "start_time": "2025-06-29T16:10:41.295475Z"
    }
   },
   "cell_type": "code",
   "source": [
    "from datetime import timedelta\n",
    "data['acq_date']=pd.to_datetime(data['acq_date'])\n",
    "data['acq_datetime'] = data['acq_date'] + pd.Series([timedelta(minutes=i%100,hours=i//100) for i in data['acq_time']])\n",
    "data.drop('acq_time',axis=1,inplace=True)\n",
    "data.drop('acq_date',axis=1,inplace=True)\n",
    "data.drop('instrument',axis=1,inplace=True)\n",
    "data"
   ],
   "id": "4bd4378db4fe0803",
   "outputs": [
    {
     "data": {
      "text/plain": [
       "         latitude  longitude  brightness  scan  track satellite  confidence  \\\n",
       "0         38.5422   -78.3047       304.8   2.8    1.6     Terra          23   \n",
       "1         38.5451   -78.3107       309.9   2.8    1.6     Terra          79   \n",
       "2         38.5563   -78.3084       309.4   2.8    1.6     Terra          70   \n",
       "3         38.5586   -78.3170       302.3   2.8    1.6     Terra          45   \n",
       "4         31.3393   -89.9124       304.9   1.0    1.0     Terra          62   \n",
       "...           ...        ...         ...   ...    ...       ...         ...   \n",
       "2960417   41.6966   -99.1437       319.8   1.1    1.0      Aqua          80   \n",
       "2960418   42.4419   -94.3783       300.6   1.2    1.1      Aqua          40   \n",
       "2960419   41.4014   -97.9485       319.9   1.0    1.0      Aqua          80   \n",
       "2960420   41.4032   -97.9369       322.9   1.0    1.0      Aqua          82   \n",
       "2960421   42.7180  -120.4872       303.0   1.1    1.0      Aqua          51   \n",
       "\n",
       "         version  bright_t31   frp daynight  type        acq_datetime  \n",
       "0           6.03       280.9  40.3        N     0 2000-11-01 02:50:00  \n",
       "1           6.03       280.7  58.8        N     0 2000-11-01 02:50:00  \n",
       "2           6.03       280.4  54.5        N     0 2000-11-01 02:50:00  \n",
       "3           6.03       279.8  36.0        N     0 2000-11-01 02:50:00  \n",
       "4           6.03       287.5   8.5        N     0 2000-11-01 04:27:00  \n",
       "...          ...         ...   ...      ...   ...                 ...  \n",
       "2960417    61.03       284.7  21.2        D     0 2025-01-31 20:28:00  \n",
       "2960418    61.03       284.3   6.3        D     0 2025-01-31 20:28:00  \n",
       "2960419    61.03       284.9  19.0        D     0 2025-01-31 20:28:00  \n",
       "2960420    61.03       285.0  22.1        D     0 2025-01-31 20:28:00  \n",
       "2960421    61.03       281.1   7.8        D     0 2025-01-31 22:07:00  \n",
       "\n",
       "[2960422 rows x 13 columns]"
      ],
      "text/html": [
       "<div>\n",
       "<style scoped>\n",
       "    .dataframe tbody tr th:only-of-type {\n",
       "        vertical-align: middle;\n",
       "    }\n",
       "\n",
       "    .dataframe tbody tr th {\n",
       "        vertical-align: top;\n",
       "    }\n",
       "\n",
       "    .dataframe thead th {\n",
       "        text-align: right;\n",
       "    }\n",
       "</style>\n",
       "<table border=\"1\" class=\"dataframe\">\n",
       "  <thead>\n",
       "    <tr style=\"text-align: right;\">\n",
       "      <th></th>\n",
       "      <th>latitude</th>\n",
       "      <th>longitude</th>\n",
       "      <th>brightness</th>\n",
       "      <th>scan</th>\n",
       "      <th>track</th>\n",
       "      <th>satellite</th>\n",
       "      <th>confidence</th>\n",
       "      <th>version</th>\n",
       "      <th>bright_t31</th>\n",
       "      <th>frp</th>\n",
       "      <th>daynight</th>\n",
       "      <th>type</th>\n",
       "      <th>acq_datetime</th>\n",
       "    </tr>\n",
       "  </thead>\n",
       "  <tbody>\n",
       "    <tr>\n",
       "      <th>0</th>\n",
       "      <td>38.5422</td>\n",
       "      <td>-78.3047</td>\n",
       "      <td>304.8</td>\n",
       "      <td>2.8</td>\n",
       "      <td>1.6</td>\n",
       "      <td>Terra</td>\n",
       "      <td>23</td>\n",
       "      <td>6.03</td>\n",
       "      <td>280.9</td>\n",
       "      <td>40.3</td>\n",
       "      <td>N</td>\n",
       "      <td>0</td>\n",
       "      <td>2000-11-01 02:50:00</td>\n",
       "    </tr>\n",
       "    <tr>\n",
       "      <th>1</th>\n",
       "      <td>38.5451</td>\n",
       "      <td>-78.3107</td>\n",
       "      <td>309.9</td>\n",
       "      <td>2.8</td>\n",
       "      <td>1.6</td>\n",
       "      <td>Terra</td>\n",
       "      <td>79</td>\n",
       "      <td>6.03</td>\n",
       "      <td>280.7</td>\n",
       "      <td>58.8</td>\n",
       "      <td>N</td>\n",
       "      <td>0</td>\n",
       "      <td>2000-11-01 02:50:00</td>\n",
       "    </tr>\n",
       "    <tr>\n",
       "      <th>2</th>\n",
       "      <td>38.5563</td>\n",
       "      <td>-78.3084</td>\n",
       "      <td>309.4</td>\n",
       "      <td>2.8</td>\n",
       "      <td>1.6</td>\n",
       "      <td>Terra</td>\n",
       "      <td>70</td>\n",
       "      <td>6.03</td>\n",
       "      <td>280.4</td>\n",
       "      <td>54.5</td>\n",
       "      <td>N</td>\n",
       "      <td>0</td>\n",
       "      <td>2000-11-01 02:50:00</td>\n",
       "    </tr>\n",
       "    <tr>\n",
       "      <th>3</th>\n",
       "      <td>38.5586</td>\n",
       "      <td>-78.3170</td>\n",
       "      <td>302.3</td>\n",
       "      <td>2.8</td>\n",
       "      <td>1.6</td>\n",
       "      <td>Terra</td>\n",
       "      <td>45</td>\n",
       "      <td>6.03</td>\n",
       "      <td>279.8</td>\n",
       "      <td>36.0</td>\n",
       "      <td>N</td>\n",
       "      <td>0</td>\n",
       "      <td>2000-11-01 02:50:00</td>\n",
       "    </tr>\n",
       "    <tr>\n",
       "      <th>4</th>\n",
       "      <td>31.3393</td>\n",
       "      <td>-89.9124</td>\n",
       "      <td>304.9</td>\n",
       "      <td>1.0</td>\n",
       "      <td>1.0</td>\n",
       "      <td>Terra</td>\n",
       "      <td>62</td>\n",
       "      <td>6.03</td>\n",
       "      <td>287.5</td>\n",
       "      <td>8.5</td>\n",
       "      <td>N</td>\n",
       "      <td>0</td>\n",
       "      <td>2000-11-01 04:27:00</td>\n",
       "    </tr>\n",
       "    <tr>\n",
       "      <th>...</th>\n",
       "      <td>...</td>\n",
       "      <td>...</td>\n",
       "      <td>...</td>\n",
       "      <td>...</td>\n",
       "      <td>...</td>\n",
       "      <td>...</td>\n",
       "      <td>...</td>\n",
       "      <td>...</td>\n",
       "      <td>...</td>\n",
       "      <td>...</td>\n",
       "      <td>...</td>\n",
       "      <td>...</td>\n",
       "      <td>...</td>\n",
       "    </tr>\n",
       "    <tr>\n",
       "      <th>2960417</th>\n",
       "      <td>41.6966</td>\n",
       "      <td>-99.1437</td>\n",
       "      <td>319.8</td>\n",
       "      <td>1.1</td>\n",
       "      <td>1.0</td>\n",
       "      <td>Aqua</td>\n",
       "      <td>80</td>\n",
       "      <td>61.03</td>\n",
       "      <td>284.7</td>\n",
       "      <td>21.2</td>\n",
       "      <td>D</td>\n",
       "      <td>0</td>\n",
       "      <td>2025-01-31 20:28:00</td>\n",
       "    </tr>\n",
       "    <tr>\n",
       "      <th>2960418</th>\n",
       "      <td>42.4419</td>\n",
       "      <td>-94.3783</td>\n",
       "      <td>300.6</td>\n",
       "      <td>1.2</td>\n",
       "      <td>1.1</td>\n",
       "      <td>Aqua</td>\n",
       "      <td>40</td>\n",
       "      <td>61.03</td>\n",
       "      <td>284.3</td>\n",
       "      <td>6.3</td>\n",
       "      <td>D</td>\n",
       "      <td>0</td>\n",
       "      <td>2025-01-31 20:28:00</td>\n",
       "    </tr>\n",
       "    <tr>\n",
       "      <th>2960419</th>\n",
       "      <td>41.4014</td>\n",
       "      <td>-97.9485</td>\n",
       "      <td>319.9</td>\n",
       "      <td>1.0</td>\n",
       "      <td>1.0</td>\n",
       "      <td>Aqua</td>\n",
       "      <td>80</td>\n",
       "      <td>61.03</td>\n",
       "      <td>284.9</td>\n",
       "      <td>19.0</td>\n",
       "      <td>D</td>\n",
       "      <td>0</td>\n",
       "      <td>2025-01-31 20:28:00</td>\n",
       "    </tr>\n",
       "    <tr>\n",
       "      <th>2960420</th>\n",
       "      <td>41.4032</td>\n",
       "      <td>-97.9369</td>\n",
       "      <td>322.9</td>\n",
       "      <td>1.0</td>\n",
       "      <td>1.0</td>\n",
       "      <td>Aqua</td>\n",
       "      <td>82</td>\n",
       "      <td>61.03</td>\n",
       "      <td>285.0</td>\n",
       "      <td>22.1</td>\n",
       "      <td>D</td>\n",
       "      <td>0</td>\n",
       "      <td>2025-01-31 20:28:00</td>\n",
       "    </tr>\n",
       "    <tr>\n",
       "      <th>2960421</th>\n",
       "      <td>42.7180</td>\n",
       "      <td>-120.4872</td>\n",
       "      <td>303.0</td>\n",
       "      <td>1.1</td>\n",
       "      <td>1.0</td>\n",
       "      <td>Aqua</td>\n",
       "      <td>51</td>\n",
       "      <td>61.03</td>\n",
       "      <td>281.1</td>\n",
       "      <td>7.8</td>\n",
       "      <td>D</td>\n",
       "      <td>0</td>\n",
       "      <td>2025-01-31 22:07:00</td>\n",
       "    </tr>\n",
       "  </tbody>\n",
       "</table>\n",
       "<p>2960422 rows × 13 columns</p>\n",
       "</div>"
      ]
     },
     "execution_count": 3,
     "metadata": {},
     "output_type": "execute_result"
    }
   ],
   "execution_count": 3
  },
  {
   "metadata": {
    "ExecuteTime": {
     "end_time": "2025-06-27T23:36:35.838582Z",
     "start_time": "2025-06-27T23:36:35.591920Z"
    }
   },
   "cell_type": "code",
   "source": [
    "import calendar\n",
    "fig=go.Figure()\n",
    "month_count=data[data['confidence'] >= 80][data['type'] != 1]['acq_datetime'].dt.month.value_counts().sort_index()\n",
    "fig.add_trace(go.Scatter(y=month_count.values,x=[calendar.month_abbr[m] for m in month_count.index]))\n",
    "fig.show()\n",
    "month_count.sort_values(ascending=False,inplace=True)\n",
    "fig=go.Figure()\n",
    "fig.add_trace(go.Bar(y=month_count.values,x=[calendar.month_abbr[m] for m in month_count.index]))"
   ],
   "id": "c693344824f55736",
   "outputs": [
    {
     "name": "stderr",
     "output_type": "stream",
     "text": [
      "C:\\Users\\Josiah\\AppData\\Local\\Temp\\ipykernel_12916\\1405171944.py:3: UserWarning:\n",
      "\n",
      "Boolean Series key will be reindexed to match DataFrame index.\n",
      "\n"
     ]
    },
    {
     "data": {
      "application/vnd.plotly.v1+json": {
       "data": [
        {
         "x": [
          "Jan",
          "Feb",
          "Mar",
          "Apr",
          "May",
          "Jun",
          "Jul",
          "Aug",
          "Sep",
          "Oct",
          "Nov",
          "Dec"
         ],
         "y": {
          "dtype": "i4",
          "bdata": "yksAAFlnAADE5AAAfg8BAFGmAAAWmAEA0IECAOtJAwCAFgIAPysBAHeVAAApQwAA"
         },
         "type": "scatter"
        }
       ],
       "layout": {
        "template": {
         "data": {
          "histogram2dcontour": [
           {
            "type": "histogram2dcontour",
            "colorbar": {
             "outlinewidth": 0,
             "ticks": ""
            },
            "colorscale": [
             [
              0.0,
              "#0d0887"
             ],
             [
              0.1111111111111111,
              "#46039f"
             ],
             [
              0.2222222222222222,
              "#7201a8"
             ],
             [
              0.3333333333333333,
              "#9c179e"
             ],
             [
              0.4444444444444444,
              "#bd3786"
             ],
             [
              0.5555555555555556,
              "#d8576b"
             ],
             [
              0.6666666666666666,
              "#ed7953"
             ],
             [
              0.7777777777777778,
              "#fb9f3a"
             ],
             [
              0.8888888888888888,
              "#fdca26"
             ],
             [
              1.0,
              "#f0f921"
             ]
            ]
           }
          ],
          "choropleth": [
           {
            "type": "choropleth",
            "colorbar": {
             "outlinewidth": 0,
             "ticks": ""
            }
           }
          ],
          "histogram2d": [
           {
            "type": "histogram2d",
            "colorbar": {
             "outlinewidth": 0,
             "ticks": ""
            },
            "colorscale": [
             [
              0.0,
              "#0d0887"
             ],
             [
              0.1111111111111111,
              "#46039f"
             ],
             [
              0.2222222222222222,
              "#7201a8"
             ],
             [
              0.3333333333333333,
              "#9c179e"
             ],
             [
              0.4444444444444444,
              "#bd3786"
             ],
             [
              0.5555555555555556,
              "#d8576b"
             ],
             [
              0.6666666666666666,
              "#ed7953"
             ],
             [
              0.7777777777777778,
              "#fb9f3a"
             ],
             [
              0.8888888888888888,
              "#fdca26"
             ],
             [
              1.0,
              "#f0f921"
             ]
            ]
           }
          ],
          "heatmap": [
           {
            "type": "heatmap",
            "colorbar": {
             "outlinewidth": 0,
             "ticks": ""
            },
            "colorscale": [
             [
              0.0,
              "#0d0887"
             ],
             [
              0.1111111111111111,
              "#46039f"
             ],
             [
              0.2222222222222222,
              "#7201a8"
             ],
             [
              0.3333333333333333,
              "#9c179e"
             ],
             [
              0.4444444444444444,
              "#bd3786"
             ],
             [
              0.5555555555555556,
              "#d8576b"
             ],
             [
              0.6666666666666666,
              "#ed7953"
             ],
             [
              0.7777777777777778,
              "#fb9f3a"
             ],
             [
              0.8888888888888888,
              "#fdca26"
             ],
             [
              1.0,
              "#f0f921"
             ]
            ]
           }
          ],
          "contourcarpet": [
           {
            "type": "contourcarpet",
            "colorbar": {
             "outlinewidth": 0,
             "ticks": ""
            }
           }
          ],
          "contour": [
           {
            "type": "contour",
            "colorbar": {
             "outlinewidth": 0,
             "ticks": ""
            },
            "colorscale": [
             [
              0.0,
              "#0d0887"
             ],
             [
              0.1111111111111111,
              "#46039f"
             ],
             [
              0.2222222222222222,
              "#7201a8"
             ],
             [
              0.3333333333333333,
              "#9c179e"
             ],
             [
              0.4444444444444444,
              "#bd3786"
             ],
             [
              0.5555555555555556,
              "#d8576b"
             ],
             [
              0.6666666666666666,
              "#ed7953"
             ],
             [
              0.7777777777777778,
              "#fb9f3a"
             ],
             [
              0.8888888888888888,
              "#fdca26"
             ],
             [
              1.0,
              "#f0f921"
             ]
            ]
           }
          ],
          "surface": [
           {
            "type": "surface",
            "colorbar": {
             "outlinewidth": 0,
             "ticks": ""
            },
            "colorscale": [
             [
              0.0,
              "#0d0887"
             ],
             [
              0.1111111111111111,
              "#46039f"
             ],
             [
              0.2222222222222222,
              "#7201a8"
             ],
             [
              0.3333333333333333,
              "#9c179e"
             ],
             [
              0.4444444444444444,
              "#bd3786"
             ],
             [
              0.5555555555555556,
              "#d8576b"
             ],
             [
              0.6666666666666666,
              "#ed7953"
             ],
             [
              0.7777777777777778,
              "#fb9f3a"
             ],
             [
              0.8888888888888888,
              "#fdca26"
             ],
             [
              1.0,
              "#f0f921"
             ]
            ]
           }
          ],
          "mesh3d": [
           {
            "type": "mesh3d",
            "colorbar": {
             "outlinewidth": 0,
             "ticks": ""
            }
           }
          ],
          "scatter": [
           {
            "marker": {
             "line": {
              "color": "#283442"
             }
            },
            "type": "scatter"
           }
          ],
          "parcoords": [
           {
            "type": "parcoords",
            "line": {
             "colorbar": {
              "outlinewidth": 0,
              "ticks": ""
             }
            }
           }
          ],
          "scatterpolargl": [
           {
            "type": "scatterpolargl",
            "marker": {
             "colorbar": {
              "outlinewidth": 0,
              "ticks": ""
             }
            }
           }
          ],
          "bar": [
           {
            "error_x": {
             "color": "#f2f5fa"
            },
            "error_y": {
             "color": "#f2f5fa"
            },
            "marker": {
             "line": {
              "color": "rgb(17,17,17)",
              "width": 0.5
             },
             "pattern": {
              "fillmode": "overlay",
              "size": 10,
              "solidity": 0.2
             }
            },
            "type": "bar"
           }
          ],
          "scattergeo": [
           {
            "type": "scattergeo",
            "marker": {
             "colorbar": {
              "outlinewidth": 0,
              "ticks": ""
             }
            }
           }
          ],
          "scatterpolar": [
           {
            "type": "scatterpolar",
            "marker": {
             "colorbar": {
              "outlinewidth": 0,
              "ticks": ""
             }
            }
           }
          ],
          "histogram": [
           {
            "marker": {
             "pattern": {
              "fillmode": "overlay",
              "size": 10,
              "solidity": 0.2
             }
            },
            "type": "histogram"
           }
          ],
          "scattergl": [
           {
            "marker": {
             "line": {
              "color": "#283442"
             }
            },
            "type": "scattergl"
           }
          ],
          "scatter3d": [
           {
            "type": "scatter3d",
            "line": {
             "colorbar": {
              "outlinewidth": 0,
              "ticks": ""
             }
            },
            "marker": {
             "colorbar": {
              "outlinewidth": 0,
              "ticks": ""
             }
            }
           }
          ],
          "scattermap": [
           {
            "type": "scattermap",
            "marker": {
             "colorbar": {
              "outlinewidth": 0,
              "ticks": ""
             }
            }
           }
          ],
          "scattermapbox": [
           {
            "type": "scattermapbox",
            "marker": {
             "colorbar": {
              "outlinewidth": 0,
              "ticks": ""
             }
            }
           }
          ],
          "scatterternary": [
           {
            "type": "scatterternary",
            "marker": {
             "colorbar": {
              "outlinewidth": 0,
              "ticks": ""
             }
            }
           }
          ],
          "scattercarpet": [
           {
            "type": "scattercarpet",
            "marker": {
             "colorbar": {
              "outlinewidth": 0,
              "ticks": ""
             }
            }
           }
          ],
          "carpet": [
           {
            "aaxis": {
             "endlinecolor": "#A2B1C6",
             "gridcolor": "#506784",
             "linecolor": "#506784",
             "minorgridcolor": "#506784",
             "startlinecolor": "#A2B1C6"
            },
            "baxis": {
             "endlinecolor": "#A2B1C6",
             "gridcolor": "#506784",
             "linecolor": "#506784",
             "minorgridcolor": "#506784",
             "startlinecolor": "#A2B1C6"
            },
            "type": "carpet"
           }
          ],
          "table": [
           {
            "cells": {
             "fill": {
              "color": "#506784"
             },
             "line": {
              "color": "rgb(17,17,17)"
             }
            },
            "header": {
             "fill": {
              "color": "#2a3f5f"
             },
             "line": {
              "color": "rgb(17,17,17)"
             }
            },
            "type": "table"
           }
          ],
          "barpolar": [
           {
            "marker": {
             "line": {
              "color": "rgb(17,17,17)",
              "width": 0.5
             },
             "pattern": {
              "fillmode": "overlay",
              "size": 10,
              "solidity": 0.2
             }
            },
            "type": "barpolar"
           }
          ],
          "pie": [
           {
            "automargin": true,
            "type": "pie"
           }
          ]
         },
         "layout": {
          "autotypenumbers": "strict",
          "colorway": [
           "#636efa",
           "#EF553B",
           "#00cc96",
           "#ab63fa",
           "#FFA15A",
           "#19d3f3",
           "#FF6692",
           "#B6E880",
           "#FF97FF",
           "#FECB52"
          ],
          "font": {
           "color": "#f2f5fa"
          },
          "hovermode": "closest",
          "hoverlabel": {
           "align": "left"
          },
          "paper_bgcolor": "rgb(17,17,17)",
          "plot_bgcolor": "rgb(17,17,17)",
          "polar": {
           "bgcolor": "rgb(17,17,17)",
           "angularaxis": {
            "gridcolor": "#506784",
            "linecolor": "#506784",
            "ticks": ""
           },
           "radialaxis": {
            "gridcolor": "#506784",
            "linecolor": "#506784",
            "ticks": ""
           }
          },
          "ternary": {
           "bgcolor": "rgb(17,17,17)",
           "aaxis": {
            "gridcolor": "#506784",
            "linecolor": "#506784",
            "ticks": ""
           },
           "baxis": {
            "gridcolor": "#506784",
            "linecolor": "#506784",
            "ticks": ""
           },
           "caxis": {
            "gridcolor": "#506784",
            "linecolor": "#506784",
            "ticks": ""
           }
          },
          "coloraxis": {
           "colorbar": {
            "outlinewidth": 0,
            "ticks": ""
           }
          },
          "colorscale": {
           "sequential": [
            [
             0.0,
             "#0d0887"
            ],
            [
             0.1111111111111111,
             "#46039f"
            ],
            [
             0.2222222222222222,
             "#7201a8"
            ],
            [
             0.3333333333333333,
             "#9c179e"
            ],
            [
             0.4444444444444444,
             "#bd3786"
            ],
            [
             0.5555555555555556,
             "#d8576b"
            ],
            [
             0.6666666666666666,
             "#ed7953"
            ],
            [
             0.7777777777777778,
             "#fb9f3a"
            ],
            [
             0.8888888888888888,
             "#fdca26"
            ],
            [
             1.0,
             "#f0f921"
            ]
           ],
           "sequentialminus": [
            [
             0.0,
             "#0d0887"
            ],
            [
             0.1111111111111111,
             "#46039f"
            ],
            [
             0.2222222222222222,
             "#7201a8"
            ],
            [
             0.3333333333333333,
             "#9c179e"
            ],
            [
             0.4444444444444444,
             "#bd3786"
            ],
            [
             0.5555555555555556,
             "#d8576b"
            ],
            [
             0.6666666666666666,
             "#ed7953"
            ],
            [
             0.7777777777777778,
             "#fb9f3a"
            ],
            [
             0.8888888888888888,
             "#fdca26"
            ],
            [
             1.0,
             "#f0f921"
            ]
           ],
           "diverging": [
            [
             0,
             "#8e0152"
            ],
            [
             0.1,
             "#c51b7d"
            ],
            [
             0.2,
             "#de77ae"
            ],
            [
             0.3,
             "#f1b6da"
            ],
            [
             0.4,
             "#fde0ef"
            ],
            [
             0.5,
             "#f7f7f7"
            ],
            [
             0.6,
             "#e6f5d0"
            ],
            [
             0.7,
             "#b8e186"
            ],
            [
             0.8,
             "#7fbc41"
            ],
            [
             0.9,
             "#4d9221"
            ],
            [
             1,
             "#276419"
            ]
           ]
          },
          "xaxis": {
           "gridcolor": "#283442",
           "linecolor": "#506784",
           "ticks": "",
           "title": {
            "standoff": 15
           },
           "zerolinecolor": "#283442",
           "automargin": true,
           "zerolinewidth": 2
          },
          "yaxis": {
           "gridcolor": "#283442",
           "linecolor": "#506784",
           "ticks": "",
           "title": {
            "standoff": 15
           },
           "zerolinecolor": "#283442",
           "automargin": true,
           "zerolinewidth": 2
          },
          "scene": {
           "xaxis": {
            "backgroundcolor": "rgb(17,17,17)",
            "gridcolor": "#506784",
            "linecolor": "#506784",
            "showbackground": true,
            "ticks": "",
            "zerolinecolor": "#C8D4E3",
            "gridwidth": 2
           },
           "yaxis": {
            "backgroundcolor": "rgb(17,17,17)",
            "gridcolor": "#506784",
            "linecolor": "#506784",
            "showbackground": true,
            "ticks": "",
            "zerolinecolor": "#C8D4E3",
            "gridwidth": 2
           },
           "zaxis": {
            "backgroundcolor": "rgb(17,17,17)",
            "gridcolor": "#506784",
            "linecolor": "#506784",
            "showbackground": true,
            "ticks": "",
            "zerolinecolor": "#C8D4E3",
            "gridwidth": 2
           }
          },
          "shapedefaults": {
           "line": {
            "color": "#f2f5fa"
           }
          },
          "annotationdefaults": {
           "arrowcolor": "#f2f5fa",
           "arrowhead": 0,
           "arrowwidth": 1
          },
          "geo": {
           "bgcolor": "rgb(17,17,17)",
           "landcolor": "rgb(17,17,17)",
           "subunitcolor": "#506784",
           "showland": true,
           "showlakes": true,
           "lakecolor": "rgb(17,17,17)"
          },
          "title": {
           "x": 0.05
          },
          "updatemenudefaults": {
           "bgcolor": "#506784",
           "borderwidth": 0
          },
          "sliderdefaults": {
           "bgcolor": "#C8D4E3",
           "borderwidth": 1,
           "bordercolor": "rgb(17,17,17)",
           "tickwidth": 0
          },
          "mapbox": {
           "style": "dark"
          }
         }
        }
       },
       "config": {
        "plotlyServerURL": "https://plot.ly"
       }
      }
     },
     "metadata": {},
     "output_type": "display_data"
    },
    {
     "data": {
      "application/vnd.plotly.v1+json": {
       "data": [
        {
         "x": [
          "Aug",
          "Jul",
          "Sep",
          "Jun",
          "Oct",
          "Apr",
          "Mar",
          "May",
          "Nov",
          "Feb",
          "Jan",
          "Dec"
         ],
         "y": {
          "dtype": "i4",
          "bdata": "60kDANCBAgCAFgIAFpgBAD8rAQB+DwEAxOQAAFGmAAB3lQAAWWcAAMpLAAApQwAA"
         },
         "type": "bar"
        }
       ],
       "layout": {
        "template": {
         "data": {
          "histogram2dcontour": [
           {
            "type": "histogram2dcontour",
            "colorbar": {
             "outlinewidth": 0,
             "ticks": ""
            },
            "colorscale": [
             [
              0.0,
              "#0d0887"
             ],
             [
              0.1111111111111111,
              "#46039f"
             ],
             [
              0.2222222222222222,
              "#7201a8"
             ],
             [
              0.3333333333333333,
              "#9c179e"
             ],
             [
              0.4444444444444444,
              "#bd3786"
             ],
             [
              0.5555555555555556,
              "#d8576b"
             ],
             [
              0.6666666666666666,
              "#ed7953"
             ],
             [
              0.7777777777777778,
              "#fb9f3a"
             ],
             [
              0.8888888888888888,
              "#fdca26"
             ],
             [
              1.0,
              "#f0f921"
             ]
            ]
           }
          ],
          "choropleth": [
           {
            "type": "choropleth",
            "colorbar": {
             "outlinewidth": 0,
             "ticks": ""
            }
           }
          ],
          "histogram2d": [
           {
            "type": "histogram2d",
            "colorbar": {
             "outlinewidth": 0,
             "ticks": ""
            },
            "colorscale": [
             [
              0.0,
              "#0d0887"
             ],
             [
              0.1111111111111111,
              "#46039f"
             ],
             [
              0.2222222222222222,
              "#7201a8"
             ],
             [
              0.3333333333333333,
              "#9c179e"
             ],
             [
              0.4444444444444444,
              "#bd3786"
             ],
             [
              0.5555555555555556,
              "#d8576b"
             ],
             [
              0.6666666666666666,
              "#ed7953"
             ],
             [
              0.7777777777777778,
              "#fb9f3a"
             ],
             [
              0.8888888888888888,
              "#fdca26"
             ],
             [
              1.0,
              "#f0f921"
             ]
            ]
           }
          ],
          "heatmap": [
           {
            "type": "heatmap",
            "colorbar": {
             "outlinewidth": 0,
             "ticks": ""
            },
            "colorscale": [
             [
              0.0,
              "#0d0887"
             ],
             [
              0.1111111111111111,
              "#46039f"
             ],
             [
              0.2222222222222222,
              "#7201a8"
             ],
             [
              0.3333333333333333,
              "#9c179e"
             ],
             [
              0.4444444444444444,
              "#bd3786"
             ],
             [
              0.5555555555555556,
              "#d8576b"
             ],
             [
              0.6666666666666666,
              "#ed7953"
             ],
             [
              0.7777777777777778,
              "#fb9f3a"
             ],
             [
              0.8888888888888888,
              "#fdca26"
             ],
             [
              1.0,
              "#f0f921"
             ]
            ]
           }
          ],
          "contourcarpet": [
           {
            "type": "contourcarpet",
            "colorbar": {
             "outlinewidth": 0,
             "ticks": ""
            }
           }
          ],
          "contour": [
           {
            "type": "contour",
            "colorbar": {
             "outlinewidth": 0,
             "ticks": ""
            },
            "colorscale": [
             [
              0.0,
              "#0d0887"
             ],
             [
              0.1111111111111111,
              "#46039f"
             ],
             [
              0.2222222222222222,
              "#7201a8"
             ],
             [
              0.3333333333333333,
              "#9c179e"
             ],
             [
              0.4444444444444444,
              "#bd3786"
             ],
             [
              0.5555555555555556,
              "#d8576b"
             ],
             [
              0.6666666666666666,
              "#ed7953"
             ],
             [
              0.7777777777777778,
              "#fb9f3a"
             ],
             [
              0.8888888888888888,
              "#fdca26"
             ],
             [
              1.0,
              "#f0f921"
             ]
            ]
           }
          ],
          "surface": [
           {
            "type": "surface",
            "colorbar": {
             "outlinewidth": 0,
             "ticks": ""
            },
            "colorscale": [
             [
              0.0,
              "#0d0887"
             ],
             [
              0.1111111111111111,
              "#46039f"
             ],
             [
              0.2222222222222222,
              "#7201a8"
             ],
             [
              0.3333333333333333,
              "#9c179e"
             ],
             [
              0.4444444444444444,
              "#bd3786"
             ],
             [
              0.5555555555555556,
              "#d8576b"
             ],
             [
              0.6666666666666666,
              "#ed7953"
             ],
             [
              0.7777777777777778,
              "#fb9f3a"
             ],
             [
              0.8888888888888888,
              "#fdca26"
             ],
             [
              1.0,
              "#f0f921"
             ]
            ]
           }
          ],
          "mesh3d": [
           {
            "type": "mesh3d",
            "colorbar": {
             "outlinewidth": 0,
             "ticks": ""
            }
           }
          ],
          "scatter": [
           {
            "marker": {
             "line": {
              "color": "#283442"
             }
            },
            "type": "scatter"
           }
          ],
          "parcoords": [
           {
            "type": "parcoords",
            "line": {
             "colorbar": {
              "outlinewidth": 0,
              "ticks": ""
             }
            }
           }
          ],
          "scatterpolargl": [
           {
            "type": "scatterpolargl",
            "marker": {
             "colorbar": {
              "outlinewidth": 0,
              "ticks": ""
             }
            }
           }
          ],
          "bar": [
           {
            "error_x": {
             "color": "#f2f5fa"
            },
            "error_y": {
             "color": "#f2f5fa"
            },
            "marker": {
             "line": {
              "color": "rgb(17,17,17)",
              "width": 0.5
             },
             "pattern": {
              "fillmode": "overlay",
              "size": 10,
              "solidity": 0.2
             }
            },
            "type": "bar"
           }
          ],
          "scattergeo": [
           {
            "type": "scattergeo",
            "marker": {
             "colorbar": {
              "outlinewidth": 0,
              "ticks": ""
             }
            }
           }
          ],
          "scatterpolar": [
           {
            "type": "scatterpolar",
            "marker": {
             "colorbar": {
              "outlinewidth": 0,
              "ticks": ""
             }
            }
           }
          ],
          "histogram": [
           {
            "marker": {
             "pattern": {
              "fillmode": "overlay",
              "size": 10,
              "solidity": 0.2
             }
            },
            "type": "histogram"
           }
          ],
          "scattergl": [
           {
            "marker": {
             "line": {
              "color": "#283442"
             }
            },
            "type": "scattergl"
           }
          ],
          "scatter3d": [
           {
            "type": "scatter3d",
            "line": {
             "colorbar": {
              "outlinewidth": 0,
              "ticks": ""
             }
            },
            "marker": {
             "colorbar": {
              "outlinewidth": 0,
              "ticks": ""
             }
            }
           }
          ],
          "scattermap": [
           {
            "type": "scattermap",
            "marker": {
             "colorbar": {
              "outlinewidth": 0,
              "ticks": ""
             }
            }
           }
          ],
          "scattermapbox": [
           {
            "type": "scattermapbox",
            "marker": {
             "colorbar": {
              "outlinewidth": 0,
              "ticks": ""
             }
            }
           }
          ],
          "scatterternary": [
           {
            "type": "scatterternary",
            "marker": {
             "colorbar": {
              "outlinewidth": 0,
              "ticks": ""
             }
            }
           }
          ],
          "scattercarpet": [
           {
            "type": "scattercarpet",
            "marker": {
             "colorbar": {
              "outlinewidth": 0,
              "ticks": ""
             }
            }
           }
          ],
          "carpet": [
           {
            "aaxis": {
             "endlinecolor": "#A2B1C6",
             "gridcolor": "#506784",
             "linecolor": "#506784",
             "minorgridcolor": "#506784",
             "startlinecolor": "#A2B1C6"
            },
            "baxis": {
             "endlinecolor": "#A2B1C6",
             "gridcolor": "#506784",
             "linecolor": "#506784",
             "minorgridcolor": "#506784",
             "startlinecolor": "#A2B1C6"
            },
            "type": "carpet"
           }
          ],
          "table": [
           {
            "cells": {
             "fill": {
              "color": "#506784"
             },
             "line": {
              "color": "rgb(17,17,17)"
             }
            },
            "header": {
             "fill": {
              "color": "#2a3f5f"
             },
             "line": {
              "color": "rgb(17,17,17)"
             }
            },
            "type": "table"
           }
          ],
          "barpolar": [
           {
            "marker": {
             "line": {
              "color": "rgb(17,17,17)",
              "width": 0.5
             },
             "pattern": {
              "fillmode": "overlay",
              "size": 10,
              "solidity": 0.2
             }
            },
            "type": "barpolar"
           }
          ],
          "pie": [
           {
            "automargin": true,
            "type": "pie"
           }
          ]
         },
         "layout": {
          "autotypenumbers": "strict",
          "colorway": [
           "#636efa",
           "#EF553B",
           "#00cc96",
           "#ab63fa",
           "#FFA15A",
           "#19d3f3",
           "#FF6692",
           "#B6E880",
           "#FF97FF",
           "#FECB52"
          ],
          "font": {
           "color": "#f2f5fa"
          },
          "hovermode": "closest",
          "hoverlabel": {
           "align": "left"
          },
          "paper_bgcolor": "rgb(17,17,17)",
          "plot_bgcolor": "rgb(17,17,17)",
          "polar": {
           "bgcolor": "rgb(17,17,17)",
           "angularaxis": {
            "gridcolor": "#506784",
            "linecolor": "#506784",
            "ticks": ""
           },
           "radialaxis": {
            "gridcolor": "#506784",
            "linecolor": "#506784",
            "ticks": ""
           }
          },
          "ternary": {
           "bgcolor": "rgb(17,17,17)",
           "aaxis": {
            "gridcolor": "#506784",
            "linecolor": "#506784",
            "ticks": ""
           },
           "baxis": {
            "gridcolor": "#506784",
            "linecolor": "#506784",
            "ticks": ""
           },
           "caxis": {
            "gridcolor": "#506784",
            "linecolor": "#506784",
            "ticks": ""
           }
          },
          "coloraxis": {
           "colorbar": {
            "outlinewidth": 0,
            "ticks": ""
           }
          },
          "colorscale": {
           "sequential": [
            [
             0.0,
             "#0d0887"
            ],
            [
             0.1111111111111111,
             "#46039f"
            ],
            [
             0.2222222222222222,
             "#7201a8"
            ],
            [
             0.3333333333333333,
             "#9c179e"
            ],
            [
             0.4444444444444444,
             "#bd3786"
            ],
            [
             0.5555555555555556,
             "#d8576b"
            ],
            [
             0.6666666666666666,
             "#ed7953"
            ],
            [
             0.7777777777777778,
             "#fb9f3a"
            ],
            [
             0.8888888888888888,
             "#fdca26"
            ],
            [
             1.0,
             "#f0f921"
            ]
           ],
           "sequentialminus": [
            [
             0.0,
             "#0d0887"
            ],
            [
             0.1111111111111111,
             "#46039f"
            ],
            [
             0.2222222222222222,
             "#7201a8"
            ],
            [
             0.3333333333333333,
             "#9c179e"
            ],
            [
             0.4444444444444444,
             "#bd3786"
            ],
            [
             0.5555555555555556,
             "#d8576b"
            ],
            [
             0.6666666666666666,
             "#ed7953"
            ],
            [
             0.7777777777777778,
             "#fb9f3a"
            ],
            [
             0.8888888888888888,
             "#fdca26"
            ],
            [
             1.0,
             "#f0f921"
            ]
           ],
           "diverging": [
            [
             0,
             "#8e0152"
            ],
            [
             0.1,
             "#c51b7d"
            ],
            [
             0.2,
             "#de77ae"
            ],
            [
             0.3,
             "#f1b6da"
            ],
            [
             0.4,
             "#fde0ef"
            ],
            [
             0.5,
             "#f7f7f7"
            ],
            [
             0.6,
             "#e6f5d0"
            ],
            [
             0.7,
             "#b8e186"
            ],
            [
             0.8,
             "#7fbc41"
            ],
            [
             0.9,
             "#4d9221"
            ],
            [
             1,
             "#276419"
            ]
           ]
          },
          "xaxis": {
           "gridcolor": "#283442",
           "linecolor": "#506784",
           "ticks": "",
           "title": {
            "standoff": 15
           },
           "zerolinecolor": "#283442",
           "automargin": true,
           "zerolinewidth": 2
          },
          "yaxis": {
           "gridcolor": "#283442",
           "linecolor": "#506784",
           "ticks": "",
           "title": {
            "standoff": 15
           },
           "zerolinecolor": "#283442",
           "automargin": true,
           "zerolinewidth": 2
          },
          "scene": {
           "xaxis": {
            "backgroundcolor": "rgb(17,17,17)",
            "gridcolor": "#506784",
            "linecolor": "#506784",
            "showbackground": true,
            "ticks": "",
            "zerolinecolor": "#C8D4E3",
            "gridwidth": 2
           },
           "yaxis": {
            "backgroundcolor": "rgb(17,17,17)",
            "gridcolor": "#506784",
            "linecolor": "#506784",
            "showbackground": true,
            "ticks": "",
            "zerolinecolor": "#C8D4E3",
            "gridwidth": 2
           },
           "zaxis": {
            "backgroundcolor": "rgb(17,17,17)",
            "gridcolor": "#506784",
            "linecolor": "#506784",
            "showbackground": true,
            "ticks": "",
            "zerolinecolor": "#C8D4E3",
            "gridwidth": 2
           }
          },
          "shapedefaults": {
           "line": {
            "color": "#f2f5fa"
           }
          },
          "annotationdefaults": {
           "arrowcolor": "#f2f5fa",
           "arrowhead": 0,
           "arrowwidth": 1
          },
          "geo": {
           "bgcolor": "rgb(17,17,17)",
           "landcolor": "rgb(17,17,17)",
           "subunitcolor": "#506784",
           "showland": true,
           "showlakes": true,
           "lakecolor": "rgb(17,17,17)"
          },
          "title": {
           "x": 0.05
          },
          "updatemenudefaults": {
           "bgcolor": "#506784",
           "borderwidth": 0
          },
          "sliderdefaults": {
           "bgcolor": "#C8D4E3",
           "borderwidth": 1,
           "bordercolor": "rgb(17,17,17)",
           "tickwidth": 0
          },
          "mapbox": {
           "style": "dark"
          }
         }
        }
       },
       "config": {
        "plotlyServerURL": "https://plot.ly"
       }
      }
     },
     "metadata": {},
     "output_type": "display_data"
    }
   ],
   "execution_count": 50
  },
  {
   "metadata": {
    "ExecuteTime": {
     "end_time": "2025-06-27T23:36:35.893539Z",
     "start_time": "2025-06-27T23:36:35.879126Z"
    }
   },
   "cell_type": "code",
   "source": "data.head()",
   "id": "b2e7fc61e5b81753",
   "outputs": [
    {
     "data": {
      "text/plain": [
       "   latitude  longitude  brightness  scan  track satellite  confidence  \\\n",
       "0   38.5422   -78.3047       304.8   2.8    1.6     Terra          23   \n",
       "1   38.5451   -78.3107       309.9   2.8    1.6     Terra          79   \n",
       "2   38.5563   -78.3084       309.4   2.8    1.6     Terra          70   \n",
       "3   38.5586   -78.3170       302.3   2.8    1.6     Terra          45   \n",
       "4   31.3393   -89.9124       304.9   1.0    1.0     Terra          62   \n",
       "\n",
       "   version  bright_t31   frp daynight  type        acq_datetime  \n",
       "0     6.03       280.9  40.3        N     0 2000-11-01 02:50:00  \n",
       "1     6.03       280.7  58.8        N     0 2000-11-01 02:50:00  \n",
       "2     6.03       280.4  54.5        N     0 2000-11-01 02:50:00  \n",
       "3     6.03       279.8  36.0        N     0 2000-11-01 02:50:00  \n",
       "4     6.03       287.5   8.5        N     0 2000-11-01 04:27:00  "
      ],
      "text/html": [
       "<div>\n",
       "<style scoped>\n",
       "    .dataframe tbody tr th:only-of-type {\n",
       "        vertical-align: middle;\n",
       "    }\n",
       "\n",
       "    .dataframe tbody tr th {\n",
       "        vertical-align: top;\n",
       "    }\n",
       "\n",
       "    .dataframe thead th {\n",
       "        text-align: right;\n",
       "    }\n",
       "</style>\n",
       "<table border=\"1\" class=\"dataframe\">\n",
       "  <thead>\n",
       "    <tr style=\"text-align: right;\">\n",
       "      <th></th>\n",
       "      <th>latitude</th>\n",
       "      <th>longitude</th>\n",
       "      <th>brightness</th>\n",
       "      <th>scan</th>\n",
       "      <th>track</th>\n",
       "      <th>satellite</th>\n",
       "      <th>confidence</th>\n",
       "      <th>version</th>\n",
       "      <th>bright_t31</th>\n",
       "      <th>frp</th>\n",
       "      <th>daynight</th>\n",
       "      <th>type</th>\n",
       "      <th>acq_datetime</th>\n",
       "    </tr>\n",
       "  </thead>\n",
       "  <tbody>\n",
       "    <tr>\n",
       "      <th>0</th>\n",
       "      <td>38.5422</td>\n",
       "      <td>-78.3047</td>\n",
       "      <td>304.8</td>\n",
       "      <td>2.8</td>\n",
       "      <td>1.6</td>\n",
       "      <td>Terra</td>\n",
       "      <td>23</td>\n",
       "      <td>6.03</td>\n",
       "      <td>280.9</td>\n",
       "      <td>40.3</td>\n",
       "      <td>N</td>\n",
       "      <td>0</td>\n",
       "      <td>2000-11-01 02:50:00</td>\n",
       "    </tr>\n",
       "    <tr>\n",
       "      <th>1</th>\n",
       "      <td>38.5451</td>\n",
       "      <td>-78.3107</td>\n",
       "      <td>309.9</td>\n",
       "      <td>2.8</td>\n",
       "      <td>1.6</td>\n",
       "      <td>Terra</td>\n",
       "      <td>79</td>\n",
       "      <td>6.03</td>\n",
       "      <td>280.7</td>\n",
       "      <td>58.8</td>\n",
       "      <td>N</td>\n",
       "      <td>0</td>\n",
       "      <td>2000-11-01 02:50:00</td>\n",
       "    </tr>\n",
       "    <tr>\n",
       "      <th>2</th>\n",
       "      <td>38.5563</td>\n",
       "      <td>-78.3084</td>\n",
       "      <td>309.4</td>\n",
       "      <td>2.8</td>\n",
       "      <td>1.6</td>\n",
       "      <td>Terra</td>\n",
       "      <td>70</td>\n",
       "      <td>6.03</td>\n",
       "      <td>280.4</td>\n",
       "      <td>54.5</td>\n",
       "      <td>N</td>\n",
       "      <td>0</td>\n",
       "      <td>2000-11-01 02:50:00</td>\n",
       "    </tr>\n",
       "    <tr>\n",
       "      <th>3</th>\n",
       "      <td>38.5586</td>\n",
       "      <td>-78.3170</td>\n",
       "      <td>302.3</td>\n",
       "      <td>2.8</td>\n",
       "      <td>1.6</td>\n",
       "      <td>Terra</td>\n",
       "      <td>45</td>\n",
       "      <td>6.03</td>\n",
       "      <td>279.8</td>\n",
       "      <td>36.0</td>\n",
       "      <td>N</td>\n",
       "      <td>0</td>\n",
       "      <td>2000-11-01 02:50:00</td>\n",
       "    </tr>\n",
       "    <tr>\n",
       "      <th>4</th>\n",
       "      <td>31.3393</td>\n",
       "      <td>-89.9124</td>\n",
       "      <td>304.9</td>\n",
       "      <td>1.0</td>\n",
       "      <td>1.0</td>\n",
       "      <td>Terra</td>\n",
       "      <td>62</td>\n",
       "      <td>6.03</td>\n",
       "      <td>287.5</td>\n",
       "      <td>8.5</td>\n",
       "      <td>N</td>\n",
       "      <td>0</td>\n",
       "      <td>2000-11-01 04:27:00</td>\n",
       "    </tr>\n",
       "  </tbody>\n",
       "</table>\n",
       "</div>"
      ]
     },
     "execution_count": 51,
     "metadata": {},
     "output_type": "execute_result"
    }
   ],
   "execution_count": 51
  },
  {
   "metadata": {
    "ExecuteTime": {
     "end_time": "2025-06-27T23:36:36.338639Z",
     "start_time": "2025-06-27T23:36:35.992443Z"
    }
   },
   "cell_type": "code",
   "source": [
    "fig=go.Figure()\n",
    "daynight=data[data['type'] != 1][data['confidence'] >= 80]['daynight'].value_counts()\n",
    "\n",
    "fig.add_trace(go.Bar(x=daynight.index,y=daynight.values))"
   ],
   "id": "5c163a2ec80d5d14",
   "outputs": [
    {
     "name": "stderr",
     "output_type": "stream",
     "text": [
      "C:\\Users\\Josiah\\AppData\\Local\\Temp\\ipykernel_12916\\2138309401.py:2: UserWarning:\n",
      "\n",
      "Boolean Series key will be reindexed to match DataFrame index.\n",
      "\n"
     ]
    },
    {
     "data": {
      "application/vnd.plotly.v1+json": {
       "data": [
        {
         "x": [
          "D",
          "N"
         ],
         "y": {
          "dtype": "i4",
          "bdata": "mo4KAEw9BAA="
         },
         "type": "bar"
        }
       ],
       "layout": {
        "template": {
         "data": {
          "histogram2dcontour": [
           {
            "type": "histogram2dcontour",
            "colorbar": {
             "outlinewidth": 0,
             "ticks": ""
            },
            "colorscale": [
             [
              0.0,
              "#0d0887"
             ],
             [
              0.1111111111111111,
              "#46039f"
             ],
             [
              0.2222222222222222,
              "#7201a8"
             ],
             [
              0.3333333333333333,
              "#9c179e"
             ],
             [
              0.4444444444444444,
              "#bd3786"
             ],
             [
              0.5555555555555556,
              "#d8576b"
             ],
             [
              0.6666666666666666,
              "#ed7953"
             ],
             [
              0.7777777777777778,
              "#fb9f3a"
             ],
             [
              0.8888888888888888,
              "#fdca26"
             ],
             [
              1.0,
              "#f0f921"
             ]
            ]
           }
          ],
          "choropleth": [
           {
            "type": "choropleth",
            "colorbar": {
             "outlinewidth": 0,
             "ticks": ""
            }
           }
          ],
          "histogram2d": [
           {
            "type": "histogram2d",
            "colorbar": {
             "outlinewidth": 0,
             "ticks": ""
            },
            "colorscale": [
             [
              0.0,
              "#0d0887"
             ],
             [
              0.1111111111111111,
              "#46039f"
             ],
             [
              0.2222222222222222,
              "#7201a8"
             ],
             [
              0.3333333333333333,
              "#9c179e"
             ],
             [
              0.4444444444444444,
              "#bd3786"
             ],
             [
              0.5555555555555556,
              "#d8576b"
             ],
             [
              0.6666666666666666,
              "#ed7953"
             ],
             [
              0.7777777777777778,
              "#fb9f3a"
             ],
             [
              0.8888888888888888,
              "#fdca26"
             ],
             [
              1.0,
              "#f0f921"
             ]
            ]
           }
          ],
          "heatmap": [
           {
            "type": "heatmap",
            "colorbar": {
             "outlinewidth": 0,
             "ticks": ""
            },
            "colorscale": [
             [
              0.0,
              "#0d0887"
             ],
             [
              0.1111111111111111,
              "#46039f"
             ],
             [
              0.2222222222222222,
              "#7201a8"
             ],
             [
              0.3333333333333333,
              "#9c179e"
             ],
             [
              0.4444444444444444,
              "#bd3786"
             ],
             [
              0.5555555555555556,
              "#d8576b"
             ],
             [
              0.6666666666666666,
              "#ed7953"
             ],
             [
              0.7777777777777778,
              "#fb9f3a"
             ],
             [
              0.8888888888888888,
              "#fdca26"
             ],
             [
              1.0,
              "#f0f921"
             ]
            ]
           }
          ],
          "contourcarpet": [
           {
            "type": "contourcarpet",
            "colorbar": {
             "outlinewidth": 0,
             "ticks": ""
            }
           }
          ],
          "contour": [
           {
            "type": "contour",
            "colorbar": {
             "outlinewidth": 0,
             "ticks": ""
            },
            "colorscale": [
             [
              0.0,
              "#0d0887"
             ],
             [
              0.1111111111111111,
              "#46039f"
             ],
             [
              0.2222222222222222,
              "#7201a8"
             ],
             [
              0.3333333333333333,
              "#9c179e"
             ],
             [
              0.4444444444444444,
              "#bd3786"
             ],
             [
              0.5555555555555556,
              "#d8576b"
             ],
             [
              0.6666666666666666,
              "#ed7953"
             ],
             [
              0.7777777777777778,
              "#fb9f3a"
             ],
             [
              0.8888888888888888,
              "#fdca26"
             ],
             [
              1.0,
              "#f0f921"
             ]
            ]
           }
          ],
          "surface": [
           {
            "type": "surface",
            "colorbar": {
             "outlinewidth": 0,
             "ticks": ""
            },
            "colorscale": [
             [
              0.0,
              "#0d0887"
             ],
             [
              0.1111111111111111,
              "#46039f"
             ],
             [
              0.2222222222222222,
              "#7201a8"
             ],
             [
              0.3333333333333333,
              "#9c179e"
             ],
             [
              0.4444444444444444,
              "#bd3786"
             ],
             [
              0.5555555555555556,
              "#d8576b"
             ],
             [
              0.6666666666666666,
              "#ed7953"
             ],
             [
              0.7777777777777778,
              "#fb9f3a"
             ],
             [
              0.8888888888888888,
              "#fdca26"
             ],
             [
              1.0,
              "#f0f921"
             ]
            ]
           }
          ],
          "mesh3d": [
           {
            "type": "mesh3d",
            "colorbar": {
             "outlinewidth": 0,
             "ticks": ""
            }
           }
          ],
          "scatter": [
           {
            "marker": {
             "line": {
              "color": "#283442"
             }
            },
            "type": "scatter"
           }
          ],
          "parcoords": [
           {
            "type": "parcoords",
            "line": {
             "colorbar": {
              "outlinewidth": 0,
              "ticks": ""
             }
            }
           }
          ],
          "scatterpolargl": [
           {
            "type": "scatterpolargl",
            "marker": {
             "colorbar": {
              "outlinewidth": 0,
              "ticks": ""
             }
            }
           }
          ],
          "bar": [
           {
            "error_x": {
             "color": "#f2f5fa"
            },
            "error_y": {
             "color": "#f2f5fa"
            },
            "marker": {
             "line": {
              "color": "rgb(17,17,17)",
              "width": 0.5
             },
             "pattern": {
              "fillmode": "overlay",
              "size": 10,
              "solidity": 0.2
             }
            },
            "type": "bar"
           }
          ],
          "scattergeo": [
           {
            "type": "scattergeo",
            "marker": {
             "colorbar": {
              "outlinewidth": 0,
              "ticks": ""
             }
            }
           }
          ],
          "scatterpolar": [
           {
            "type": "scatterpolar",
            "marker": {
             "colorbar": {
              "outlinewidth": 0,
              "ticks": ""
             }
            }
           }
          ],
          "histogram": [
           {
            "marker": {
             "pattern": {
              "fillmode": "overlay",
              "size": 10,
              "solidity": 0.2
             }
            },
            "type": "histogram"
           }
          ],
          "scattergl": [
           {
            "marker": {
             "line": {
              "color": "#283442"
             }
            },
            "type": "scattergl"
           }
          ],
          "scatter3d": [
           {
            "type": "scatter3d",
            "line": {
             "colorbar": {
              "outlinewidth": 0,
              "ticks": ""
             }
            },
            "marker": {
             "colorbar": {
              "outlinewidth": 0,
              "ticks": ""
             }
            }
           }
          ],
          "scattermap": [
           {
            "type": "scattermap",
            "marker": {
             "colorbar": {
              "outlinewidth": 0,
              "ticks": ""
             }
            }
           }
          ],
          "scattermapbox": [
           {
            "type": "scattermapbox",
            "marker": {
             "colorbar": {
              "outlinewidth": 0,
              "ticks": ""
             }
            }
           }
          ],
          "scatterternary": [
           {
            "type": "scatterternary",
            "marker": {
             "colorbar": {
              "outlinewidth": 0,
              "ticks": ""
             }
            }
           }
          ],
          "scattercarpet": [
           {
            "type": "scattercarpet",
            "marker": {
             "colorbar": {
              "outlinewidth": 0,
              "ticks": ""
             }
            }
           }
          ],
          "carpet": [
           {
            "aaxis": {
             "endlinecolor": "#A2B1C6",
             "gridcolor": "#506784",
             "linecolor": "#506784",
             "minorgridcolor": "#506784",
             "startlinecolor": "#A2B1C6"
            },
            "baxis": {
             "endlinecolor": "#A2B1C6",
             "gridcolor": "#506784",
             "linecolor": "#506784",
             "minorgridcolor": "#506784",
             "startlinecolor": "#A2B1C6"
            },
            "type": "carpet"
           }
          ],
          "table": [
           {
            "cells": {
             "fill": {
              "color": "#506784"
             },
             "line": {
              "color": "rgb(17,17,17)"
             }
            },
            "header": {
             "fill": {
              "color": "#2a3f5f"
             },
             "line": {
              "color": "rgb(17,17,17)"
             }
            },
            "type": "table"
           }
          ],
          "barpolar": [
           {
            "marker": {
             "line": {
              "color": "rgb(17,17,17)",
              "width": 0.5
             },
             "pattern": {
              "fillmode": "overlay",
              "size": 10,
              "solidity": 0.2
             }
            },
            "type": "barpolar"
           }
          ],
          "pie": [
           {
            "automargin": true,
            "type": "pie"
           }
          ]
         },
         "layout": {
          "autotypenumbers": "strict",
          "colorway": [
           "#636efa",
           "#EF553B",
           "#00cc96",
           "#ab63fa",
           "#FFA15A",
           "#19d3f3",
           "#FF6692",
           "#B6E880",
           "#FF97FF",
           "#FECB52"
          ],
          "font": {
           "color": "#f2f5fa"
          },
          "hovermode": "closest",
          "hoverlabel": {
           "align": "left"
          },
          "paper_bgcolor": "rgb(17,17,17)",
          "plot_bgcolor": "rgb(17,17,17)",
          "polar": {
           "bgcolor": "rgb(17,17,17)",
           "angularaxis": {
            "gridcolor": "#506784",
            "linecolor": "#506784",
            "ticks": ""
           },
           "radialaxis": {
            "gridcolor": "#506784",
            "linecolor": "#506784",
            "ticks": ""
           }
          },
          "ternary": {
           "bgcolor": "rgb(17,17,17)",
           "aaxis": {
            "gridcolor": "#506784",
            "linecolor": "#506784",
            "ticks": ""
           },
           "baxis": {
            "gridcolor": "#506784",
            "linecolor": "#506784",
            "ticks": ""
           },
           "caxis": {
            "gridcolor": "#506784",
            "linecolor": "#506784",
            "ticks": ""
           }
          },
          "coloraxis": {
           "colorbar": {
            "outlinewidth": 0,
            "ticks": ""
           }
          },
          "colorscale": {
           "sequential": [
            [
             0.0,
             "#0d0887"
            ],
            [
             0.1111111111111111,
             "#46039f"
            ],
            [
             0.2222222222222222,
             "#7201a8"
            ],
            [
             0.3333333333333333,
             "#9c179e"
            ],
            [
             0.4444444444444444,
             "#bd3786"
            ],
            [
             0.5555555555555556,
             "#d8576b"
            ],
            [
             0.6666666666666666,
             "#ed7953"
            ],
            [
             0.7777777777777778,
             "#fb9f3a"
            ],
            [
             0.8888888888888888,
             "#fdca26"
            ],
            [
             1.0,
             "#f0f921"
            ]
           ],
           "sequentialminus": [
            [
             0.0,
             "#0d0887"
            ],
            [
             0.1111111111111111,
             "#46039f"
            ],
            [
             0.2222222222222222,
             "#7201a8"
            ],
            [
             0.3333333333333333,
             "#9c179e"
            ],
            [
             0.4444444444444444,
             "#bd3786"
            ],
            [
             0.5555555555555556,
             "#d8576b"
            ],
            [
             0.6666666666666666,
             "#ed7953"
            ],
            [
             0.7777777777777778,
             "#fb9f3a"
            ],
            [
             0.8888888888888888,
             "#fdca26"
            ],
            [
             1.0,
             "#f0f921"
            ]
           ],
           "diverging": [
            [
             0,
             "#8e0152"
            ],
            [
             0.1,
             "#c51b7d"
            ],
            [
             0.2,
             "#de77ae"
            ],
            [
             0.3,
             "#f1b6da"
            ],
            [
             0.4,
             "#fde0ef"
            ],
            [
             0.5,
             "#f7f7f7"
            ],
            [
             0.6,
             "#e6f5d0"
            ],
            [
             0.7,
             "#b8e186"
            ],
            [
             0.8,
             "#7fbc41"
            ],
            [
             0.9,
             "#4d9221"
            ],
            [
             1,
             "#276419"
            ]
           ]
          },
          "xaxis": {
           "gridcolor": "#283442",
           "linecolor": "#506784",
           "ticks": "",
           "title": {
            "standoff": 15
           },
           "zerolinecolor": "#283442",
           "automargin": true,
           "zerolinewidth": 2
          },
          "yaxis": {
           "gridcolor": "#283442",
           "linecolor": "#506784",
           "ticks": "",
           "title": {
            "standoff": 15
           },
           "zerolinecolor": "#283442",
           "automargin": true,
           "zerolinewidth": 2
          },
          "scene": {
           "xaxis": {
            "backgroundcolor": "rgb(17,17,17)",
            "gridcolor": "#506784",
            "linecolor": "#506784",
            "showbackground": true,
            "ticks": "",
            "zerolinecolor": "#C8D4E3",
            "gridwidth": 2
           },
           "yaxis": {
            "backgroundcolor": "rgb(17,17,17)",
            "gridcolor": "#506784",
            "linecolor": "#506784",
            "showbackground": true,
            "ticks": "",
            "zerolinecolor": "#C8D4E3",
            "gridwidth": 2
           },
           "zaxis": {
            "backgroundcolor": "rgb(17,17,17)",
            "gridcolor": "#506784",
            "linecolor": "#506784",
            "showbackground": true,
            "ticks": "",
            "zerolinecolor": "#C8D4E3",
            "gridwidth": 2
           }
          },
          "shapedefaults": {
           "line": {
            "color": "#f2f5fa"
           }
          },
          "annotationdefaults": {
           "arrowcolor": "#f2f5fa",
           "arrowhead": 0,
           "arrowwidth": 1
          },
          "geo": {
           "bgcolor": "rgb(17,17,17)",
           "landcolor": "rgb(17,17,17)",
           "subunitcolor": "#506784",
           "showland": true,
           "showlakes": true,
           "lakecolor": "rgb(17,17,17)"
          },
          "title": {
           "x": 0.05
          },
          "updatemenudefaults": {
           "bgcolor": "#506784",
           "borderwidth": 0
          },
          "sliderdefaults": {
           "bgcolor": "#C8D4E3",
           "borderwidth": 1,
           "bordercolor": "rgb(17,17,17)",
           "tickwidth": 0
          },
          "mapbox": {
           "style": "dark"
          }
         }
        }
       },
       "config": {
        "plotlyServerURL": "https://plot.ly"
       }
      }
     },
     "metadata": {},
     "output_type": "display_data"
    }
   ],
   "execution_count": 52
  },
  {
   "metadata": {
    "ExecuteTime": {
     "end_time": "2025-06-27T23:36:41.126179Z",
     "start_time": "2025-06-27T23:36:36.363081Z"
    }
   },
   "cell_type": "code",
   "source": [
    "from sklearn.model_selection import train_test_split\n",
    "from sklearn.preprocessing import PolynomialFeatures\n",
    "from sklearn.linear_model import LinearRegression\n",
    "from sklearn.pipeline import make_pipeline\n",
    "from sklearn.metrics import mean_squared_error, r2_score\n",
    "\n",
    "X=data[data['type'] != 1].drop(['scan','track','satellite','confidence','version','type'],axis=1)\n",
    "X['daynight']=X['daynight'].map({\"N\":0,\"D\":1})\n",
    "X['acq_datetime'] = X['acq_datetime'].apply(lambda x: x.toordinal())\n",
    "\n",
    "y=data[data['type'] != 1]['confidence']\n",
    "\n",
    "X_train,X_test,y_train,y_test=train_test_split(X,y,test_size=0.8)\n",
    "regressor=LinearRegression()\n",
    "regressor.fit(X_train,y_train)\n",
    "y_pred=regressor.predict(X_test)\n",
    "r2=r2_score(y_test,y_pred)\n",
    "mse=mean_squared_error(y_test,y_pred)\n",
    "print(r2)\n",
    "print((mse**0.5)/100)"
   ],
   "id": "297e695b2d33402b",
   "outputs": [
    {
     "name": "stdout",
     "output_type": "stream",
     "text": [
      "0.4252716811221945\n",
      "0.17355382624038437\n"
     ]
    }
   ],
   "execution_count": 53
  },
  {
   "metadata": {
    "ExecuteTime": {
     "end_time": "2025-06-27T23:36:48.724907Z",
     "start_time": "2025-06-27T23:36:41.135280Z"
    }
   },
   "cell_type": "code",
   "source": [
    "print(\"degree 2\")\n",
    "\n",
    "X=data[data['type'] != 1].drop(['scan','track','satellite','confidence','version','type'],axis=1)\n",
    "X['daynight']=X['daynight'].map({\"N\":0,\"D\":1})\n",
    "X['acq_datetime'] = X['acq_datetime'].apply(lambda x: x.toordinal())\n",
    "\n",
    "y=data[data['type'] != 1]['confidence']\n",
    "\n",
    "poly = PolynomialFeatures(degree=2, include_bias=False)\n",
    "X_poly = poly.fit_transform(X)\n",
    "\n",
    "regressor=LinearRegression()\n",
    "\n",
    "regressor.fit(X_poly,y)\n",
    "coefficients=regressor.coef_\n",
    "intercept=regressor.intercept_\n",
    "\n",
    "feature_names = poly.get_feature_names_out(X.columns)\n",
    "\n",
    "coef_df = pd.DataFrame({\n",
    "    'Feature': feature_names,\n",
    "    'Coefficient': coefficients\n",
    "})\n",
    "\n",
    "coef_df['Coefficient'] = coef_df['Coefficient'].round(4)\n",
    "r2=r2_score(y_test,y_pred)\n",
    "mse=mean_squared_error(y_test,y_pred)\n",
    "print(r2)\n",
    "print((mse**0.5)/100)\n",
    "print()\n",
    "print(\"Intercept:\", round(intercept, 4))\n",
    "print(coef_df.sort_values(by='Coefficient', key=abs, ascending=False))"
   ],
   "id": "2e8f1d41051df754",
   "outputs": [
    {
     "name": "stdout",
     "output_type": "stream",
     "text": [
      "degree 2\n",
      "0.4252716811221945\n",
      "0.17355382624038437\n",
      "\n",
      "Intercept: 13216.9066\n",
      "                    Feature  Coefficient\n",
      "23      brightness daynight      -0.1606\n",
      "27      bright_t31 daynight      -0.0393\n",
      "6              acq_datetime      -0.0360\n",
      "21    brightness bright_t31       0.0215\n",
      "25             bright_t31^2      -0.0176\n",
      "20             brightness^2      -0.0130\n",
      "30             frp daynight       0.0115\n",
      "10      latitude bright_t31       0.0071\n",
      "12        latitude daynight       0.0048\n",
      "7                latitude^2      -0.0037\n",
      "18       longitude daynight       0.0032\n",
      "8        latitude longitude      -0.0025\n",
      "15     longitude brightness      -0.0019\n",
      "14              longitude^2      -0.0013\n",
      "16     longitude bright_t31       0.0013\n",
      "22           brightness frp       0.0004\n",
      "9       latitude brightness      -0.0003\n",
      "4                       frp      -0.0003\n",
      "26           bright_t31 frp      -0.0002\n",
      "33    daynight acq_datetime       0.0001\n",
      "2                brightness      -0.0001\n",
      "31         frp acq_datetime      -0.0000\n",
      "29                    frp^2      -0.0000\n",
      "28  bright_t31 acq_datetime       0.0000\n",
      "32               daynight^2      -0.0000\n",
      "0                  latitude       0.0000\n",
      "17            longitude frp       0.0000\n",
      "24  brightness acq_datetime       0.0000\n",
      "19   longitude acq_datetime       0.0000\n",
      "1                 longitude      -0.0000\n",
      "13    latitude acq_datetime      -0.0000\n",
      "11             latitude frp       0.0000\n",
      "5                  daynight      -0.0000\n",
      "3                bright_t31      -0.0000\n",
      "34           acq_datetime^2       0.0000\n"
     ]
    }
   ],
   "execution_count": 54
  },
  {
   "metadata": {
    "ExecuteTime": {
     "end_time": "2025-06-27T23:37:32.727730Z",
     "start_time": "2025-06-27T23:36:48.774747Z"
    }
   },
   "cell_type": "code",
   "source": [
    "X=data[data['type'] != 1].drop(['scan','track','satellite','confidence','version','type'],axis=1)\n",
    "X['daynight']=X['daynight'].map({\"N\":0,\"D\":1})\n",
    "X['acq_datetime'] = X['acq_datetime'].apply(lambda x: x.toordinal())\n",
    "\n",
    "y=data[data['type'] != 1]['confidence']\n",
    "\n",
    "X_train,X_test,y_train,y_test=train_test_split(X,y,test_size=0.8)\n",
    "\n",
    "best_model=None\n",
    "best_r2=0\n",
    "best_mse=float('inf')\n",
    "\n",
    "for i in range(3,5):\n",
    "    print(f\"degree {i}\")\n",
    "    poly_regressor=make_pipeline(PolynomialFeatures(degree=i),LinearRegression())\n",
    "    poly_regressor.fit(X_train, y_train)\n",
    "    y_pred=poly_regressor.predict(X_test)\n",
    "    r2=r2_score(y_test,y_pred)\n",
    "    mse=mean_squared_error(y_test,y_pred)\n",
    "    print(r2)\n",
    "    print((mse**0.5)/100)\n",
    "    print()\n",
    "    if r2 > best_r2 or mse < best_mse:\n",
    "        best_model=poly_regressor\n",
    "        best_r2=r2\n",
    "        best_mse=mse\n",
    "    else:\n",
    "        break\n"
   ],
   "id": "daaeb5153b197853",
   "outputs": [
    {
     "name": "stdout",
     "output_type": "stream",
     "text": [
      "degree 3\n",
      "0.538705324517923\n",
      "0.1554719043928015\n",
      "\n",
      "degree 4\n",
      "0.5387752035585549\n",
      "0.15546012814697252\n",
      "\n"
     ]
    }
   ],
   "execution_count": 55
  },
  {
   "metadata": {
    "ExecuteTime": {
     "end_time": "2025-06-27T23:37:32.857147Z",
     "start_time": "2025-06-27T23:37:32.848621Z"
    }
   },
   "cell_type": "code",
   "source": "print(data.shape)",
   "id": "112b4a50ee158384",
   "outputs": [
    {
     "name": "stdout",
     "output_type": "stream",
     "text": [
      "(2960422, 13)\n"
     ]
    }
   ],
   "execution_count": 56
  },
  {
   "metadata": {
    "jupyter": {
     "is_executing": true
    },
    "ExecuteTime": {
     "start_time": "2025-06-27T23:37:32.905359Z"
    }
   },
   "cell_type": "code",
   "source": [
    "from sklearn.ensemble import RandomForestRegressor\n",
    "\n",
    "X=data[data['type'] != 1].drop(['scan','track','satellite','confidence','version','type'],axis=1)\n",
    "\n",
    "X['daynight']=X['daynight'].map({\"N\":0,\"D\":1})\n",
    "X['acq_datetime'] = X['acq_datetime'].apply(lambda x: x.toordinal())\n",
    "\n",
    "y=data[data['type'] != 1]['confidence']\n",
    "\n",
    "X_train,X_test,y_train,y_test=train_test_split(X,y,test_size=0.7)\n",
    "\n",
    "rf=RandomForestRegressor(n_estimators=80)\n",
    "rf.fit(X_train, y_train)\n",
    "\n",
    "y_pred = rf.predict(X_test)\n",
    "\n",
    "print(\"R^2 score:\", r2_score(y_test, y_pred))\n",
    "print(\"RMSE:\", (mean_squared_error(y_test, y_pred)**0.5)/100)"
   ],
   "id": "1aa589e5d3e3aa50",
   "outputs": [],
   "execution_count": null
  },
  {
   "metadata": {
    "ExecuteTime": {
     "end_time": "2025-06-28T23:53:33.061637200Z",
     "start_time": "2025-06-26T23:43:25.461787Z"
    }
   },
   "cell_type": "code",
   "source": "{c:f for c,f in zip(X.columns,rf.feature_importances_)}",
   "id": "605106925da0aa87",
   "outputs": [
    {
     "data": {
      "text/plain": [
       "{'latitude': 0.08323980235117048,\n",
       " 'longitude': 0.09441265736932576,\n",
       " 'brightness': 0.5471008300444685,\n",
       " 'bright_t31': 0.07073729511298567,\n",
       " 'frp': 0.10040652408958256,\n",
       " 'daynight': 0.040543285349969295,\n",
       " 'acq_datetime': 0.06355960568249779}"
      ]
     },
     "execution_count": 20,
     "metadata": {},
     "output_type": "execute_result"
    }
   ],
   "execution_count": 20
  },
  {
   "metadata": {
    "ExecuteTime": {
     "end_time": "2025-06-28T23:53:33.076408Z",
     "start_time": "2025-06-26T23:43:29.662350Z"
    }
   },
   "cell_type": "code",
   "source": "data",
   "id": "8d86458be1109be5",
   "outputs": [
    {
     "data": {
      "text/plain": [
       "         latitude  longitude  brightness  scan  track satellite  confidence  \\\n",
       "0         38.5422   -78.3047       304.8   2.8    1.6     Terra          23   \n",
       "1         38.5451   -78.3107       309.9   2.8    1.6     Terra          79   \n",
       "2         38.5563   -78.3084       309.4   2.8    1.6     Terra          70   \n",
       "3         38.5586   -78.3170       302.3   2.8    1.6     Terra          45   \n",
       "4         31.3393   -89.9124       304.9   1.0    1.0     Terra          62   \n",
       "...           ...        ...         ...   ...    ...       ...         ...   \n",
       "2960417   41.6966   -99.1437       319.8   1.1    1.0      Aqua          80   \n",
       "2960418   42.4419   -94.3783       300.6   1.2    1.1      Aqua          40   \n",
       "2960419   41.4014   -97.9485       319.9   1.0    1.0      Aqua          80   \n",
       "2960420   41.4032   -97.9369       322.9   1.0    1.0      Aqua          82   \n",
       "2960421   42.7180  -120.4872       303.0   1.1    1.0      Aqua          51   \n",
       "\n",
       "         version  bright_t31   frp daynight  type        acq_datetime  \n",
       "0           6.03       280.9  40.3        N     0 2000-11-01 02:50:00  \n",
       "1           6.03       280.7  58.8        N     0 2000-11-01 02:50:00  \n",
       "2           6.03       280.4  54.5        N     0 2000-11-01 02:50:00  \n",
       "3           6.03       279.8  36.0        N     0 2000-11-01 02:50:00  \n",
       "4           6.03       287.5   8.5        N     0 2000-11-01 04:27:00  \n",
       "...          ...         ...   ...      ...   ...                 ...  \n",
       "2960417    61.03       284.7  21.2        D     0 2025-01-31 20:28:00  \n",
       "2960418    61.03       284.3   6.3        D     0 2025-01-31 20:28:00  \n",
       "2960419    61.03       284.9  19.0        D     0 2025-01-31 20:28:00  \n",
       "2960420    61.03       285.0  22.1        D     0 2025-01-31 20:28:00  \n",
       "2960421    61.03       281.1   7.8        D     0 2025-01-31 22:07:00  \n",
       "\n",
       "[2960422 rows x 13 columns]"
      ],
      "text/html": [
       "<div>\n",
       "<style scoped>\n",
       "    .dataframe tbody tr th:only-of-type {\n",
       "        vertical-align: middle;\n",
       "    }\n",
       "\n",
       "    .dataframe tbody tr th {\n",
       "        vertical-align: top;\n",
       "    }\n",
       "\n",
       "    .dataframe thead th {\n",
       "        text-align: right;\n",
       "    }\n",
       "</style>\n",
       "<table border=\"1\" class=\"dataframe\">\n",
       "  <thead>\n",
       "    <tr style=\"text-align: right;\">\n",
       "      <th></th>\n",
       "      <th>latitude</th>\n",
       "      <th>longitude</th>\n",
       "      <th>brightness</th>\n",
       "      <th>scan</th>\n",
       "      <th>track</th>\n",
       "      <th>satellite</th>\n",
       "      <th>confidence</th>\n",
       "      <th>version</th>\n",
       "      <th>bright_t31</th>\n",
       "      <th>frp</th>\n",
       "      <th>daynight</th>\n",
       "      <th>type</th>\n",
       "      <th>acq_datetime</th>\n",
       "    </tr>\n",
       "  </thead>\n",
       "  <tbody>\n",
       "    <tr>\n",
       "      <th>0</th>\n",
       "      <td>38.5422</td>\n",
       "      <td>-78.3047</td>\n",
       "      <td>304.8</td>\n",
       "      <td>2.8</td>\n",
       "      <td>1.6</td>\n",
       "      <td>Terra</td>\n",
       "      <td>23</td>\n",
       "      <td>6.03</td>\n",
       "      <td>280.9</td>\n",
       "      <td>40.3</td>\n",
       "      <td>N</td>\n",
       "      <td>0</td>\n",
       "      <td>2000-11-01 02:50:00</td>\n",
       "    </tr>\n",
       "    <tr>\n",
       "      <th>1</th>\n",
       "      <td>38.5451</td>\n",
       "      <td>-78.3107</td>\n",
       "      <td>309.9</td>\n",
       "      <td>2.8</td>\n",
       "      <td>1.6</td>\n",
       "      <td>Terra</td>\n",
       "      <td>79</td>\n",
       "      <td>6.03</td>\n",
       "      <td>280.7</td>\n",
       "      <td>58.8</td>\n",
       "      <td>N</td>\n",
       "      <td>0</td>\n",
       "      <td>2000-11-01 02:50:00</td>\n",
       "    </tr>\n",
       "    <tr>\n",
       "      <th>2</th>\n",
       "      <td>38.5563</td>\n",
       "      <td>-78.3084</td>\n",
       "      <td>309.4</td>\n",
       "      <td>2.8</td>\n",
       "      <td>1.6</td>\n",
       "      <td>Terra</td>\n",
       "      <td>70</td>\n",
       "      <td>6.03</td>\n",
       "      <td>280.4</td>\n",
       "      <td>54.5</td>\n",
       "      <td>N</td>\n",
       "      <td>0</td>\n",
       "      <td>2000-11-01 02:50:00</td>\n",
       "    </tr>\n",
       "    <tr>\n",
       "      <th>3</th>\n",
       "      <td>38.5586</td>\n",
       "      <td>-78.3170</td>\n",
       "      <td>302.3</td>\n",
       "      <td>2.8</td>\n",
       "      <td>1.6</td>\n",
       "      <td>Terra</td>\n",
       "      <td>45</td>\n",
       "      <td>6.03</td>\n",
       "      <td>279.8</td>\n",
       "      <td>36.0</td>\n",
       "      <td>N</td>\n",
       "      <td>0</td>\n",
       "      <td>2000-11-01 02:50:00</td>\n",
       "    </tr>\n",
       "    <tr>\n",
       "      <th>4</th>\n",
       "      <td>31.3393</td>\n",
       "      <td>-89.9124</td>\n",
       "      <td>304.9</td>\n",
       "      <td>1.0</td>\n",
       "      <td>1.0</td>\n",
       "      <td>Terra</td>\n",
       "      <td>62</td>\n",
       "      <td>6.03</td>\n",
       "      <td>287.5</td>\n",
       "      <td>8.5</td>\n",
       "      <td>N</td>\n",
       "      <td>0</td>\n",
       "      <td>2000-11-01 04:27:00</td>\n",
       "    </tr>\n",
       "    <tr>\n",
       "      <th>...</th>\n",
       "      <td>...</td>\n",
       "      <td>...</td>\n",
       "      <td>...</td>\n",
       "      <td>...</td>\n",
       "      <td>...</td>\n",
       "      <td>...</td>\n",
       "      <td>...</td>\n",
       "      <td>...</td>\n",
       "      <td>...</td>\n",
       "      <td>...</td>\n",
       "      <td>...</td>\n",
       "      <td>...</td>\n",
       "      <td>...</td>\n",
       "    </tr>\n",
       "    <tr>\n",
       "      <th>2960417</th>\n",
       "      <td>41.6966</td>\n",
       "      <td>-99.1437</td>\n",
       "      <td>319.8</td>\n",
       "      <td>1.1</td>\n",
       "      <td>1.0</td>\n",
       "      <td>Aqua</td>\n",
       "      <td>80</td>\n",
       "      <td>61.03</td>\n",
       "      <td>284.7</td>\n",
       "      <td>21.2</td>\n",
       "      <td>D</td>\n",
       "      <td>0</td>\n",
       "      <td>2025-01-31 20:28:00</td>\n",
       "    </tr>\n",
       "    <tr>\n",
       "      <th>2960418</th>\n",
       "      <td>42.4419</td>\n",
       "      <td>-94.3783</td>\n",
       "      <td>300.6</td>\n",
       "      <td>1.2</td>\n",
       "      <td>1.1</td>\n",
       "      <td>Aqua</td>\n",
       "      <td>40</td>\n",
       "      <td>61.03</td>\n",
       "      <td>284.3</td>\n",
       "      <td>6.3</td>\n",
       "      <td>D</td>\n",
       "      <td>0</td>\n",
       "      <td>2025-01-31 20:28:00</td>\n",
       "    </tr>\n",
       "    <tr>\n",
       "      <th>2960419</th>\n",
       "      <td>41.4014</td>\n",
       "      <td>-97.9485</td>\n",
       "      <td>319.9</td>\n",
       "      <td>1.0</td>\n",
       "      <td>1.0</td>\n",
       "      <td>Aqua</td>\n",
       "      <td>80</td>\n",
       "      <td>61.03</td>\n",
       "      <td>284.9</td>\n",
       "      <td>19.0</td>\n",
       "      <td>D</td>\n",
       "      <td>0</td>\n",
       "      <td>2025-01-31 20:28:00</td>\n",
       "    </tr>\n",
       "    <tr>\n",
       "      <th>2960420</th>\n",
       "      <td>41.4032</td>\n",
       "      <td>-97.9369</td>\n",
       "      <td>322.9</td>\n",
       "      <td>1.0</td>\n",
       "      <td>1.0</td>\n",
       "      <td>Aqua</td>\n",
       "      <td>82</td>\n",
       "      <td>61.03</td>\n",
       "      <td>285.0</td>\n",
       "      <td>22.1</td>\n",
       "      <td>D</td>\n",
       "      <td>0</td>\n",
       "      <td>2025-01-31 20:28:00</td>\n",
       "    </tr>\n",
       "    <tr>\n",
       "      <th>2960421</th>\n",
       "      <td>42.7180</td>\n",
       "      <td>-120.4872</td>\n",
       "      <td>303.0</td>\n",
       "      <td>1.1</td>\n",
       "      <td>1.0</td>\n",
       "      <td>Aqua</td>\n",
       "      <td>51</td>\n",
       "      <td>61.03</td>\n",
       "      <td>281.1</td>\n",
       "      <td>7.8</td>\n",
       "      <td>D</td>\n",
       "      <td>0</td>\n",
       "      <td>2025-01-31 22:07:00</td>\n",
       "    </tr>\n",
       "  </tbody>\n",
       "</table>\n",
       "<p>2960422 rows × 13 columns</p>\n",
       "</div>"
      ]
     },
     "execution_count": 21,
     "metadata": {},
     "output_type": "execute_result"
    }
   ],
   "execution_count": 21
  },
  {
   "metadata": {
    "ExecuteTime": {
     "end_time": "2025-06-28T23:53:33.086120600Z",
     "start_time": "2025-06-26T23:43:33.039826Z"
    }
   },
   "cell_type": "code",
   "source": "data['satellite'].unique()",
   "id": "d0156549cb504d6a",
   "outputs": [
    {
     "data": {
      "text/plain": [
       "array(['Terra', 'Aqua'], dtype=object)"
      ]
     },
     "execution_count": 22,
     "metadata": {},
     "output_type": "execute_result"
    }
   ],
   "execution_count": 22
  },
  {
   "metadata": {
    "ExecuteTime": {
     "end_time": "2025-06-28T23:53:33.087282200Z",
     "start_time": "2025-06-26T23:43:34.750178Z"
    }
   },
   "cell_type": "code",
   "source": [
    "from statsmodels.stats.outliers_influence import variance_inflation_factor\n",
    "from statsmodels.tools.tools import add_constant\n",
    "\n",
    "data_vif = add_constant(data[['latitude','longitude','brightness','scan','track','confidence','version','bright_t31','frp','daynight','acq_datetime','satellite']])\n",
    "data_vif=data_vif[data_vif['type'] != 1]\n",
    "data_vif['daynight']=data_vif['daynight'].map({'N':0,'D':1})\n",
    "data_vif['acq_datetime'] = data_vif['acq_datetime'].apply(lambda x: x.toordinal())\n",
    "data_vif['satellite']=data_vif['satellite'].map({\"Terra\":0,'Aqua':1})\n",
    "\n",
    "vif_data = pd.DataFrame()\n",
    "vif_data[\"Feature\"] = data_vif.columns\n",
    "vif_data[\"VIF\"] = [variance_inflation_factor(data_vif.values, i) for i in range(data_vif.shape[1])]\n",
    "\n",
    "print(vif_data)"
   ],
   "id": "6852c3787dd54a85",
   "outputs": [
    {
     "name": "stdout",
     "output_type": "stream",
     "text": [
      "         Feature            VIF\n",
      "0          const  114704.219699\n",
      "1       latitude       1.743922\n",
      "2      longitude       2.104653\n",
      "3     brightness       3.963634\n",
      "4           scan      30.145053\n",
      "5          track      30.044903\n",
      "6     confidence       1.746700\n",
      "7        version       1.263674\n",
      "8     bright_t31       1.799523\n",
      "9            frp       2.037467\n",
      "10      daynight       1.395078\n",
      "11  acq_datetime       1.272880\n",
      "12     satellite       1.041884\n"
     ]
    }
   ],
   "execution_count": 23
  },
  {
   "metadata": {
    "ExecuteTime": {
     "end_time": "2025-06-28T23:53:33.087282200Z",
     "start_time": "2025-06-27T00:03:46.403145Z"
    }
   },
   "cell_type": "code",
   "source": [
    "from statsmodels.stats.outliers_influence import variance_inflation_factor\n",
    "from statsmodels.tools.tools import add_constant\n",
    "\n",
    "data_vif = add_constant(data[['latitude','longitude','brightness','confidence','bright_t31','frp']])\n",
    "data_vif=data_vif[data_vif['type'] != 1]\n",
    "\n",
    "vif_data = pd.DataFrame()\n",
    "vif_data[\"Feature\"] = data_vif.columns\n",
    "vif_data[\"VIF\"] = [variance_inflation_factor(data_vif.values, i) for i in range(data_vif.shape[1])]\n",
    "\n",
    "print(vif_data)"
   ],
   "id": "5c487bc394cc0034",
   "outputs": [
    {
     "name": "stdout",
     "output_type": "stream",
     "text": [
      "      Feature          VIF\n",
      "0       const  1128.215662\n",
      "1    latitude     1.690825\n",
      "2   longitude     1.793616\n",
      "3  brightness     3.788937\n",
      "4  confidence     1.701307\n",
      "5  bright_t31     1.657724\n",
      "6         frp     1.822206\n"
     ]
    }
   ],
   "execution_count": 24
  },
  {
   "metadata": {
    "ExecuteTime": {
     "end_time": "2025-06-28T23:53:33.088427200Z",
     "start_time": "2025-06-27T00:03:55.067390Z"
    }
   },
   "cell_type": "code",
   "source": [
    "import statsmodels.api as sm\n",
    "\n",
    "temp_data = add_constant(data)\n",
    "temp_data=temp_data[temp_data['type'] != 1]\n",
    "temp_data['daynight']=temp_data['daynight'].map({'N':0,'D':1})\n",
    "temp_data['acq_datetime'] = temp_data['acq_datetime'].apply(lambda x: x.toordinal())\n",
    "temp_data['satellite']=temp_data['satellite'].map({\"Terra\":0,'Aqua':1})\n",
    "\n",
    "X=temp_data.drop(['confidence'],axis=1)\n",
    "X=sm.add_constant(X)\n",
    "y=temp_data['confidence']\n",
    "model=sm.OLS(y,X).fit()\n",
    "\n",
    "model.summary()"
   ],
   "id": "e91830c824e36794",
   "outputs": [
    {
     "data": {
      "text/plain": [
       "<class 'statsmodels.iolib.summary.Summary'>\n",
       "\"\"\"\n",
       "                            OLS Regression Results                            \n",
       "==============================================================================\n",
       "Dep. Variable:             confidence   R-squared:                       0.427\n",
       "Model:                            OLS   Adj. R-squared:                  0.427\n",
       "Method:                 Least Squares   F-statistic:                 2.010e+05\n",
       "Date:                Thu, 26 Jun 2025   Prob (F-statistic):               0.00\n",
       "Time:                        18:04:07   Log-Likelihood:            -1.2665e+07\n",
       "No. Observations:             2960422   AIC:                         2.533e+07\n",
       "Df Residuals:                 2960410   BIC:                         2.533e+07\n",
       "Df Model:                          11                                         \n",
       "Covariance Type:            nonrobust                                         \n",
       "================================================================================\n",
       "                   coef    std err          t      P>|t|      [0.025      0.975]\n",
       "--------------------------------------------------------------------------------\n",
       "const          -67.5930      3.434    -19.683      0.000     -74.324     -60.862\n",
       "latitude        -0.1248      0.001    -98.702      0.000      -0.127      -0.122\n",
       "longitude        0.0370      0.001     54.791      0.000       0.036       0.038\n",
       "brightness       0.8243      0.001   1195.380      0.000       0.823       0.826\n",
       "scan             1.2077      0.068     17.741      0.000       1.074       1.341\n",
       "track            0.6497      0.223      2.914      0.004       0.213       1.087\n",
       "version          0.0098      0.001     12.446      0.000       0.008       0.011\n",
       "bright_t31      -0.2630      0.001   -187.800      0.000      -0.266      -0.260\n",
       "frp             -0.0272   6.55e-05   -415.308      0.000      -0.027      -0.027\n",
       "daynight        -7.7767      0.029   -265.660      0.000      -7.834      -7.719\n",
       "acq_datetime -5.539e-05   4.65e-06    -11.923      0.000   -6.45e-05   -4.63e-05\n",
       "satellite        0.0612      0.021      2.957      0.003       0.021       0.102\n",
       "==============================================================================\n",
       "Omnibus:                   820392.433   Durbin-Watson:                   1.646\n",
       "Prob(Omnibus):                  0.000   Jarque-Bera (JB):          2746316.625\n",
       "Skew:                          -1.398   Prob(JB):                         0.00\n",
       "Kurtosis:                       6.801   Cond. No.                     2.49e+08\n",
       "==============================================================================\n",
       "\n",
       "Notes:\n",
       "[1] Standard Errors assume that the covariance matrix of the errors is correctly specified.\n",
       "[2] The condition number is large, 2.49e+08. This might indicate that there are\n",
       "strong multicollinearity or other numerical problems.\n",
       "\"\"\""
      ],
      "text/html": [
       "<table class=\"simpletable\">\n",
       "<caption>OLS Regression Results</caption>\n",
       "<tr>\n",
       "  <th>Dep. Variable:</th>       <td>confidence</td>    <th>  R-squared:         </th>  <td>   0.427</td>  \n",
       "</tr>\n",
       "<tr>\n",
       "  <th>Model:</th>                   <td>OLS</td>       <th>  Adj. R-squared:    </th>  <td>   0.427</td>  \n",
       "</tr>\n",
       "<tr>\n",
       "  <th>Method:</th>             <td>Least Squares</td>  <th>  F-statistic:       </th>  <td>2.010e+05</td> \n",
       "</tr>\n",
       "<tr>\n",
       "  <th>Date:</th>             <td>Thu, 26 Jun 2025</td> <th>  Prob (F-statistic):</th>   <td>  0.00</td>   \n",
       "</tr>\n",
       "<tr>\n",
       "  <th>Time:</th>                 <td>18:04:07</td>     <th>  Log-Likelihood:    </th> <td>-1.2665e+07</td>\n",
       "</tr>\n",
       "<tr>\n",
       "  <th>No. Observations:</th>      <td>2960422</td>     <th>  AIC:               </th>  <td>2.533e+07</td> \n",
       "</tr>\n",
       "<tr>\n",
       "  <th>Df Residuals:</th>          <td>2960410</td>     <th>  BIC:               </th>  <td>2.533e+07</td> \n",
       "</tr>\n",
       "<tr>\n",
       "  <th>Df Model:</th>              <td>    11</td>      <th>                     </th>      <td> </td>     \n",
       "</tr>\n",
       "<tr>\n",
       "  <th>Covariance Type:</th>      <td>nonrobust</td>    <th>                     </th>      <td> </td>     \n",
       "</tr>\n",
       "</table>\n",
       "<table class=\"simpletable\">\n",
       "<tr>\n",
       "        <td></td>          <th>coef</th>     <th>std err</th>      <th>t</th>      <th>P>|t|</th>  <th>[0.025</th>    <th>0.975]</th>  \n",
       "</tr>\n",
       "<tr>\n",
       "  <th>const</th>        <td>  -67.5930</td> <td>    3.434</td> <td>  -19.683</td> <td> 0.000</td> <td>  -74.324</td> <td>  -60.862</td>\n",
       "</tr>\n",
       "<tr>\n",
       "  <th>latitude</th>     <td>   -0.1248</td> <td>    0.001</td> <td>  -98.702</td> <td> 0.000</td> <td>   -0.127</td> <td>   -0.122</td>\n",
       "</tr>\n",
       "<tr>\n",
       "  <th>longitude</th>    <td>    0.0370</td> <td>    0.001</td> <td>   54.791</td> <td> 0.000</td> <td>    0.036</td> <td>    0.038</td>\n",
       "</tr>\n",
       "<tr>\n",
       "  <th>brightness</th>   <td>    0.8243</td> <td>    0.001</td> <td> 1195.380</td> <td> 0.000</td> <td>    0.823</td> <td>    0.826</td>\n",
       "</tr>\n",
       "<tr>\n",
       "  <th>scan</th>         <td>    1.2077</td> <td>    0.068</td> <td>   17.741</td> <td> 0.000</td> <td>    1.074</td> <td>    1.341</td>\n",
       "</tr>\n",
       "<tr>\n",
       "  <th>track</th>        <td>    0.6497</td> <td>    0.223</td> <td>    2.914</td> <td> 0.004</td> <td>    0.213</td> <td>    1.087</td>\n",
       "</tr>\n",
       "<tr>\n",
       "  <th>version</th>      <td>    0.0098</td> <td>    0.001</td> <td>   12.446</td> <td> 0.000</td> <td>    0.008</td> <td>    0.011</td>\n",
       "</tr>\n",
       "<tr>\n",
       "  <th>bright_t31</th>   <td>   -0.2630</td> <td>    0.001</td> <td> -187.800</td> <td> 0.000</td> <td>   -0.266</td> <td>   -0.260</td>\n",
       "</tr>\n",
       "<tr>\n",
       "  <th>frp</th>          <td>   -0.0272</td> <td> 6.55e-05</td> <td> -415.308</td> <td> 0.000</td> <td>   -0.027</td> <td>   -0.027</td>\n",
       "</tr>\n",
       "<tr>\n",
       "  <th>daynight</th>     <td>   -7.7767</td> <td>    0.029</td> <td> -265.660</td> <td> 0.000</td> <td>   -7.834</td> <td>   -7.719</td>\n",
       "</tr>\n",
       "<tr>\n",
       "  <th>acq_datetime</th> <td>-5.539e-05</td> <td> 4.65e-06</td> <td>  -11.923</td> <td> 0.000</td> <td>-6.45e-05</td> <td>-4.63e-05</td>\n",
       "</tr>\n",
       "<tr>\n",
       "  <th>satellite</th>    <td>    0.0612</td> <td>    0.021</td> <td>    2.957</td> <td> 0.003</td> <td>    0.021</td> <td>    0.102</td>\n",
       "</tr>\n",
       "</table>\n",
       "<table class=\"simpletable\">\n",
       "<tr>\n",
       "  <th>Omnibus:</th>       <td>820392.433</td> <th>  Durbin-Watson:     </th>  <td>   1.646</td>  \n",
       "</tr>\n",
       "<tr>\n",
       "  <th>Prob(Omnibus):</th>   <td> 0.000</td>   <th>  Jarque-Bera (JB):  </th> <td>2746316.625</td>\n",
       "</tr>\n",
       "<tr>\n",
       "  <th>Skew:</th>            <td>-1.398</td>   <th>  Prob(JB):          </th>  <td>    0.00</td>  \n",
       "</tr>\n",
       "<tr>\n",
       "  <th>Kurtosis:</th>        <td> 6.801</td>   <th>  Cond. No.          </th>  <td>2.49e+08</td>  \n",
       "</tr>\n",
       "</table><br/><br/>Notes:<br/>[1] Standard Errors assume that the covariance matrix of the errors is correctly specified.<br/>[2] The condition number is large, 2.49e+08. This might indicate that there are<br/>strong multicollinearity or other numerical problems."
      ],
      "text/latex": "\\begin{center}\n\\begin{tabular}{lclc}\n\\toprule\n\\textbf{Dep. Variable:}    &    confidence    & \\textbf{  R-squared:         } &      0.427   \\\\\n\\textbf{Model:}            &       OLS        & \\textbf{  Adj. R-squared:    } &      0.427   \\\\\n\\textbf{Method:}           &  Least Squares   & \\textbf{  F-statistic:       } &  2.010e+05   \\\\\n\\textbf{Date:}             & Thu, 26 Jun 2025 & \\textbf{  Prob (F-statistic):} &      0.00    \\\\\n\\textbf{Time:}             &     18:04:07     & \\textbf{  Log-Likelihood:    } & -1.2665e+07  \\\\\n\\textbf{No. Observations:} &     2960422      & \\textbf{  AIC:               } &  2.533e+07   \\\\\n\\textbf{Df Residuals:}     &     2960410      & \\textbf{  BIC:               } &  2.533e+07   \\\\\n\\textbf{Df Model:}         &          11      & \\textbf{                     } &              \\\\\n\\textbf{Covariance Type:}  &    nonrobust     & \\textbf{                     } &              \\\\\n\\bottomrule\n\\end{tabular}\n\\begin{tabular}{lcccccc}\n                       & \\textbf{coef} & \\textbf{std err} & \\textbf{t} & \\textbf{P$> |$t$|$} & \\textbf{[0.025} & \\textbf{0.975]}  \\\\\n\\midrule\n\\textbf{const}         &     -67.5930  &        3.434     &   -19.683  &         0.000        &      -74.324    &      -60.862     \\\\\n\\textbf{latitude}      &      -0.1248  &        0.001     &   -98.702  &         0.000        &       -0.127    &       -0.122     \\\\\n\\textbf{longitude}     &       0.0370  &        0.001     &    54.791  &         0.000        &        0.036    &        0.038     \\\\\n\\textbf{brightness}    &       0.8243  &        0.001     &  1195.380  &         0.000        &        0.823    &        0.826     \\\\\n\\textbf{scan}          &       1.2077  &        0.068     &    17.741  &         0.000        &        1.074    &        1.341     \\\\\n\\textbf{track}         &       0.6497  &        0.223     &     2.914  &         0.004        &        0.213    &        1.087     \\\\\n\\textbf{version}       &       0.0098  &        0.001     &    12.446  &         0.000        &        0.008    &        0.011     \\\\\n\\textbf{bright\\_t31}   &      -0.2630  &        0.001     &  -187.800  &         0.000        &       -0.266    &       -0.260     \\\\\n\\textbf{frp}           &      -0.0272  &     6.55e-05     &  -415.308  &         0.000        &       -0.027    &       -0.027     \\\\\n\\textbf{daynight}      &      -7.7767  &        0.029     &  -265.660  &         0.000        &       -7.834    &       -7.719     \\\\\n\\textbf{acq\\_datetime} &   -5.539e-05  &     4.65e-06     &   -11.923  &         0.000        &    -6.45e-05    &    -4.63e-05     \\\\\n\\textbf{satellite}     &       0.0612  &        0.021     &     2.957  &         0.003        &        0.021    &        0.102     \\\\\n\\bottomrule\n\\end{tabular}\n\\begin{tabular}{lclc}\n\\textbf{Omnibus:}       & 820392.433 & \\textbf{  Durbin-Watson:     } &      1.646   \\\\\n\\textbf{Prob(Omnibus):} &    0.000   & \\textbf{  Jarque-Bera (JB):  } & 2746316.625  \\\\\n\\textbf{Skew:}          &   -1.398   & \\textbf{  Prob(JB):          } &       0.00   \\\\\n\\textbf{Kurtosis:}      &    6.801   & \\textbf{  Cond. No.          } &   2.49e+08   \\\\\n\\bottomrule\n\\end{tabular}\n%\\caption{OLS Regression Results}\n\\end{center}\n\nNotes: \\newline\n [1] Standard Errors assume that the covariance matrix of the errors is correctly specified. \\newline\n [2] The condition number is large, 2.49e+08. This might indicate that there are \\newline\n strong multicollinearity or other numerical problems."
     },
     "execution_count": 25,
     "metadata": {},
     "output_type": "execute_result"
    }
   ],
   "execution_count": 25
  },
  {
   "metadata": {
    "ExecuteTime": {
     "end_time": "2025-06-28T23:53:33.090431Z",
     "start_time": "2025-06-27T00:04:32.663407Z"
    }
   },
   "cell_type": "code",
   "source": [
    "temp_data = add_constant(data[['scan','track','confidence']])\n",
    "temp_data=temp_data[temp_data['type'] != 1]\n",
    "\n",
    "X=temp_data.drop(['confidence'],axis=1)\n",
    "X=sm.add_constant(X)\n",
    "y=temp_data['confidence']\n",
    "model=sm.OLS(y,X).fit()\n",
    "\n",
    "model.summary()"
   ],
   "id": "e3d4fab4395c80fa",
   "outputs": [
    {
     "data": {
      "text/plain": [
       "<class 'statsmodels.iolib.summary.Summary'>\n",
       "\"\"\"\n",
       "                            OLS Regression Results                            \n",
       "==============================================================================\n",
       "Dep. Variable:             confidence   R-squared:                       0.001\n",
       "Model:                            OLS   Adj. R-squared:                  0.001\n",
       "Method:                 Least Squares   F-statistic:                     1481.\n",
       "Date:                Thu, 26 Jun 2025   Prob (F-statistic):               0.00\n",
       "Time:                        18:04:33   Log-Likelihood:            -1.3489e+07\n",
       "No. Observations:             2960422   AIC:                         2.698e+07\n",
       "Df Residuals:                 2960419   BIC:                         2.698e+07\n",
       "Df Model:                           2                                         \n",
       "Covariance Type:            nonrobust                                         \n",
       "==============================================================================\n",
       "                 coef    std err          t      P>|t|      [0.025      0.975]\n",
       "------------------------------------------------------------------------------\n",
       "const         68.3616      0.217    315.675      0.000      67.937      68.786\n",
       "scan          -1.4364      0.090    -16.007      0.000      -1.612      -1.260\n",
       "track          1.8380      0.294      6.244      0.000       1.261       2.415\n",
       "==============================================================================\n",
       "Omnibus:                   131964.453   Durbin-Watson:                   1.491\n",
       "Prob(Omnibus):                  0.000   Jarque-Bera (JB):           150413.805\n",
       "Skew:                          -0.551   Prob(JB):                         0.00\n",
       "Kurtosis:                       2.939   Cond. No.                         66.3\n",
       "==============================================================================\n",
       "\n",
       "Notes:\n",
       "[1] Standard Errors assume that the covariance matrix of the errors is correctly specified.\n",
       "\"\"\""
      ],
      "text/html": [
       "<table class=\"simpletable\">\n",
       "<caption>OLS Regression Results</caption>\n",
       "<tr>\n",
       "  <th>Dep. Variable:</th>       <td>confidence</td>    <th>  R-squared:         </th>  <td>   0.001</td>  \n",
       "</tr>\n",
       "<tr>\n",
       "  <th>Model:</th>                   <td>OLS</td>       <th>  Adj. R-squared:    </th>  <td>   0.001</td>  \n",
       "</tr>\n",
       "<tr>\n",
       "  <th>Method:</th>             <td>Least Squares</td>  <th>  F-statistic:       </th>  <td>   1481.</td>  \n",
       "</tr>\n",
       "<tr>\n",
       "  <th>Date:</th>             <td>Thu, 26 Jun 2025</td> <th>  Prob (F-statistic):</th>   <td>  0.00</td>   \n",
       "</tr>\n",
       "<tr>\n",
       "  <th>Time:</th>                 <td>18:04:33</td>     <th>  Log-Likelihood:    </th> <td>-1.3489e+07</td>\n",
       "</tr>\n",
       "<tr>\n",
       "  <th>No. Observations:</th>      <td>2960422</td>     <th>  AIC:               </th>  <td>2.698e+07</td> \n",
       "</tr>\n",
       "<tr>\n",
       "  <th>Df Residuals:</th>          <td>2960419</td>     <th>  BIC:               </th>  <td>2.698e+07</td> \n",
       "</tr>\n",
       "<tr>\n",
       "  <th>Df Model:</th>              <td>     2</td>      <th>                     </th>      <td> </td>     \n",
       "</tr>\n",
       "<tr>\n",
       "  <th>Covariance Type:</th>      <td>nonrobust</td>    <th>                     </th>      <td> </td>     \n",
       "</tr>\n",
       "</table>\n",
       "<table class=\"simpletable\">\n",
       "<tr>\n",
       "    <td></td>       <th>coef</th>     <th>std err</th>      <th>t</th>      <th>P>|t|</th>  <th>[0.025</th>    <th>0.975]</th>  \n",
       "</tr>\n",
       "<tr>\n",
       "  <th>const</th> <td>   68.3616</td> <td>    0.217</td> <td>  315.675</td> <td> 0.000</td> <td>   67.937</td> <td>   68.786</td>\n",
       "</tr>\n",
       "<tr>\n",
       "  <th>scan</th>  <td>   -1.4364</td> <td>    0.090</td> <td>  -16.007</td> <td> 0.000</td> <td>   -1.612</td> <td>   -1.260</td>\n",
       "</tr>\n",
       "<tr>\n",
       "  <th>track</th> <td>    1.8380</td> <td>    0.294</td> <td>    6.244</td> <td> 0.000</td> <td>    1.261</td> <td>    2.415</td>\n",
       "</tr>\n",
       "</table>\n",
       "<table class=\"simpletable\">\n",
       "<tr>\n",
       "  <th>Omnibus:</th>       <td>131964.453</td> <th>  Durbin-Watson:     </th>  <td>   1.491</td> \n",
       "</tr>\n",
       "<tr>\n",
       "  <th>Prob(Omnibus):</th>   <td> 0.000</td>   <th>  Jarque-Bera (JB):  </th> <td>150413.805</td>\n",
       "</tr>\n",
       "<tr>\n",
       "  <th>Skew:</th>            <td>-0.551</td>   <th>  Prob(JB):          </th>  <td>    0.00</td> \n",
       "</tr>\n",
       "<tr>\n",
       "  <th>Kurtosis:</th>        <td> 2.939</td>   <th>  Cond. No.          </th>  <td>    66.3</td> \n",
       "</tr>\n",
       "</table><br/><br/>Notes:<br/>[1] Standard Errors assume that the covariance matrix of the errors is correctly specified."
      ],
      "text/latex": "\\begin{center}\n\\begin{tabular}{lclc}\n\\toprule\n\\textbf{Dep. Variable:}    &    confidence    & \\textbf{  R-squared:         } &      0.001   \\\\\n\\textbf{Model:}            &       OLS        & \\textbf{  Adj. R-squared:    } &      0.001   \\\\\n\\textbf{Method:}           &  Least Squares   & \\textbf{  F-statistic:       } &      1481.   \\\\\n\\textbf{Date:}             & Thu, 26 Jun 2025 & \\textbf{  Prob (F-statistic):} &      0.00    \\\\\n\\textbf{Time:}             &     18:04:33     & \\textbf{  Log-Likelihood:    } & -1.3489e+07  \\\\\n\\textbf{No. Observations:} &     2960422      & \\textbf{  AIC:               } &  2.698e+07   \\\\\n\\textbf{Df Residuals:}     &     2960419      & \\textbf{  BIC:               } &  2.698e+07   \\\\\n\\textbf{Df Model:}         &           2      & \\textbf{                     } &              \\\\\n\\textbf{Covariance Type:}  &    nonrobust     & \\textbf{                     } &              \\\\\n\\bottomrule\n\\end{tabular}\n\\begin{tabular}{lcccccc}\n               & \\textbf{coef} & \\textbf{std err} & \\textbf{t} & \\textbf{P$> |$t$|$} & \\textbf{[0.025} & \\textbf{0.975]}  \\\\\n\\midrule\n\\textbf{const} &      68.3616  &        0.217     &   315.675  &         0.000        &       67.937    &       68.786     \\\\\n\\textbf{scan}  &      -1.4364  &        0.090     &   -16.007  &         0.000        &       -1.612    &       -1.260     \\\\\n\\textbf{track} &       1.8380  &        0.294     &     6.244  &         0.000        &        1.261    &        2.415     \\\\\n\\bottomrule\n\\end{tabular}\n\\begin{tabular}{lclc}\n\\textbf{Omnibus:}       & 131964.453 & \\textbf{  Durbin-Watson:     } &     1.491   \\\\\n\\textbf{Prob(Omnibus):} &    0.000   & \\textbf{  Jarque-Bera (JB):  } & 150413.805  \\\\\n\\textbf{Skew:}          &   -0.551   & \\textbf{  Prob(JB):          } &      0.00   \\\\\n\\textbf{Kurtosis:}      &    2.939   & \\textbf{  Cond. No.          } &      66.3   \\\\\n\\bottomrule\n\\end{tabular}\n%\\caption{OLS Regression Results}\n\\end{center}\n\nNotes: \\newline\n [1] Standard Errors assume that the covariance matrix of the errors is correctly specified."
     },
     "execution_count": 27,
     "metadata": {},
     "output_type": "execute_result"
    }
   ],
   "execution_count": 27
  },
  {
   "metadata": {
    "ExecuteTime": {
     "end_time": "2025-06-28T23:53:33.091430900Z",
     "start_time": "2025-06-27T00:24:44.655738Z"
    }
   },
   "cell_type": "code",
   "source": [
    "X=data.drop(['confidence','satellite','scan','track','version'],axis=1)\n",
    "X=X[X['type'] != 1]\n",
    "X['daynight']=X['daynight'].map({\"N\":0,\"D\":1})\n",
    "X['acq_datetime'] = X['acq_datetime'].apply(lambda x: x.toordinal())\n",
    "\n",
    "y=data[data['type'] != 1]['confidence']\n",
    "\n",
    "X_train,X_test,y_train,y_test=train_test_split(X,y,test_size=0.7)\n",
    "\n",
    "rf=RandomForestRegressor(n_estimators=60)\n",
    "rf.fit(X_train, y_train)\n",
    "\n",
    "y_pred = rf.predict(X_test)\n",
    "\n",
    "print(\"R^2 score:\", r2_score(y_test, y_pred))\n",
    "print(\"RMSE:\", (mean_squared_error(y_test, y_pred)**0.5)/100)"
   ],
   "id": "6d61229c14c450f",
   "outputs": [
    {
     "ename": "KeyboardInterrupt",
     "evalue": "",
     "output_type": "error",
     "traceback": [
      "\u001B[31m---------------------------------------------------------------------------\u001B[39m",
      "\u001B[31mKeyboardInterrupt\u001B[39m                         Traceback (most recent call last)",
      "\u001B[36mCell\u001B[39m\u001B[36m \u001B[39m\u001B[32mIn[29]\u001B[39m\u001B[32m, line 10\u001B[39m\n\u001B[32m      7\u001B[39m X_train,X_test,y_train,y_test=train_test_split(X,y,test_size=\u001B[32m0.7\u001B[39m)\n\u001B[32m      9\u001B[39m rf=RandomForestRegressor(n_estimators=\u001B[32m80\u001B[39m)\n\u001B[32m---> \u001B[39m\u001B[32m10\u001B[39m rf.fit(X_train, y_train)\n\u001B[32m     12\u001B[39m y_pred = rf.predict(X_test)\n\u001B[32m     14\u001B[39m \u001B[38;5;28mprint\u001B[39m(\u001B[33m\"\u001B[39m\u001B[33mR^2 score:\u001B[39m\u001B[33m\"\u001B[39m, r2_score(y_test, y_pred))\n",
      "\u001B[36mFile \u001B[39m\u001B[32m~\\miniconda3\\Lib\\site-packages\\sklearn\\base.py:1389\u001B[39m, in \u001B[36m_fit_context.<locals>.decorator.<locals>.wrapper\u001B[39m\u001B[34m(estimator, *args, **kwargs)\u001B[39m\n\u001B[32m   1382\u001B[39m     estimator._validate_params()\n\u001B[32m   1384\u001B[39m \u001B[38;5;28;01mwith\u001B[39;00m config_context(\n\u001B[32m   1385\u001B[39m     skip_parameter_validation=(\n\u001B[32m   1386\u001B[39m         prefer_skip_nested_validation \u001B[38;5;129;01mor\u001B[39;00m global_skip_validation\n\u001B[32m   1387\u001B[39m     )\n\u001B[32m   1388\u001B[39m ):\n\u001B[32m-> \u001B[39m\u001B[32m1389\u001B[39m     \u001B[38;5;28;01mreturn\u001B[39;00m fit_method(estimator, *args, **kwargs)\n",
      "\u001B[36mFile \u001B[39m\u001B[32m~\\miniconda3\\Lib\\site-packages\\sklearn\\ensemble\\_forest.py:487\u001B[39m, in \u001B[36mBaseForest.fit\u001B[39m\u001B[34m(self, X, y, sample_weight)\u001B[39m\n\u001B[32m    476\u001B[39m trees = [\n\u001B[32m    477\u001B[39m     \u001B[38;5;28mself\u001B[39m._make_estimator(append=\u001B[38;5;28;01mFalse\u001B[39;00m, random_state=random_state)\n\u001B[32m    478\u001B[39m     \u001B[38;5;28;01mfor\u001B[39;00m i \u001B[38;5;129;01min\u001B[39;00m \u001B[38;5;28mrange\u001B[39m(n_more_estimators)\n\u001B[32m    479\u001B[39m ]\n\u001B[32m    481\u001B[39m \u001B[38;5;66;03m# Parallel loop: we prefer the threading backend as the Cython code\u001B[39;00m\n\u001B[32m    482\u001B[39m \u001B[38;5;66;03m# for fitting the trees is internally releasing the Python GIL\u001B[39;00m\n\u001B[32m    483\u001B[39m \u001B[38;5;66;03m# making threading more efficient than multiprocessing in\u001B[39;00m\n\u001B[32m    484\u001B[39m \u001B[38;5;66;03m# that case. However, for joblib 0.12+ we respect any\u001B[39;00m\n\u001B[32m    485\u001B[39m \u001B[38;5;66;03m# parallel_backend contexts set at a higher level,\u001B[39;00m\n\u001B[32m    486\u001B[39m \u001B[38;5;66;03m# since correctness does not rely on using threads.\u001B[39;00m\n\u001B[32m--> \u001B[39m\u001B[32m487\u001B[39m trees = Parallel(\n\u001B[32m    488\u001B[39m     n_jobs=\u001B[38;5;28mself\u001B[39m.n_jobs,\n\u001B[32m    489\u001B[39m     verbose=\u001B[38;5;28mself\u001B[39m.verbose,\n\u001B[32m    490\u001B[39m     prefer=\u001B[33m\"\u001B[39m\u001B[33mthreads\u001B[39m\u001B[33m\"\u001B[39m,\n\u001B[32m    491\u001B[39m )(\n\u001B[32m    492\u001B[39m     delayed(_parallel_build_trees)(\n\u001B[32m    493\u001B[39m         t,\n\u001B[32m    494\u001B[39m         \u001B[38;5;28mself\u001B[39m.bootstrap,\n\u001B[32m    495\u001B[39m         X,\n\u001B[32m    496\u001B[39m         y,\n\u001B[32m    497\u001B[39m         sample_weight,\n\u001B[32m    498\u001B[39m         i,\n\u001B[32m    499\u001B[39m         \u001B[38;5;28mlen\u001B[39m(trees),\n\u001B[32m    500\u001B[39m         verbose=\u001B[38;5;28mself\u001B[39m.verbose,\n\u001B[32m    501\u001B[39m         class_weight=\u001B[38;5;28mself\u001B[39m.class_weight,\n\u001B[32m    502\u001B[39m         n_samples_bootstrap=n_samples_bootstrap,\n\u001B[32m    503\u001B[39m         missing_values_in_feature_mask=missing_values_in_feature_mask,\n\u001B[32m    504\u001B[39m     )\n\u001B[32m    505\u001B[39m     \u001B[38;5;28;01mfor\u001B[39;00m i, t \u001B[38;5;129;01min\u001B[39;00m \u001B[38;5;28menumerate\u001B[39m(trees)\n\u001B[32m    506\u001B[39m )\n\u001B[32m    508\u001B[39m \u001B[38;5;66;03m# Collect newly grown trees\u001B[39;00m\n\u001B[32m    509\u001B[39m \u001B[38;5;28mself\u001B[39m.estimators_.extend(trees)\n",
      "\u001B[36mFile \u001B[39m\u001B[32m~\\miniconda3\\Lib\\site-packages\\sklearn\\utils\\parallel.py:77\u001B[39m, in \u001B[36mParallel.__call__\u001B[39m\u001B[34m(self, iterable)\u001B[39m\n\u001B[32m     72\u001B[39m config = get_config()\n\u001B[32m     73\u001B[39m iterable_with_config = (\n\u001B[32m     74\u001B[39m     (_with_config(delayed_func, config), args, kwargs)\n\u001B[32m     75\u001B[39m     \u001B[38;5;28;01mfor\u001B[39;00m delayed_func, args, kwargs \u001B[38;5;129;01min\u001B[39;00m iterable\n\u001B[32m     76\u001B[39m )\n\u001B[32m---> \u001B[39m\u001B[32m77\u001B[39m \u001B[38;5;28;01mreturn\u001B[39;00m \u001B[38;5;28msuper\u001B[39m().\u001B[34m__call__\u001B[39m(iterable_with_config)\n",
      "\u001B[36mFile \u001B[39m\u001B[32m~\\miniconda3\\Lib\\site-packages\\joblib\\parallel.py:1918\u001B[39m, in \u001B[36mParallel.__call__\u001B[39m\u001B[34m(self, iterable)\u001B[39m\n\u001B[32m   1916\u001B[39m     output = \u001B[38;5;28mself\u001B[39m._get_sequential_output(iterable)\n\u001B[32m   1917\u001B[39m     \u001B[38;5;28mnext\u001B[39m(output)\n\u001B[32m-> \u001B[39m\u001B[32m1918\u001B[39m     \u001B[38;5;28;01mreturn\u001B[39;00m output \u001B[38;5;28;01mif\u001B[39;00m \u001B[38;5;28mself\u001B[39m.return_generator \u001B[38;5;28;01melse\u001B[39;00m \u001B[38;5;28mlist\u001B[39m(output)\n\u001B[32m   1920\u001B[39m \u001B[38;5;66;03m# Let's create an ID that uniquely identifies the current call. If the\u001B[39;00m\n\u001B[32m   1921\u001B[39m \u001B[38;5;66;03m# call is interrupted early and that the same instance is immediately\u001B[39;00m\n\u001B[32m   1922\u001B[39m \u001B[38;5;66;03m# re-used, this id will be used to prevent workers that were\u001B[39;00m\n\u001B[32m   1923\u001B[39m \u001B[38;5;66;03m# concurrently finalizing a task from the previous call to run the\u001B[39;00m\n\u001B[32m   1924\u001B[39m \u001B[38;5;66;03m# callback.\u001B[39;00m\n\u001B[32m   1925\u001B[39m \u001B[38;5;28;01mwith\u001B[39;00m \u001B[38;5;28mself\u001B[39m._lock:\n",
      "\u001B[36mFile \u001B[39m\u001B[32m~\\miniconda3\\Lib\\site-packages\\joblib\\parallel.py:1847\u001B[39m, in \u001B[36mParallel._get_sequential_output\u001B[39m\u001B[34m(self, iterable)\u001B[39m\n\u001B[32m   1845\u001B[39m \u001B[38;5;28mself\u001B[39m.n_dispatched_batches += \u001B[32m1\u001B[39m\n\u001B[32m   1846\u001B[39m \u001B[38;5;28mself\u001B[39m.n_dispatched_tasks += \u001B[32m1\u001B[39m\n\u001B[32m-> \u001B[39m\u001B[32m1847\u001B[39m res = func(*args, **kwargs)\n\u001B[32m   1848\u001B[39m \u001B[38;5;28mself\u001B[39m.n_completed_tasks += \u001B[32m1\u001B[39m\n\u001B[32m   1849\u001B[39m \u001B[38;5;28mself\u001B[39m.print_progress()\n",
      "\u001B[36mFile \u001B[39m\u001B[32m~\\miniconda3\\Lib\\site-packages\\sklearn\\utils\\parallel.py:139\u001B[39m, in \u001B[36m_FuncWrapper.__call__\u001B[39m\u001B[34m(self, *args, **kwargs)\u001B[39m\n\u001B[32m    137\u001B[39m     config = {}\n\u001B[32m    138\u001B[39m \u001B[38;5;28;01mwith\u001B[39;00m config_context(**config):\n\u001B[32m--> \u001B[39m\u001B[32m139\u001B[39m     \u001B[38;5;28;01mreturn\u001B[39;00m \u001B[38;5;28mself\u001B[39m.function(*args, **kwargs)\n",
      "\u001B[36mFile \u001B[39m\u001B[32m~\\miniconda3\\Lib\\site-packages\\sklearn\\ensemble\\_forest.py:189\u001B[39m, in \u001B[36m_parallel_build_trees\u001B[39m\u001B[34m(tree, bootstrap, X, y, sample_weight, tree_idx, n_trees, verbose, class_weight, n_samples_bootstrap, missing_values_in_feature_mask)\u001B[39m\n\u001B[32m    186\u001B[39m     \u001B[38;5;28;01melif\u001B[39;00m class_weight == \u001B[33m\"\u001B[39m\u001B[33mbalanced_subsample\u001B[39m\u001B[33m\"\u001B[39m:\n\u001B[32m    187\u001B[39m         curr_sample_weight *= compute_sample_weight(\u001B[33m\"\u001B[39m\u001B[33mbalanced\u001B[39m\u001B[33m\"\u001B[39m, y, indices=indices)\n\u001B[32m--> \u001B[39m\u001B[32m189\u001B[39m     tree._fit(\n\u001B[32m    190\u001B[39m         X,\n\u001B[32m    191\u001B[39m         y,\n\u001B[32m    192\u001B[39m         sample_weight=curr_sample_weight,\n\u001B[32m    193\u001B[39m         check_input=\u001B[38;5;28;01mFalse\u001B[39;00m,\n\u001B[32m    194\u001B[39m         missing_values_in_feature_mask=missing_values_in_feature_mask,\n\u001B[32m    195\u001B[39m     )\n\u001B[32m    196\u001B[39m \u001B[38;5;28;01melse\u001B[39;00m:\n\u001B[32m    197\u001B[39m     tree._fit(\n\u001B[32m    198\u001B[39m         X,\n\u001B[32m    199\u001B[39m         y,\n\u001B[32m   (...)\u001B[39m\u001B[32m    202\u001B[39m         missing_values_in_feature_mask=missing_values_in_feature_mask,\n\u001B[32m    203\u001B[39m     )\n",
      "\u001B[36mFile \u001B[39m\u001B[32m~\\miniconda3\\Lib\\site-packages\\sklearn\\tree\\_classes.py:472\u001B[39m, in \u001B[36mBaseDecisionTree._fit\u001B[39m\u001B[34m(self, X, y, sample_weight, check_input, missing_values_in_feature_mask)\u001B[39m\n\u001B[32m    461\u001B[39m \u001B[38;5;28;01melse\u001B[39;00m:\n\u001B[32m    462\u001B[39m     builder = BestFirstTreeBuilder(\n\u001B[32m    463\u001B[39m         splitter,\n\u001B[32m    464\u001B[39m         min_samples_split,\n\u001B[32m   (...)\u001B[39m\u001B[32m    469\u001B[39m         \u001B[38;5;28mself\u001B[39m.min_impurity_decrease,\n\u001B[32m    470\u001B[39m     )\n\u001B[32m--> \u001B[39m\u001B[32m472\u001B[39m builder.build(\u001B[38;5;28mself\u001B[39m.tree_, X, y, sample_weight, missing_values_in_feature_mask)\n\u001B[32m    474\u001B[39m \u001B[38;5;28;01mif\u001B[39;00m \u001B[38;5;28mself\u001B[39m.n_outputs_ == \u001B[32m1\u001B[39m \u001B[38;5;129;01mand\u001B[39;00m is_classifier(\u001B[38;5;28mself\u001B[39m):\n\u001B[32m    475\u001B[39m     \u001B[38;5;28mself\u001B[39m.n_classes_ = \u001B[38;5;28mself\u001B[39m.n_classes_[\u001B[32m0\u001B[39m]\n",
      "\u001B[31mKeyboardInterrupt\u001B[39m: "
     ]
    }
   ],
   "execution_count": 29
  },
  {
   "metadata": {},
   "cell_type": "code",
   "outputs": [],
   "execution_count": null,
   "source": "{c:f for c,f in zip(X.columns,rf.feature_importances_)}",
   "id": "1cd1921b59316b99"
  },
  {
   "metadata": {
    "ExecuteTime": {
     "end_time": "2025-07-14T22:02:26.464404Z",
     "start_time": "2025-07-14T22:02:21.433315Z"
    }
   },
   "cell_type": "code",
   "source": [
    "import pandas as pd\n",
    "import os\n",
    "import plotly.graph_objects as go\n",
    "import numpy as np\n",
    "\n",
    "path=os.getcwd()+\"\\\\data\\\\fire_archive_M-C61_626683.csv.xz\"\n",
    "data=pd.read_csv(path)"
   ],
   "id": "46b4858b0871af22",
   "outputs": [],
   "execution_count": 1
  },
  {
   "metadata": {
    "ExecuteTime": {
     "end_time": "2025-07-14T22:02:36.004896Z",
     "start_time": "2025-07-14T22:02:26.471417Z"
    }
   },
   "cell_type": "code",
   "source": [
    "from datetime import timedelta\n",
    "data['acq_date']=pd.to_datetime(data['acq_date'])\n",
    "data['acq_datetime'] = data['acq_date'] + pd.Series([timedelta(minutes=i%100,hours=i//100) for i in data['acq_time']])\n",
    "data.drop('acq_time',axis=1,inplace=True)\n",
    "data.drop('acq_date',axis=1,inplace=True)\n",
    "data.drop('instrument',axis=1,inplace=True)\n",
    "data"
   ],
   "id": "e834b65c8167db8e",
   "outputs": [
    {
     "data": {
      "text/plain": [
       "         latitude  longitude  brightness  scan  track satellite  confidence  \\\n",
       "0         38.5422   -78.3047       304.8   2.8    1.6     Terra          23   \n",
       "1         38.5451   -78.3107       309.9   2.8    1.6     Terra          79   \n",
       "2         38.5563   -78.3084       309.4   2.8    1.6     Terra          70   \n",
       "3         38.5586   -78.3170       302.3   2.8    1.6     Terra          45   \n",
       "4         31.3393   -89.9124       304.9   1.0    1.0     Terra          62   \n",
       "...           ...        ...         ...   ...    ...       ...         ...   \n",
       "2960417   41.6966   -99.1437       319.8   1.1    1.0      Aqua          80   \n",
       "2960418   42.4419   -94.3783       300.6   1.2    1.1      Aqua          40   \n",
       "2960419   41.4014   -97.9485       319.9   1.0    1.0      Aqua          80   \n",
       "2960420   41.4032   -97.9369       322.9   1.0    1.0      Aqua          82   \n",
       "2960421   42.7180  -120.4872       303.0   1.1    1.0      Aqua          51   \n",
       "\n",
       "         version  bright_t31   frp daynight  type        acq_datetime  \n",
       "0           6.03       280.9  40.3        N     0 2000-11-01 02:50:00  \n",
       "1           6.03       280.7  58.8        N     0 2000-11-01 02:50:00  \n",
       "2           6.03       280.4  54.5        N     0 2000-11-01 02:50:00  \n",
       "3           6.03       279.8  36.0        N     0 2000-11-01 02:50:00  \n",
       "4           6.03       287.5   8.5        N     0 2000-11-01 04:27:00  \n",
       "...          ...         ...   ...      ...   ...                 ...  \n",
       "2960417    61.03       284.7  21.2        D     0 2025-01-31 20:28:00  \n",
       "2960418    61.03       284.3   6.3        D     0 2025-01-31 20:28:00  \n",
       "2960419    61.03       284.9  19.0        D     0 2025-01-31 20:28:00  \n",
       "2960420    61.03       285.0  22.1        D     0 2025-01-31 20:28:00  \n",
       "2960421    61.03       281.1   7.8        D     0 2025-01-31 22:07:00  \n",
       "\n",
       "[2960422 rows x 13 columns]"
      ],
      "text/html": [
       "<div>\n",
       "<style scoped>\n",
       "    .dataframe tbody tr th:only-of-type {\n",
       "        vertical-align: middle;\n",
       "    }\n",
       "\n",
       "    .dataframe tbody tr th {\n",
       "        vertical-align: top;\n",
       "    }\n",
       "\n",
       "    .dataframe thead th {\n",
       "        text-align: right;\n",
       "    }\n",
       "</style>\n",
       "<table border=\"1\" class=\"dataframe\">\n",
       "  <thead>\n",
       "    <tr style=\"text-align: right;\">\n",
       "      <th></th>\n",
       "      <th>latitude</th>\n",
       "      <th>longitude</th>\n",
       "      <th>brightness</th>\n",
       "      <th>scan</th>\n",
       "      <th>track</th>\n",
       "      <th>satellite</th>\n",
       "      <th>confidence</th>\n",
       "      <th>version</th>\n",
       "      <th>bright_t31</th>\n",
       "      <th>frp</th>\n",
       "      <th>daynight</th>\n",
       "      <th>type</th>\n",
       "      <th>acq_datetime</th>\n",
       "    </tr>\n",
       "  </thead>\n",
       "  <tbody>\n",
       "    <tr>\n",
       "      <th>0</th>\n",
       "      <td>38.5422</td>\n",
       "      <td>-78.3047</td>\n",
       "      <td>304.8</td>\n",
       "      <td>2.8</td>\n",
       "      <td>1.6</td>\n",
       "      <td>Terra</td>\n",
       "      <td>23</td>\n",
       "      <td>6.03</td>\n",
       "      <td>280.9</td>\n",
       "      <td>40.3</td>\n",
       "      <td>N</td>\n",
       "      <td>0</td>\n",
       "      <td>2000-11-01 02:50:00</td>\n",
       "    </tr>\n",
       "    <tr>\n",
       "      <th>1</th>\n",
       "      <td>38.5451</td>\n",
       "      <td>-78.3107</td>\n",
       "      <td>309.9</td>\n",
       "      <td>2.8</td>\n",
       "      <td>1.6</td>\n",
       "      <td>Terra</td>\n",
       "      <td>79</td>\n",
       "      <td>6.03</td>\n",
       "      <td>280.7</td>\n",
       "      <td>58.8</td>\n",
       "      <td>N</td>\n",
       "      <td>0</td>\n",
       "      <td>2000-11-01 02:50:00</td>\n",
       "    </tr>\n",
       "    <tr>\n",
       "      <th>2</th>\n",
       "      <td>38.5563</td>\n",
       "      <td>-78.3084</td>\n",
       "      <td>309.4</td>\n",
       "      <td>2.8</td>\n",
       "      <td>1.6</td>\n",
       "      <td>Terra</td>\n",
       "      <td>70</td>\n",
       "      <td>6.03</td>\n",
       "      <td>280.4</td>\n",
       "      <td>54.5</td>\n",
       "      <td>N</td>\n",
       "      <td>0</td>\n",
       "      <td>2000-11-01 02:50:00</td>\n",
       "    </tr>\n",
       "    <tr>\n",
       "      <th>3</th>\n",
       "      <td>38.5586</td>\n",
       "      <td>-78.3170</td>\n",
       "      <td>302.3</td>\n",
       "      <td>2.8</td>\n",
       "      <td>1.6</td>\n",
       "      <td>Terra</td>\n",
       "      <td>45</td>\n",
       "      <td>6.03</td>\n",
       "      <td>279.8</td>\n",
       "      <td>36.0</td>\n",
       "      <td>N</td>\n",
       "      <td>0</td>\n",
       "      <td>2000-11-01 02:50:00</td>\n",
       "    </tr>\n",
       "    <tr>\n",
       "      <th>4</th>\n",
       "      <td>31.3393</td>\n",
       "      <td>-89.9124</td>\n",
       "      <td>304.9</td>\n",
       "      <td>1.0</td>\n",
       "      <td>1.0</td>\n",
       "      <td>Terra</td>\n",
       "      <td>62</td>\n",
       "      <td>6.03</td>\n",
       "      <td>287.5</td>\n",
       "      <td>8.5</td>\n",
       "      <td>N</td>\n",
       "      <td>0</td>\n",
       "      <td>2000-11-01 04:27:00</td>\n",
       "    </tr>\n",
       "    <tr>\n",
       "      <th>...</th>\n",
       "      <td>...</td>\n",
       "      <td>...</td>\n",
       "      <td>...</td>\n",
       "      <td>...</td>\n",
       "      <td>...</td>\n",
       "      <td>...</td>\n",
       "      <td>...</td>\n",
       "      <td>...</td>\n",
       "      <td>...</td>\n",
       "      <td>...</td>\n",
       "      <td>...</td>\n",
       "      <td>...</td>\n",
       "      <td>...</td>\n",
       "    </tr>\n",
       "    <tr>\n",
       "      <th>2960417</th>\n",
       "      <td>41.6966</td>\n",
       "      <td>-99.1437</td>\n",
       "      <td>319.8</td>\n",
       "      <td>1.1</td>\n",
       "      <td>1.0</td>\n",
       "      <td>Aqua</td>\n",
       "      <td>80</td>\n",
       "      <td>61.03</td>\n",
       "      <td>284.7</td>\n",
       "      <td>21.2</td>\n",
       "      <td>D</td>\n",
       "      <td>0</td>\n",
       "      <td>2025-01-31 20:28:00</td>\n",
       "    </tr>\n",
       "    <tr>\n",
       "      <th>2960418</th>\n",
       "      <td>42.4419</td>\n",
       "      <td>-94.3783</td>\n",
       "      <td>300.6</td>\n",
       "      <td>1.2</td>\n",
       "      <td>1.1</td>\n",
       "      <td>Aqua</td>\n",
       "      <td>40</td>\n",
       "      <td>61.03</td>\n",
       "      <td>284.3</td>\n",
       "      <td>6.3</td>\n",
       "      <td>D</td>\n",
       "      <td>0</td>\n",
       "      <td>2025-01-31 20:28:00</td>\n",
       "    </tr>\n",
       "    <tr>\n",
       "      <th>2960419</th>\n",
       "      <td>41.4014</td>\n",
       "      <td>-97.9485</td>\n",
       "      <td>319.9</td>\n",
       "      <td>1.0</td>\n",
       "      <td>1.0</td>\n",
       "      <td>Aqua</td>\n",
       "      <td>80</td>\n",
       "      <td>61.03</td>\n",
       "      <td>284.9</td>\n",
       "      <td>19.0</td>\n",
       "      <td>D</td>\n",
       "      <td>0</td>\n",
       "      <td>2025-01-31 20:28:00</td>\n",
       "    </tr>\n",
       "    <tr>\n",
       "      <th>2960420</th>\n",
       "      <td>41.4032</td>\n",
       "      <td>-97.9369</td>\n",
       "      <td>322.9</td>\n",
       "      <td>1.0</td>\n",
       "      <td>1.0</td>\n",
       "      <td>Aqua</td>\n",
       "      <td>82</td>\n",
       "      <td>61.03</td>\n",
       "      <td>285.0</td>\n",
       "      <td>22.1</td>\n",
       "      <td>D</td>\n",
       "      <td>0</td>\n",
       "      <td>2025-01-31 20:28:00</td>\n",
       "    </tr>\n",
       "    <tr>\n",
       "      <th>2960421</th>\n",
       "      <td>42.7180</td>\n",
       "      <td>-120.4872</td>\n",
       "      <td>303.0</td>\n",
       "      <td>1.1</td>\n",
       "      <td>1.0</td>\n",
       "      <td>Aqua</td>\n",
       "      <td>51</td>\n",
       "      <td>61.03</td>\n",
       "      <td>281.1</td>\n",
       "      <td>7.8</td>\n",
       "      <td>D</td>\n",
       "      <td>0</td>\n",
       "      <td>2025-01-31 22:07:00</td>\n",
       "    </tr>\n",
       "  </tbody>\n",
       "</table>\n",
       "<p>2960422 rows × 13 columns</p>\n",
       "</div>"
      ]
     },
     "execution_count": 2,
     "metadata": {},
     "output_type": "execute_result"
    }
   ],
   "execution_count": 2
  },
  {
   "metadata": {
    "ExecuteTime": {
     "end_time": "2025-07-14T22:02:37.179688Z",
     "start_time": "2025-07-14T22:02:36.616888Z"
    }
   },
   "cell_type": "code",
   "source": [
    "data['year'] = data['acq_datetime'].dt.year\n",
    "data['month'] = data['acq_datetime'].dt.month\n",
    "data['day'] = data['acq_datetime'].dt.day\n",
    "data['hour'] = data['acq_datetime'].dt.hour\n",
    "data['minute'] = data['acq_datetime'].dt.minute\n",
    "\n",
    "data['month_sin'] = np.sin(2 * np.pi * data['month'] / 12)\n",
    "data['month_cos'] = np.cos(2 * np.pi * data['month'] / 12)\n",
    "data['day_sin'] = np.sin(2 * np.pi * data['day'] / 31)\n",
    "data['day_cos'] = np.cos(2 * np.pi * data['day'] / 31)\n",
    "data['hour_sin'] = np.sin(2 * np.pi * data['hour'] / 24)\n",
    "data['hour_cos'] = np.cos(2 * np.pi * data['hour'] / 24)\n",
    "data['minute_sin'] = np.sin(2 * np.pi * data['minute'] / 60)\n",
    "data['minute_cos'] = np.cos(2 * np.pi * data['minute'] / 60)"
   ],
   "id": "2fbbf5bc21d8a3c7",
   "outputs": [],
   "execution_count": 3
  },
  {
   "metadata": {
    "ExecuteTime": {
     "end_time": "2025-07-14T22:02:37.308016Z",
     "start_time": "2025-07-14T22:02:37.245018Z"
    }
   },
   "cell_type": "code",
   "source": "data['confidence_binned']=pd.cut(data['confidence'],bins=[-1,60,80,101],labels=['l','n','h'])",
   "id": "66ffacf42f55fe2c",
   "outputs": [],
   "execution_count": 4
  },
  {
   "metadata": {
    "ExecuteTime": {
     "end_time": "2025-07-14T22:03:31.521177Z",
     "start_time": "2025-07-14T22:02:37.336201Z"
    }
   },
   "cell_type": "code",
   "source": [
    "from sklearn.tree import DecisionTreeClassifier\n",
    "from sklearn.model_selection import train_test_split\n",
    "\n",
    "X = data[data['type'] != 1].drop(['confidence','acq_datetime','confidence_binned'], axis=1)\n",
    "\n",
    "categorical=['satellite','daynight','version','type']\n",
    "for cat in categorical:\n",
    "    X[cat]=X[cat].map({i:name for i,name in enumerate(X[cat].unique())})\n",
    "\n",
    "y = data[data['type'] != 1]['confidence_binned']\n",
    "\n",
    "X_train, X_test, y_train, y_test = train_test_split(X, y, test_size=0.1, random_state=42)\n",
    "\n",
    "dt = DecisionTreeClassifier(random_state=42)\n",
    "dt.fit(X_train, y_train)\n",
    "\n",
    "y_pred = dt.predict(X_test)"
   ],
   "id": "81c9bb427787b28",
   "outputs": [],
   "execution_count": 5
  },
  {
   "metadata": {
    "ExecuteTime": {
     "end_time": "2025-07-14T22:03:33.243444Z",
     "start_time": "2025-07-14T22:03:31.521177Z"
    }
   },
   "cell_type": "code",
   "source": [
    "from sklearn.metrics import classification_report\n",
    "from sklearn.metrics import accuracy_score\n",
    "\n",
    "print(\"Accuracy:\", accuracy_score(y_test, y_pred))\n",
    "print(classification_report(y_test, y_pred))\n",
    "\n",
    "{c: f for c, f in zip(X.columns, dt.feature_importances_)}"
   ],
   "id": "9c4cd6733471a0fb",
   "outputs": [
    {
     "name": "stdout",
     "output_type": "stream",
     "text": [
      "Accuracy: 0.7478091124309507\n",
      "              precision    recall  f1-score   support\n",
      "\n",
      "           h       0.86      0.85      0.86     92720\n",
      "           l       0.73      0.73      0.73    101640\n",
      "           n       0.66      0.66      0.66     94564\n",
      "\n",
      "    accuracy                           0.75    288924\n",
      "   macro avg       0.75      0.75      0.75    288924\n",
      "weighted avg       0.75      0.75      0.75    288924\n",
      "\n"
     ]
    },
    {
     "data": {
      "text/plain": [
       "{'latitude': 0.060432764657107764,\n",
       " 'longitude': 0.06289026388262213,\n",
       " 'brightness': 0.44363070427446394,\n",
       " 'scan': 0.02711139616893577,\n",
       " 'track': 0.006874957752846089,\n",
       " 'satellite': 0.0,\n",
       " 'version': 0.0,\n",
       " 'bright_t31': 0.07248837690605078,\n",
       " 'frp': 0.09373982433352461,\n",
       " 'daynight': 0.0,\n",
       " 'type': 0.004035632727071862,\n",
       " 'year': 0.02375464947622372,\n",
       " 'month': 0.007527944222874818,\n",
       " 'day': 0.018068936728305,\n",
       " 'hour': 0.00949737709921094,\n",
       " 'minute': 0.018839781068392368,\n",
       " 'month_sin': 0.009560427393405678,\n",
       " 'month_cos': 0.02244106107312522,\n",
       " 'day_sin': 0.02097465950542598,\n",
       " 'day_cos': 0.016774092540038296,\n",
       " 'hour_sin': 0.03563579219897097,\n",
       " 'hour_cos': 0.005165023822613737,\n",
       " 'minute_sin': 0.020619149518945022,\n",
       " 'minute_cos': 0.019937184649845285}"
      ]
     },
     "execution_count": 6,
     "metadata": {},
     "output_type": "execute_result"
    }
   ],
   "execution_count": 6
  },
  {
   "metadata": {
    "jupyter": {
     "is_executing": true
    },
    "ExecuteTime": {
     "end_time": "2025-07-15T00:46:08.232478200Z",
     "start_time": "2025-07-14T22:03:39.190608Z"
    }
   },
   "cell_type": "code",
   "source": [
    "from sklearn.model_selection import GridSearchCV\n",
    "import multiprocessing\n",
    "\n",
    "param_grid = {\n",
    "    'criterion':['gini','entropy'],\n",
    "    'max_depth': [None, 10, 20, 30],\n",
    "    'min_samples_split': [2, 5, 10],\n",
    "    'min_samples_leaf': [1, 2, 4]\n",
    "}\n",
    "\n",
    "dt = DecisionTreeClassifier(random_state=42)\n",
    "\n",
    "# Instantiate GridSearchCV\n",
    "#n_jobs = max(1, multiprocessing.cpu_count() - 1)\n",
    "grid_search = GridSearchCV(estimator=dt, param_grid=param_grid, cv=3, scoring='accuracy')\n",
    "\n",
    "# Fit the GridSearchCV to the data\n",
    "grid_search.fit(X_train, y_train)\n",
    "\n",
    "# Access the best parameters and model\n",
    "best_params = grid_search.best_params_\n",
    "best_model = grid_search.best_estimator_"
   ],
   "id": "1999155eec084bd2",
   "outputs": [],
   "execution_count": null
  },
  {
   "metadata": {
    "ExecuteTime": {
     "end_time": "2025-06-29T18:46:23.130566Z",
     "start_time": "2025-06-29T18:46:23.126316Z"
    }
   },
   "cell_type": "code",
   "source": [
    "print(best_params)\n",
    "print(best_model)"
   ],
   "id": "bab847ae2c5612ff",
   "outputs": [
    {
     "name": "stdout",
     "output_type": "stream",
     "text": [
      "{'max_depth': None, 'max_leaf_nodes': 10, 'min_samples_leaf': 1, 'min_samples_split': 2, 'random_state': 0}\n",
      "DecisionTreeClassifier(max_leaf_nodes=10, random_state=0)\n"
     ]
    }
   ],
   "execution_count": 21
  },
  {
   "metadata": {
    "ExecuteTime": {
     "end_time": "2025-06-29T18:47:44.408583Z",
     "start_time": "2025-06-29T18:47:37.722321Z"
    }
   },
   "cell_type": "code",
   "source": [
    "X = data[data['type'] != 1].drop(['scan', 'track', 'satellite', 'confidence', 'version', 'type', 'acq_datetime'], axis=1)\n",
    "\n",
    "X['daynight'] = X['daynight'].map({\"N\": 0, \"D\": 1})\n",
    "\n",
    "y = data[data['type'] != 1]['confidence']\n",
    "\n",
    "X_train, X_test, y_train, y_test = train_test_split(X, y, test_size=0.7)\n",
    "\n",
    "dt = DecisionTreeClassifier(random_state=0, max_depth=None, max_leaf_nodes=10, min_samples_split=2, min_samples_leaf=1)\n",
    "dt.fit(X_train, y_train)\n",
    "\n",
    "y_pred = dt.predict(X_test)"
   ],
   "id": "1a3085eb66601f0c",
   "outputs": [],
   "execution_count": 22
  },
  {
   "metadata": {
    "ExecuteTime": {
     "end_time": "2025-06-29T18:47:58.125605Z",
     "start_time": "2025-06-29T18:47:44.415787Z"
    }
   },
   "cell_type": "code",
   "source": [
    "from sklearn.metrics import classification_report\n",
    "from sklearn.metrics import accuracy_score\n",
    "\n",
    "print(\"Accuracy:\", accuracy_score(y_test, y_pred))\n",
    "print(classification_report(y_test, y_pred))\n",
    "\n",
    "{c: f for c, f in zip(X.columns, dt.feature_importances_)}"
   ],
   "id": "beafbcd6d271baed",
   "outputs": [
    {
     "name": "stdout",
     "output_type": "stream",
     "text": [
      "Accuracy: 0.7919070914558592\n",
      "              precision    recall  f1-score   support\n",
      "\n",
      "           h       0.77      0.91      0.84    933852\n",
      "           l       0.95      0.11      0.19    138346\n",
      "           n       0.81      0.77      0.79    950264\n",
      "\n",
      "    accuracy                           0.79   2022462\n",
      "   macro avg       0.85      0.60      0.61   2022462\n",
      "weighted avg       0.80      0.79      0.77   2022462\n",
      "\n"
     ]
    },
    {
     "data": {
      "text/plain": [
       "{'latitude': 0.0,\n",
       " 'longitude': 0.0,\n",
       " 'brightness': 0.8232714187842125,\n",
       " 'bright_t31': 0.06637463130521035,\n",
       " 'frp': 0.07799600925393758,\n",
       " 'daynight': 0.032357940656639446,\n",
       " 'year': 0.0,\n",
       " 'month': 0.0,\n",
       " 'day': 0.0,\n",
       " 'hour': 0.0,\n",
       " 'minute': 0.0,\n",
       " 'month_sin': 0.0,\n",
       " 'month_cos': 0.0,\n",
       " 'day_sin': 0.0,\n",
       " 'day_cos': 0.0,\n",
       " 'hour_sin': 0.0,\n",
       " 'hour_cos': 0.0,\n",
       " 'minute_sin': 0.0,\n",
       " 'minute_cos': 0.0}"
      ]
     },
     "execution_count": 23,
     "metadata": {},
     "output_type": "execute_result"
    }
   ],
   "execution_count": 23
  }
 ],
 "metadata": {
  "kernelspec": {
   "display_name": "Python 3",
   "language": "python",
   "name": "python3"
  },
  "language_info": {
   "codemirror_mode": {
    "name": "ipython",
    "version": 2
   },
   "file_extension": ".py",
   "mimetype": "text/x-python",
   "name": "python",
   "nbconvert_exporter": "python",
   "pygments_lexer": "ipython2",
   "version": "2.7.6"
  }
 },
 "nbformat": 4,
 "nbformat_minor": 5
}
