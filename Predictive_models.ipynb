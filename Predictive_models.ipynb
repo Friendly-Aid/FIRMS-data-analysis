{
 "cells": [
  {
   "metadata": {},
   "cell_type": "markdown",
   "source": "First import libraries and load data, then transform data datetime to a proper datetime.",
   "id": "b1693db5fe910183"
  },
  {
   "metadata": {
    "ExecuteTime": {
     "end_time": "2025-07-15T03:10:24.441395Z",
     "start_time": "2025-07-15T03:10:07.523774Z"
    }
   },
   "cell_type": "code",
   "source": [
    "import pandas as pd #pandas for data\n",
    "import os           #os for data path\n",
    "import numpy as np  #np for math on data\n",
    "\n",
    "path = os.getcwd() + \"\\\\data\\\\fire_archive_M-C61_626683.csv.xz\" #set data path\n",
    "data = pd.read_csv(path) #import from data path\n",
    "\n",
    "from datetime import timedelta #import timedelta from datetime for datetime addition\n",
    "\n",
    "data['acq_date'] = pd.to_datetime(data['acq_date']) #convert acq_date to datetime\n",
    "data['acq_datetime'] = data['acq_date'] + pd.Series(\n",
    "    [timedelta(minutes=i % 100, hours=i // 100) for i in data['acq_time']]) #add acq_time by getting hours as any numbers above or equal to 100 and minutes as anything under 100\n",
    "data.drop('acq_time', axis=1, inplace=True)  #drop acq_time\n",
    "data.drop('acq_date', axis=1, inplace=True)  #drop acq_time\n",
    "data.drop('instrument', axis=1, inplace=True)#drop instrument because it is a constant and is not usefull\n",
    "data #show data"
   ],
   "id": "94a332a93170e1e1",
   "outputs": [
    {
     "data": {
      "text/plain": [
       "         latitude  longitude  brightness  scan  track satellite  confidence  \\\n",
       "0         38.5422   -78.3047       304.8   2.8    1.6     Terra          23   \n",
       "1         38.5451   -78.3107       309.9   2.8    1.6     Terra          79   \n",
       "2         38.5563   -78.3084       309.4   2.8    1.6     Terra          70   \n",
       "3         38.5586   -78.3170       302.3   2.8    1.6     Terra          45   \n",
       "4         31.3393   -89.9124       304.9   1.0    1.0     Terra          62   \n",
       "...           ...        ...         ...   ...    ...       ...         ...   \n",
       "2960417   41.6966   -99.1437       319.8   1.1    1.0      Aqua          80   \n",
       "2960418   42.4419   -94.3783       300.6   1.2    1.1      Aqua          40   \n",
       "2960419   41.4014   -97.9485       319.9   1.0    1.0      Aqua          80   \n",
       "2960420   41.4032   -97.9369       322.9   1.0    1.0      Aqua          82   \n",
       "2960421   42.7180  -120.4872       303.0   1.1    1.0      Aqua          51   \n",
       "\n",
       "         version  bright_t31   frp daynight  type        acq_datetime  \n",
       "0           6.03       280.9  40.3        N     0 2000-11-01 02:50:00  \n",
       "1           6.03       280.7  58.8        N     0 2000-11-01 02:50:00  \n",
       "2           6.03       280.4  54.5        N     0 2000-11-01 02:50:00  \n",
       "3           6.03       279.8  36.0        N     0 2000-11-01 02:50:00  \n",
       "4           6.03       287.5   8.5        N     0 2000-11-01 04:27:00  \n",
       "...          ...         ...   ...      ...   ...                 ...  \n",
       "2960417    61.03       284.7  21.2        D     0 2025-01-31 20:28:00  \n",
       "2960418    61.03       284.3   6.3        D     0 2025-01-31 20:28:00  \n",
       "2960419    61.03       284.9  19.0        D     0 2025-01-31 20:28:00  \n",
       "2960420    61.03       285.0  22.1        D     0 2025-01-31 20:28:00  \n",
       "2960421    61.03       281.1   7.8        D     0 2025-01-31 22:07:00  \n",
       "\n",
       "[2960422 rows x 13 columns]"
      ],
      "text/html": [
       "<div>\n",
       "<style scoped>\n",
       "    .dataframe tbody tr th:only-of-type {\n",
       "        vertical-align: middle;\n",
       "    }\n",
       "\n",
       "    .dataframe tbody tr th {\n",
       "        vertical-align: top;\n",
       "    }\n",
       "\n",
       "    .dataframe thead th {\n",
       "        text-align: right;\n",
       "    }\n",
       "</style>\n",
       "<table border=\"1\" class=\"dataframe\">\n",
       "  <thead>\n",
       "    <tr style=\"text-align: right;\">\n",
       "      <th></th>\n",
       "      <th>latitude</th>\n",
       "      <th>longitude</th>\n",
       "      <th>brightness</th>\n",
       "      <th>scan</th>\n",
       "      <th>track</th>\n",
       "      <th>satellite</th>\n",
       "      <th>confidence</th>\n",
       "      <th>version</th>\n",
       "      <th>bright_t31</th>\n",
       "      <th>frp</th>\n",
       "      <th>daynight</th>\n",
       "      <th>type</th>\n",
       "      <th>acq_datetime</th>\n",
       "    </tr>\n",
       "  </thead>\n",
       "  <tbody>\n",
       "    <tr>\n",
       "      <th>0</th>\n",
       "      <td>38.5422</td>\n",
       "      <td>-78.3047</td>\n",
       "      <td>304.8</td>\n",
       "      <td>2.8</td>\n",
       "      <td>1.6</td>\n",
       "      <td>Terra</td>\n",
       "      <td>23</td>\n",
       "      <td>6.03</td>\n",
       "      <td>280.9</td>\n",
       "      <td>40.3</td>\n",
       "      <td>N</td>\n",
       "      <td>0</td>\n",
       "      <td>2000-11-01 02:50:00</td>\n",
       "    </tr>\n",
       "    <tr>\n",
       "      <th>1</th>\n",
       "      <td>38.5451</td>\n",
       "      <td>-78.3107</td>\n",
       "      <td>309.9</td>\n",
       "      <td>2.8</td>\n",
       "      <td>1.6</td>\n",
       "      <td>Terra</td>\n",
       "      <td>79</td>\n",
       "      <td>6.03</td>\n",
       "      <td>280.7</td>\n",
       "      <td>58.8</td>\n",
       "      <td>N</td>\n",
       "      <td>0</td>\n",
       "      <td>2000-11-01 02:50:00</td>\n",
       "    </tr>\n",
       "    <tr>\n",
       "      <th>2</th>\n",
       "      <td>38.5563</td>\n",
       "      <td>-78.3084</td>\n",
       "      <td>309.4</td>\n",
       "      <td>2.8</td>\n",
       "      <td>1.6</td>\n",
       "      <td>Terra</td>\n",
       "      <td>70</td>\n",
       "      <td>6.03</td>\n",
       "      <td>280.4</td>\n",
       "      <td>54.5</td>\n",
       "      <td>N</td>\n",
       "      <td>0</td>\n",
       "      <td>2000-11-01 02:50:00</td>\n",
       "    </tr>\n",
       "    <tr>\n",
       "      <th>3</th>\n",
       "      <td>38.5586</td>\n",
       "      <td>-78.3170</td>\n",
       "      <td>302.3</td>\n",
       "      <td>2.8</td>\n",
       "      <td>1.6</td>\n",
       "      <td>Terra</td>\n",
       "      <td>45</td>\n",
       "      <td>6.03</td>\n",
       "      <td>279.8</td>\n",
       "      <td>36.0</td>\n",
       "      <td>N</td>\n",
       "      <td>0</td>\n",
       "      <td>2000-11-01 02:50:00</td>\n",
       "    </tr>\n",
       "    <tr>\n",
       "      <th>4</th>\n",
       "      <td>31.3393</td>\n",
       "      <td>-89.9124</td>\n",
       "      <td>304.9</td>\n",
       "      <td>1.0</td>\n",
       "      <td>1.0</td>\n",
       "      <td>Terra</td>\n",
       "      <td>62</td>\n",
       "      <td>6.03</td>\n",
       "      <td>287.5</td>\n",
       "      <td>8.5</td>\n",
       "      <td>N</td>\n",
       "      <td>0</td>\n",
       "      <td>2000-11-01 04:27:00</td>\n",
       "    </tr>\n",
       "    <tr>\n",
       "      <th>...</th>\n",
       "      <td>...</td>\n",
       "      <td>...</td>\n",
       "      <td>...</td>\n",
       "      <td>...</td>\n",
       "      <td>...</td>\n",
       "      <td>...</td>\n",
       "      <td>...</td>\n",
       "      <td>...</td>\n",
       "      <td>...</td>\n",
       "      <td>...</td>\n",
       "      <td>...</td>\n",
       "      <td>...</td>\n",
       "      <td>...</td>\n",
       "    </tr>\n",
       "    <tr>\n",
       "      <th>2960417</th>\n",
       "      <td>41.6966</td>\n",
       "      <td>-99.1437</td>\n",
       "      <td>319.8</td>\n",
       "      <td>1.1</td>\n",
       "      <td>1.0</td>\n",
       "      <td>Aqua</td>\n",
       "      <td>80</td>\n",
       "      <td>61.03</td>\n",
       "      <td>284.7</td>\n",
       "      <td>21.2</td>\n",
       "      <td>D</td>\n",
       "      <td>0</td>\n",
       "      <td>2025-01-31 20:28:00</td>\n",
       "    </tr>\n",
       "    <tr>\n",
       "      <th>2960418</th>\n",
       "      <td>42.4419</td>\n",
       "      <td>-94.3783</td>\n",
       "      <td>300.6</td>\n",
       "      <td>1.2</td>\n",
       "      <td>1.1</td>\n",
       "      <td>Aqua</td>\n",
       "      <td>40</td>\n",
       "      <td>61.03</td>\n",
       "      <td>284.3</td>\n",
       "      <td>6.3</td>\n",
       "      <td>D</td>\n",
       "      <td>0</td>\n",
       "      <td>2025-01-31 20:28:00</td>\n",
       "    </tr>\n",
       "    <tr>\n",
       "      <th>2960419</th>\n",
       "      <td>41.4014</td>\n",
       "      <td>-97.9485</td>\n",
       "      <td>319.9</td>\n",
       "      <td>1.0</td>\n",
       "      <td>1.0</td>\n",
       "      <td>Aqua</td>\n",
       "      <td>80</td>\n",
       "      <td>61.03</td>\n",
       "      <td>284.9</td>\n",
       "      <td>19.0</td>\n",
       "      <td>D</td>\n",
       "      <td>0</td>\n",
       "      <td>2025-01-31 20:28:00</td>\n",
       "    </tr>\n",
       "    <tr>\n",
       "      <th>2960420</th>\n",
       "      <td>41.4032</td>\n",
       "      <td>-97.9369</td>\n",
       "      <td>322.9</td>\n",
       "      <td>1.0</td>\n",
       "      <td>1.0</td>\n",
       "      <td>Aqua</td>\n",
       "      <td>82</td>\n",
       "      <td>61.03</td>\n",
       "      <td>285.0</td>\n",
       "      <td>22.1</td>\n",
       "      <td>D</td>\n",
       "      <td>0</td>\n",
       "      <td>2025-01-31 20:28:00</td>\n",
       "    </tr>\n",
       "    <tr>\n",
       "      <th>2960421</th>\n",
       "      <td>42.7180</td>\n",
       "      <td>-120.4872</td>\n",
       "      <td>303.0</td>\n",
       "      <td>1.1</td>\n",
       "      <td>1.0</td>\n",
       "      <td>Aqua</td>\n",
       "      <td>51</td>\n",
       "      <td>61.03</td>\n",
       "      <td>281.1</td>\n",
       "      <td>7.8</td>\n",
       "      <td>D</td>\n",
       "      <td>0</td>\n",
       "      <td>2025-01-31 22:07:00</td>\n",
       "    </tr>\n",
       "  </tbody>\n",
       "</table>\n",
       "<p>2960422 rows × 13 columns</p>\n",
       "</div>"
      ]
     },
     "execution_count": 1,
     "metadata": {},
     "output_type": "execute_result"
    }
   ],
   "execution_count": 1
  },
  {
   "metadata": {},
   "cell_type": "markdown",
   "source": "next I am going to add year, month, day, hour, and minute as well as their sin/cos variants to represent relative distance between times e.g. month 12 to month 1 is the same distance as month 7 to month 8.",
   "id": "ce2c3809bee411aa"
  },
  {
   "metadata": {
    "ExecuteTime": {
     "end_time": "2025-07-15T03:10:25.023687Z",
     "start_time": "2025-07-15T03:10:24.445940Z"
    }
   },
   "cell_type": "code",
   "source": [
    "#setup year, month, day, hour, and minute from the datetime setup in previous code\n",
    "data['year'] = data['acq_datetime'].dt.year\n",
    "data['month'] = data['acq_datetime'].dt.month\n",
    "data['day'] = data['acq_datetime'].dt.day\n",
    "data['hour'] = data['acq_datetime'].dt.hour\n",
    "data['minute'] = data['acq_datetime'].dt.minute\n",
    "\n",
    "#get sin/cos of month, day, hour, and minute using np\n",
    "data['month_sin'] = np.sin(2 * np.pi * data['month'] / 12)\n",
    "data['month_cos'] = np.cos(2 * np.pi * data['month'] / 12)\n",
    "data['day_sin'] = np.sin(2 * np.pi * data['day'] / 31)\n",
    "data['day_cos'] = np.cos(2 * np.pi * data['day'] / 31)\n",
    "data['hour_sin'] = np.sin(2 * np.pi * data['hour'] / 24)\n",
    "data['hour_cos'] = np.cos(2 * np.pi * data['hour'] / 24)\n",
    "data['minute_sin'] = np.sin(2 * np.pi * data['minute'] / 60)\n",
    "data['minute_cos'] = np.cos(2 * np.pi * data['minute'] / 60)"
   ],
   "id": "6d3e76d9e13fecd3",
   "outputs": [],
   "execution_count": 2
  },
  {
   "metadata": {},
   "cell_type": "markdown",
   "source": "next I get the confidence in a categorical form by binning it.",
   "id": "5f3cd420d012e87e"
  },
  {
   "metadata": {
    "ExecuteTime": {
     "end_time": "2025-07-15T03:10:25.293971Z",
     "start_time": "2025-07-15T03:10:25.226543Z"
    }
   },
   "cell_type": "code",
   "source": "data['confidence_binned'] = pd.cut(data['confidence'], bins=[-1, 60, 80, 101], labels=['l', 'n', 'h']) #binning data into l(low), n(nominal), and h(high) confidence levels",
   "id": "95a0dd664f62fd49",
   "outputs": [],
   "execution_count": 3
  },
  {
   "metadata": {},
   "cell_type": "markdown",
   "source": "next I set up the data for the models by importing libraries, and setting up dependent/independent variables. P.S. I am excluding type 1 from the data because it represents a volcano and not a fire.",
   "id": "c79c5262fe19ac63"
  },
  {
   "metadata": {
    "ExecuteTime": {
     "end_time": "2025-07-15T03:10:59.734650Z",
     "start_time": "2025-07-15T03:10:25.319262Z"
    }
   },
   "cell_type": "code",
   "source": [
    "from sklearn.model_selection import train_test_split #import train_test_split to get training and testing sets of data\n",
    "from sklearn.preprocessing import PolynomialFeatures #import polynomial features for non-linear relationships between dependent and independent variables\n",
    "from sklearn.metrics import accuracy_score, classification_report #import accuracy_score and classification_report for model analysis\n",
    "\n",
    "X = data[data['type'] != 1].drop(['confidence', 'acq_datetime', 'confidence_binned'], axis=1) #set up independent variables\n",
    "\n",
    "categorical = ['satellite', 'daynight', 'version', 'type'] #array of categorical variables for transformation into numerical\n",
    "for cat in categorical: #iterate through categorical array\n",
    "    X[cat] = X[cat].map({name:i for i, name in enumerate(X[cat].unique())}) #map variables by unique entries to a number\n",
    "\n",
    "y = data[data['type'] != 1]['confidence_binned'] #set confidence_binned as target/dependent variable\n",
    "\n",
    "poly = PolynomialFeatures(degree=2) #setup polynomial features on the second degree\n",
    "\n",
    "X_poly = poly.fit_transform(X) #transform independent variables to polynomials for non-linear relationships"
   ],
   "id": "775087b842269205",
   "outputs": [],
   "execution_count": 4
  },
  {
   "metadata": {},
   "cell_type": "markdown",
   "source": "next I set up the train/test sets of data",
   "id": "6c30de9fcc55e6e"
  },
  {
   "metadata": {
    "ExecuteTime": {
     "end_time": "2025-07-15T03:11:03.323448Z",
     "start_time": "2025-07-15T03:10:59.826238Z"
    }
   },
   "cell_type": "code",
   "source": [
    "X_train, X_test, y_train, y_test = train_test_split(X, y, test_size=0.2, random_state=42)\n",
    "X_poly_train, X_poly_test, _, _ = train_test_split(X, y, test_size=0.2, random_state=42) #y_train and y_test is same as previous so ignore them"
   ],
   "id": "196b5f23c4ede40",
   "outputs": [],
   "execution_count": 5
  },
  {
   "metadata": {},
   "cell_type": "markdown",
   "source": "next I import LogisticRegression from sklearn and run the model with polynomial data and normal data. I use saga as the solver because the amount of data is very large.",
   "id": "c68d63009e7b5855"
  },
  {
   "metadata": {
    "ExecuteTime": {
     "end_time": "2025-07-15T03:36:36.665746Z",
     "start_time": "2025-07-15T03:28:55.971090Z"
    }
   },
   "cell_type": "code",
   "source": [
    "from sklearn.linear_model import LogisticRegression\n",
    "\n",
    "#setup model and fit data\n",
    "regressor=LogisticRegression(solver='saga')\n",
    "regressor.fit(X_train,y_train)\n",
    "\n",
    "#get predictions\n",
    "y_pred = regressor.predict(X_test)\n",
    "\n",
    "#analyze model accuracy and get details\n",
    "print(\"Accuracy:\", accuracy_score(y_test, y_pred))\n",
    "print(classification_report(y_test, y_pred))\n",
    "\n",
    "\n",
    "print()\n",
    "\n",
    "\n",
    "print(\"polynomial model\")\n",
    "\n",
    "#setup polynomial model and fit data\n",
    "regressor=LogisticRegression(solver='saga')\n",
    "regressor.fit(X_poly_train,y_train)\n",
    "\n",
    "#get predictions\n",
    "y_pred = regressor.predict(X_poly_test)\n",
    "\n",
    "#analyze model accuracy and get details\n",
    "print(\"Accuracy:\", accuracy_score(y_test, y_pred))\n",
    "print(classification_report(y_test, y_pred))"
   ],
   "id": "e4fed65243c546de",
   "outputs": [
    {
     "name": "stderr",
     "output_type": "stream",
     "text": [
      "C:\\Users\\Josiah\\miniconda3\\Lib\\site-packages\\sklearn\\linear_model\\_sag.py:348: ConvergenceWarning: The max_iter was reached which means the coef_ did not converge\n",
      "  warnings.warn(\n"
     ]
    },
    {
     "name": "stdout",
     "output_type": "stream",
     "text": [
      "Accuracy: 0.7005643362343319\n",
      "              precision    recall  f1-score   support\n",
      "\n",
      "           h       0.85      0.84      0.84    185618\n",
      "           l       0.65      0.74      0.70    203117\n",
      "           n       0.60      0.52      0.56    189112\n",
      "\n",
      "    accuracy                           0.70    577847\n",
      "   macro avg       0.70      0.70      0.70    577847\n",
      "weighted avg       0.70      0.70      0.70    577847\n",
      "\n",
      "\n",
      "polynomial model\n"
     ]
    },
    {
     "name": "stderr",
     "output_type": "stream",
     "text": [
      "C:\\Users\\Josiah\\miniconda3\\Lib\\site-packages\\sklearn\\linear_model\\_sag.py:348: ConvergenceWarning: The max_iter was reached which means the coef_ did not converge\n",
      "  warnings.warn(\n"
     ]
    },
    {
     "name": "stdout",
     "output_type": "stream",
     "text": [
      "Accuracy: 0.7005626056724358\n",
      "              precision    recall  f1-score   support\n",
      "\n",
      "           h       0.85      0.84      0.84    185618\n",
      "           l       0.65      0.74      0.70    203117\n",
      "           n       0.60      0.52      0.56    189112\n",
      "\n",
      "    accuracy                           0.70    577847\n",
      "   macro avg       0.70      0.70      0.70    577847\n",
      "weighted avg       0.70      0.70      0.70    577847\n",
      "\n"
     ]
    }
   ],
   "execution_count": 9
  },
  {
   "metadata": {},
   "cell_type": "markdown",
   "source": "The accuracy is above 70% and the models are almost identical with the polynomial model being better by a negligible amount.",
   "id": "b7050755679dcbd4"
  },
  {
   "metadata": {},
   "cell_type": "markdown",
   "source": "next I set up a decision tree and get the accuracy and report as well as the feature importances.",
   "id": "c23282d9a6617737"
  },
  {
   "metadata": {
    "ExecuteTime": {
     "end_time": "2025-07-15T03:19:39.713070Z",
     "start_time": "2025-07-15T03:18:49.054438Z"
    }
   },
   "cell_type": "code",
   "source": [
    "from sklearn.tree import DecisionTreeClassifier #import DecisionTreeClassifier\n",
    "\n",
    "#setup and fit decision tree model\n",
    "dt = DecisionTreeClassifier(random_state=42)\n",
    "dt.fit(X_train, y_train)\n",
    "\n",
    "#get predictions\n",
    "y_pred = dt.predict(X_test)\n",
    "\n",
    "#get accuracy, report, and feature importances\n",
    "print(\"Accuracy:\", accuracy_score(y_test, y_pred))\n",
    "print(classification_report(y_test, y_pred))\n",
    "\n",
    "{c: f for c, f in zip(X.columns, dt.feature_importances_)}"
   ],
   "id": "128d276a01817b41",
   "outputs": [
    {
     "name": "stdout",
     "output_type": "stream",
     "text": [
      "Accuracy: 0.746941664489043\n",
      "              precision    recall  f1-score   support\n",
      "\n",
      "           h       0.86      0.85      0.86    185618\n",
      "           l       0.73      0.73      0.73    203117\n",
      "           n       0.66      0.66      0.66    189112\n",
      "\n",
      "    accuracy                           0.75    577847\n",
      "   macro avg       0.75      0.75      0.75    577847\n",
      "weighted avg       0.75      0.75      0.75    577847\n",
      "\n"
     ]
    },
    {
     "data": {
      "text/plain": [
       "{'latitude': 0.059573445324816725,\n",
       " 'longitude': 0.06210134221683668,\n",
       " 'brightness': 0.44361623953719487,\n",
       " 'scan': 0.026976670466270832,\n",
       " 'track': 0.006982541029488504,\n",
       " 'satellite': 0.0021309147209667826,\n",
       " 'version': 0.0009724089636609864,\n",
       " 'bright_t31': 0.07263093289657646,\n",
       " 'frp': 0.09371486075801229,\n",
       " 'daynight': 0.03226591536150576,\n",
       " 'type': 0.003956404835810346,\n",
       " 'year': 0.022750704108070226,\n",
       " 'month': 0.006330561823209275,\n",
       " 'day': 0.01787585440315591,\n",
       " 'hour': 0.008993941849912115,\n",
       " 'minute': 0.01882762088410438,\n",
       " 'month_sin': 0.010442302056256866,\n",
       " 'month_cos': 0.022840755883060084,\n",
       " 'day_sin': 0.02102306981925181,\n",
       " 'day_cos': 0.01682603031496115,\n",
       " 'hour_sin': 0.00421539463342919,\n",
       " 'hour_cos': 0.0044385855259681944,\n",
       " 'minute_sin': 0.020610465216377424,\n",
       " 'minute_cos': 0.01990303737110314}"
      ]
     },
     "execution_count": 7,
     "metadata": {},
     "output_type": "execute_result"
    }
   ],
   "execution_count": 7
  },
  {
   "metadata": {},
   "cell_type": "markdown",
   "source": "Next I import some libraries to tune hyperparameters and iterate through all options of a param_grid(parameter name than a array of different options) and print results.",
   "id": "569979e8b7c31fa2"
  },
  {
   "metadata": {},
   "cell_type": "markdown",
   "source": "The code below is taking too long for me to include results as of now",
   "id": "fb2e8ad3b5ea00da"
  },
  {
   "metadata": {
    "jupyter": {
     "is_executing": true
    },
    "ExecuteTime": {
     "start_time": "2025-07-15T01:54:42.774048Z"
    }
   },
   "cell_type": "code",
   "source": [
    "from sklearn.model_selection import GridSearchCV #import GridSearchCV which will iterate through different combinations of the param_grid\n",
    "import multiprocessing #import multiprocessing to prevent use of all computer cores and cause program to fail due to lack of computer resources\n",
    "\n",
    "#setup param_grid\n",
    "param_grid = {\n",
    "    'criterion': ['gini', 'entropy'],\n",
    "    'max_depth': [10, 15, 20],\n",
    "    'min_samples_split': [5, 10, 20],\n",
    "    'min_samples_leaf': [2, 5, 10]\n",
    "}\n",
    "\n",
    "#create decision tree\n",
    "dt = DecisionTreeClassifier(random_state=42)\n",
    "\n",
    "#get the number of cores the computer has minus 1\n",
    "n_jobs = max(1, multiprocessing.cpu_count() - 1)\n",
    "#setup GridSearchCV\n",
    "grid_search = GridSearchCV(estimator=dt, param_grid=param_grid, cv=3, scoring='accuracy')\n",
    "\n",
    "#fit the GridSearchCV to the data\n",
    "grid_search.fit(X_train, y_train)\n",
    "\n",
    "#get the best parameters and model\n",
    "best_params = grid_search.best_params_\n",
    "best_model = grid_search.best_estimator_\n",
    "\n",
    "#print best parameters and model\n",
    "print(best_params)\n",
    "print(best_model)"
   ],
   "id": "48174c280ace014b",
   "outputs": [],
   "execution_count": null
  },
  {
   "metadata": {},
   "cell_type": "markdown",
   "source": "Next I use the best parameters for the model.",
   "id": "447ba07ed731fa0f"
  },
  {
   "metadata": {
    "ExecuteTime": {
     "end_time": "2025-07-15T03:20:07.027675Z",
     "start_time": "2025-07-15T03:19:39.719117Z"
    }
   },
   "cell_type": "code",
   "source": [
    "dt = DecisionTreeClassifier(random_state=42, criterion='gini', max_depth=10) #setup decision tree with best parameters\n",
    "dt.fit(X_train, y_train) #fit decision tree model\n",
    "\n",
    "y_pred = dt.predict(X_test) #predict results\n",
    "\n",
    "#print accuracy and details\n",
    "print(\"Accuracy:\", accuracy_score(y_test, y_pred))\n",
    "print(classification_report(y_test, y_pred))\n",
    "\n",
    "#show feature importances\n",
    "{c: f for c, f in zip(X.columns, dt.feature_importances_)}"
   ],
   "id": "db344e4ed0931dff",
   "outputs": [
    {
     "name": "stdout",
     "output_type": "stream",
     "text": [
      "Accuracy: 0.7768440434924816\n",
      "              precision    recall  f1-score   support\n",
      "\n",
      "           h       0.82      0.96      0.88    185618\n",
      "           l       0.80      0.69      0.74    203117\n",
      "           n       0.70      0.70      0.70    189112\n",
      "\n",
      "    accuracy                           0.78    577847\n",
      "   macro avg       0.78      0.78      0.77    577847\n",
      "weighted avg       0.78      0.78      0.77    577847\n",
      "\n"
     ]
    },
    {
     "data": {
      "text/plain": [
       "{'latitude': 0.007319868276604551,\n",
       " 'longitude': 0.017444345866559064,\n",
       " 'brightness': 0.7272516706553218,\n",
       " 'scan': 0.014093512133096415,\n",
       " 'track': 0.0015666467240539738,\n",
       " 'satellite': 0.0,\n",
       " 'version': 0.0,\n",
       " 'bright_t31': 0.03937144105382471,\n",
       " 'frp': 0.07988395201036479,\n",
       " 'daynight': 0.05875329465925075,\n",
       " 'type': 0.0033883661578079714,\n",
       " 'year': 8.651828418442294e-05,\n",
       " 'month': 0.0026325353978673637,\n",
       " 'day': 4.6406616925535576e-05,\n",
       " 'hour': 0.00812145167854428,\n",
       " 'minute': 4.9653364955112836e-05,\n",
       " 'month_sin': 0.008034702177709581,\n",
       " 'month_cos': 0.031641069354403084,\n",
       " 'day_sin': 4.7713016094113525e-05,\n",
       " 'day_cos': 7.502984140865522e-06,\n",
       " 'hour_sin': 4.5485659698537946e-05,\n",
       " 'hour_cos': 0.00013949520992502913,\n",
       " 'minute_sin': 2.1140302451466874e-05,\n",
       " 'minute_cos': 5.322841621663485e-05}"
      ]
     },
     "execution_count": 8,
     "metadata": {},
     "output_type": "execute_result"
    }
   ],
   "execution_count": 8
  },
  {
   "metadata": {},
   "cell_type": "markdown",
   "source": "We got good results; with over a 77% accuracy score. The feature importances for month_cos, daynight, frp, bright_t31, and brightness have the highest values, with brightness being the highest at over 0.72 this means that brightness is likely the most significant variable for the target variable.",
   "id": "91b668f9e37c5b6b"
  }
 ],
 "metadata": {
  "kernelspec": {
   "display_name": "Python 3",
   "language": "python",
   "name": "python3"
  },
  "language_info": {
   "codemirror_mode": {
    "name": "ipython",
    "version": 2
   },
   "file_extension": ".py",
   "mimetype": "text/x-python",
   "name": "python",
   "nbconvert_exporter": "python",
   "pygments_lexer": "ipython2",
   "version": "2.7.6"
  }
 },
 "nbformat": 4,
 "nbformat_minor": 5
}
