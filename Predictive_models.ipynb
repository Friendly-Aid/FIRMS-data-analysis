{
 "cells": [
  {
   "metadata": {},
   "cell_type": "markdown",
   "source": "First import libraries and load data, then transform data datetime to a proper datetime.",
   "id": "b1693db5fe910183"
  },
  {
   "metadata": {
    "ExecuteTime": {
     "end_time": "2025-07-22T22:15:54.871471Z",
     "start_time": "2025-07-22T22:15:39.267388Z"
    }
   },
   "cell_type": "code",
   "source": [
    "import pandas as pd\n",
    "import os\n",
    "import numpy as np\n",
    "\n",
    "path = os.getcwd() + \"\\\\data\\\\fire_archive_M-C61_626683.csv.xz\"\n",
    "data = pd.read_csv(path)\n",
    "\n",
    "from datetime import timedelta\n",
    "\n",
    "data['acq_date'] = pd.to_datetime(data['acq_date'])\n",
    "data['acq_datetime'] = data['acq_date'] + pd.Series(\n",
    "    [timedelta(minutes=i % 100, hours=i // 100) for i in data['acq_time']])\n",
    "\n",
    "#drop redundant columns\n",
    "data.drop(['acq_time','acq_date','instrument'], axis=1, inplace=True)\n",
    "\n",
    "data #show data for verification"
   ],
   "id": "94a332a93170e1e1",
   "outputs": [
    {
     "data": {
      "text/plain": [
       "         latitude  longitude  brightness  scan  track satellite  confidence  \\\n",
       "0         38.5422   -78.3047       304.8   2.8    1.6     Terra          23   \n",
       "1         38.5451   -78.3107       309.9   2.8    1.6     Terra          79   \n",
       "2         38.5563   -78.3084       309.4   2.8    1.6     Terra          70   \n",
       "3         38.5586   -78.3170       302.3   2.8    1.6     Terra          45   \n",
       "4         31.3393   -89.9124       304.9   1.0    1.0     Terra          62   \n",
       "...           ...        ...         ...   ...    ...       ...         ...   \n",
       "2960417   41.6966   -99.1437       319.8   1.1    1.0      Aqua          80   \n",
       "2960418   42.4419   -94.3783       300.6   1.2    1.1      Aqua          40   \n",
       "2960419   41.4014   -97.9485       319.9   1.0    1.0      Aqua          80   \n",
       "2960420   41.4032   -97.9369       322.9   1.0    1.0      Aqua          82   \n",
       "2960421   42.7180  -120.4872       303.0   1.1    1.0      Aqua          51   \n",
       "\n",
       "         version  bright_t31   frp daynight  type        acq_datetime  \n",
       "0           6.03       280.9  40.3        N     0 2000-11-01 02:50:00  \n",
       "1           6.03       280.7  58.8        N     0 2000-11-01 02:50:00  \n",
       "2           6.03       280.4  54.5        N     0 2000-11-01 02:50:00  \n",
       "3           6.03       279.8  36.0        N     0 2000-11-01 02:50:00  \n",
       "4           6.03       287.5   8.5        N     0 2000-11-01 04:27:00  \n",
       "...          ...         ...   ...      ...   ...                 ...  \n",
       "2960417    61.03       284.7  21.2        D     0 2025-01-31 20:28:00  \n",
       "2960418    61.03       284.3   6.3        D     0 2025-01-31 20:28:00  \n",
       "2960419    61.03       284.9  19.0        D     0 2025-01-31 20:28:00  \n",
       "2960420    61.03       285.0  22.1        D     0 2025-01-31 20:28:00  \n",
       "2960421    61.03       281.1   7.8        D     0 2025-01-31 22:07:00  \n",
       "\n",
       "[2960422 rows x 13 columns]"
      ],
      "text/html": [
       "<div>\n",
       "<style scoped>\n",
       "    .dataframe tbody tr th:only-of-type {\n",
       "        vertical-align: middle;\n",
       "    }\n",
       "\n",
       "    .dataframe tbody tr th {\n",
       "        vertical-align: top;\n",
       "    }\n",
       "\n",
       "    .dataframe thead th {\n",
       "        text-align: right;\n",
       "    }\n",
       "</style>\n",
       "<table border=\"1\" class=\"dataframe\">\n",
       "  <thead>\n",
       "    <tr style=\"text-align: right;\">\n",
       "      <th></th>\n",
       "      <th>latitude</th>\n",
       "      <th>longitude</th>\n",
       "      <th>brightness</th>\n",
       "      <th>scan</th>\n",
       "      <th>track</th>\n",
       "      <th>satellite</th>\n",
       "      <th>confidence</th>\n",
       "      <th>version</th>\n",
       "      <th>bright_t31</th>\n",
       "      <th>frp</th>\n",
       "      <th>daynight</th>\n",
       "      <th>type</th>\n",
       "      <th>acq_datetime</th>\n",
       "    </tr>\n",
       "  </thead>\n",
       "  <tbody>\n",
       "    <tr>\n",
       "      <th>0</th>\n",
       "      <td>38.5422</td>\n",
       "      <td>-78.3047</td>\n",
       "      <td>304.8</td>\n",
       "      <td>2.8</td>\n",
       "      <td>1.6</td>\n",
       "      <td>Terra</td>\n",
       "      <td>23</td>\n",
       "      <td>6.03</td>\n",
       "      <td>280.9</td>\n",
       "      <td>40.3</td>\n",
       "      <td>N</td>\n",
       "      <td>0</td>\n",
       "      <td>2000-11-01 02:50:00</td>\n",
       "    </tr>\n",
       "    <tr>\n",
       "      <th>1</th>\n",
       "      <td>38.5451</td>\n",
       "      <td>-78.3107</td>\n",
       "      <td>309.9</td>\n",
       "      <td>2.8</td>\n",
       "      <td>1.6</td>\n",
       "      <td>Terra</td>\n",
       "      <td>79</td>\n",
       "      <td>6.03</td>\n",
       "      <td>280.7</td>\n",
       "      <td>58.8</td>\n",
       "      <td>N</td>\n",
       "      <td>0</td>\n",
       "      <td>2000-11-01 02:50:00</td>\n",
       "    </tr>\n",
       "    <tr>\n",
       "      <th>2</th>\n",
       "      <td>38.5563</td>\n",
       "      <td>-78.3084</td>\n",
       "      <td>309.4</td>\n",
       "      <td>2.8</td>\n",
       "      <td>1.6</td>\n",
       "      <td>Terra</td>\n",
       "      <td>70</td>\n",
       "      <td>6.03</td>\n",
       "      <td>280.4</td>\n",
       "      <td>54.5</td>\n",
       "      <td>N</td>\n",
       "      <td>0</td>\n",
       "      <td>2000-11-01 02:50:00</td>\n",
       "    </tr>\n",
       "    <tr>\n",
       "      <th>3</th>\n",
       "      <td>38.5586</td>\n",
       "      <td>-78.3170</td>\n",
       "      <td>302.3</td>\n",
       "      <td>2.8</td>\n",
       "      <td>1.6</td>\n",
       "      <td>Terra</td>\n",
       "      <td>45</td>\n",
       "      <td>6.03</td>\n",
       "      <td>279.8</td>\n",
       "      <td>36.0</td>\n",
       "      <td>N</td>\n",
       "      <td>0</td>\n",
       "      <td>2000-11-01 02:50:00</td>\n",
       "    </tr>\n",
       "    <tr>\n",
       "      <th>4</th>\n",
       "      <td>31.3393</td>\n",
       "      <td>-89.9124</td>\n",
       "      <td>304.9</td>\n",
       "      <td>1.0</td>\n",
       "      <td>1.0</td>\n",
       "      <td>Terra</td>\n",
       "      <td>62</td>\n",
       "      <td>6.03</td>\n",
       "      <td>287.5</td>\n",
       "      <td>8.5</td>\n",
       "      <td>N</td>\n",
       "      <td>0</td>\n",
       "      <td>2000-11-01 04:27:00</td>\n",
       "    </tr>\n",
       "    <tr>\n",
       "      <th>...</th>\n",
       "      <td>...</td>\n",
       "      <td>...</td>\n",
       "      <td>...</td>\n",
       "      <td>...</td>\n",
       "      <td>...</td>\n",
       "      <td>...</td>\n",
       "      <td>...</td>\n",
       "      <td>...</td>\n",
       "      <td>...</td>\n",
       "      <td>...</td>\n",
       "      <td>...</td>\n",
       "      <td>...</td>\n",
       "      <td>...</td>\n",
       "    </tr>\n",
       "    <tr>\n",
       "      <th>2960417</th>\n",
       "      <td>41.6966</td>\n",
       "      <td>-99.1437</td>\n",
       "      <td>319.8</td>\n",
       "      <td>1.1</td>\n",
       "      <td>1.0</td>\n",
       "      <td>Aqua</td>\n",
       "      <td>80</td>\n",
       "      <td>61.03</td>\n",
       "      <td>284.7</td>\n",
       "      <td>21.2</td>\n",
       "      <td>D</td>\n",
       "      <td>0</td>\n",
       "      <td>2025-01-31 20:28:00</td>\n",
       "    </tr>\n",
       "    <tr>\n",
       "      <th>2960418</th>\n",
       "      <td>42.4419</td>\n",
       "      <td>-94.3783</td>\n",
       "      <td>300.6</td>\n",
       "      <td>1.2</td>\n",
       "      <td>1.1</td>\n",
       "      <td>Aqua</td>\n",
       "      <td>40</td>\n",
       "      <td>61.03</td>\n",
       "      <td>284.3</td>\n",
       "      <td>6.3</td>\n",
       "      <td>D</td>\n",
       "      <td>0</td>\n",
       "      <td>2025-01-31 20:28:00</td>\n",
       "    </tr>\n",
       "    <tr>\n",
       "      <th>2960419</th>\n",
       "      <td>41.4014</td>\n",
       "      <td>-97.9485</td>\n",
       "      <td>319.9</td>\n",
       "      <td>1.0</td>\n",
       "      <td>1.0</td>\n",
       "      <td>Aqua</td>\n",
       "      <td>80</td>\n",
       "      <td>61.03</td>\n",
       "      <td>284.9</td>\n",
       "      <td>19.0</td>\n",
       "      <td>D</td>\n",
       "      <td>0</td>\n",
       "      <td>2025-01-31 20:28:00</td>\n",
       "    </tr>\n",
       "    <tr>\n",
       "      <th>2960420</th>\n",
       "      <td>41.4032</td>\n",
       "      <td>-97.9369</td>\n",
       "      <td>322.9</td>\n",
       "      <td>1.0</td>\n",
       "      <td>1.0</td>\n",
       "      <td>Aqua</td>\n",
       "      <td>82</td>\n",
       "      <td>61.03</td>\n",
       "      <td>285.0</td>\n",
       "      <td>22.1</td>\n",
       "      <td>D</td>\n",
       "      <td>0</td>\n",
       "      <td>2025-01-31 20:28:00</td>\n",
       "    </tr>\n",
       "    <tr>\n",
       "      <th>2960421</th>\n",
       "      <td>42.7180</td>\n",
       "      <td>-120.4872</td>\n",
       "      <td>303.0</td>\n",
       "      <td>1.1</td>\n",
       "      <td>1.0</td>\n",
       "      <td>Aqua</td>\n",
       "      <td>51</td>\n",
       "      <td>61.03</td>\n",
       "      <td>281.1</td>\n",
       "      <td>7.8</td>\n",
       "      <td>D</td>\n",
       "      <td>0</td>\n",
       "      <td>2025-01-31 22:07:00</td>\n",
       "    </tr>\n",
       "  </tbody>\n",
       "</table>\n",
       "<p>2960422 rows × 13 columns</p>\n",
       "</div>"
      ]
     },
     "execution_count": 3,
     "metadata": {},
     "output_type": "execute_result"
    }
   ],
   "execution_count": 3
  },
  {
   "metadata": {},
   "cell_type": "markdown",
   "source": "next I am going to add year, month, day, hour, and minute as well as their sin/cos variants to represent relative distance between times e.g. month 12 to month 1 is the same distance as month 7 to month 8.",
   "id": "ce2c3809bee411aa"
  },
  {
   "metadata": {
    "ExecuteTime": {
     "end_time": "2025-07-22T22:15:55.511974Z",
     "start_time": "2025-07-22T22:15:54.895679Z"
    }
   },
   "cell_type": "code",
   "source": [
    "data['year'] = data['acq_datetime'].dt.year\n",
    "data['month'] = data['acq_datetime'].dt.month\n",
    "data['day'] = data['acq_datetime'].dt.day\n",
    "data['hour'] = data['acq_datetime'].dt.hour\n",
    "data['minute'] = data['acq_datetime'].dt.minute\n",
    "\n",
    "data['month_sin'] = np.sin(2 * np.pi * data['month'] / 12)\n",
    "data['month_cos'] = np.cos(2 * np.pi * data['month'] / 12)\n",
    "data['day_sin'] = np.sin(2 * np.pi * data['day'] / 31)\n",
    "data['day_cos'] = np.cos(2 * np.pi * data['day'] / 31)\n",
    "data['hour_sin'] = np.sin(2 * np.pi * data['hour'] / 24)\n",
    "data['hour_cos'] = np.cos(2 * np.pi * data['hour'] / 24)\n",
    "data['minute_sin'] = np.sin(2 * np.pi * data['minute'] / 60)\n",
    "data['minute_cos'] = np.cos(2 * np.pi * data['minute'] / 60)"
   ],
   "id": "6d3e76d9e13fecd3",
   "outputs": [],
   "execution_count": 4
  },
  {
   "metadata": {},
   "cell_type": "markdown",
   "source": "I import libraries for a linear regression model",
   "id": "e388ef0fed2654ce"
  },
  {
   "metadata": {
    "ExecuteTime": {
     "end_time": "2025-07-22T22:15:56.880758Z",
     "start_time": "2025-07-22T22:15:55.700844Z"
    }
   },
   "cell_type": "code",
   "source": [
    "from sklearn.model_selection import train_test_split\n",
    "from sklearn.preprocessing import PolynomialFeatures\n",
    "from sklearn.linear_model import LinearRegression\n",
    "from sklearn.metrics import mean_squared_error, r2_score"
   ],
   "id": "d6cefecbeddefe43",
   "outputs": [],
   "execution_count": 5
  },
  {
   "metadata": {},
   "cell_type": "markdown",
   "source": "I setup a linear regression model and show the r2 score and mean square error",
   "id": "7833b44f2ab3efb9"
  },
  {
   "metadata": {
    "ExecuteTime": {
     "end_time": "2025-07-22T19:06:33.684522Z",
     "start_time": "2025-07-22T19:06:29.062608Z"
    }
   },
   "cell_type": "code",
   "source": [
    "X = data[data['type'] != 1].drop(['confidence','acq_datetime'], axis=1) # exclude type one because it is volcano and not fire\n",
    "\n",
    "categorical = ['satellite', 'daynight', 'version', 'type']\n",
    "for cat in categorical:\n",
    "    X[cat] = X[cat].map({name:i for i, name in enumerate(X[cat].unique())})\n",
    "\n",
    "y = data[data['type'] != 1]['confidence']\n",
    "\n",
    "X_train, X_test, y_train, y_test = train_test_split(X, y, test_size=0.2)\n",
    "regressor = LinearRegression()\n",
    "regressor.fit(X_train, y_train)\n",
    "y_pred = regressor.predict(X_test)\n",
    "r2 = r2_score(y_test, y_pred)\n",
    "mse = mean_squared_error(y_test, y_pred)\n",
    "print(r2)\n",
    "print((mse ** 0.5) / 100) #get root of mean square error for just mean error and multiply by 100 for percentile"
   ],
   "id": "60d58244e13f99b5",
   "outputs": [
    {
     "name": "stdout",
     "output_type": "stream",
     "text": [
      "0.43960070331133294\n",
      "0.17122846151085538\n"
     ]
    }
   ],
   "execution_count": 6
  },
  {
   "metadata": {},
   "cell_type": "markdown",
   "source": "next I set up a polynomial version to check for non-linear relationships",
   "id": "92c53db2a18f5bb7"
  },
  {
   "metadata": {
    "ExecuteTime": {
     "end_time": "2025-07-22T19:13:16.090915Z",
     "start_time": "2025-07-22T19:06:33.812472Z"
    }
   },
   "cell_type": "code",
   "source": [
    "print(\"degree 2\")\n",
    "\n",
    "X = data[data['type'] != 1].drop(['confidence','acq_datetime'], axis=1) # exclude type one because it is volcano and not fire\n",
    "\n",
    "categorical = ['satellite', 'daynight', 'version', 'type']\n",
    "for cat in categorical:\n",
    "    X[cat] = X[cat].map({name:i for i, name in enumerate(X[cat].unique())})\n",
    "\n",
    "y = data[data['type'] != 1]['confidence']\n",
    "\n",
    "poly = PolynomialFeatures(degree=2, include_bias=False)\n",
    "X_poly = poly.fit_transform(X)\n",
    "\n",
    "X_train, X_test, y_train, y_test = train_test_split(X_poly, y, test_size=0.2)\n",
    "\n",
    "regressor = LinearRegression()\n",
    "\n",
    "regressor.fit(X_train, y_train)\n",
    "\n",
    "y_pred = regressor.predict(X_test)\n",
    "r2 = r2_score(y_test, y_pred)\n",
    "mse = mean_squared_error(y_test, y_pred)\n",
    "print(r2)\n",
    "print((mse ** 0.5) / 100) #root and get percentile"
   ],
   "id": "e8f4801a5e5b4ee6",
   "outputs": [
    {
     "name": "stdout",
     "output_type": "stream",
     "text": [
      "degree 2\n",
      "0.5786394504612165\n",
      "0.14840878410035083\n"
     ]
    }
   ],
   "execution_count": 7
  },
  {
   "metadata": {},
   "cell_type": "markdown",
   "source": "The results for both the normal and polynomial regression models are similar with the polynomial being a decent bit better.",
   "id": "4ee51a999a453b29"
  },
  {
   "metadata": {},
   "cell_type": "markdown",
   "source": "than I try a decision tree regressor and get feature importances",
   "id": "45673d257c3d1a79"
  },
  {
   "metadata": {
    "ExecuteTime": {
     "end_time": "2025-07-22T22:01:19.389828Z",
     "start_time": "2025-07-22T22:00:19.448725Z"
    }
   },
   "cell_type": "code",
   "source": [
    "from sklearn.tree import DecisionTreeRegressor\n",
    "X = data[data['type'] != 1].drop(['confidence','acq_datetime'], axis=1) # exclude type one because it is volcano and not fire\n",
    "\n",
    "categorical = ['satellite', 'daynight', 'version', 'type']\n",
    "for cat in categorical:\n",
    "    X[cat] = X[cat].map({name:i for i, name in enumerate(X[cat].unique())})\n",
    "\n",
    "y = data[data['type'] != 1]['confidence']\n",
    "\n",
    "X_train, X_test, y_train, y_test = train_test_split(X, y, test_size=0.2)\n",
    "\n",
    "dt = DecisionTreeRegressor(random_state=42)\n",
    "dt.fit(X_train, y_train)\n",
    "\n",
    "#get predictions\n",
    "y_pred = dt.predict(X_test)\n",
    "\n",
    "print(\"R^2 score:\", r2_score(y_test, y_pred))\n",
    "print(\"RMSE:\", (mean_squared_error(y_test, y_pred) ** 0.5) / 100) # root and percentile\n",
    "{c: f for c, f in zip(X.columns, dt.feature_importances_)}"
   ],
   "id": "2a95034e94892c39",
   "outputs": [
    {
     "name": "stdout",
     "output_type": "stream",
     "text": [
      "R^2 score: 0.36997494122251096\n",
      "RMSE: 0.18156364760362023\n"
     ]
    },
    {
     "data": {
      "text/plain": [
       "{'latitude': 0.050921977935218805,\n",
       " 'longitude': 0.052611972090290914,\n",
       " 'brightness': 0.5329594115132186,\n",
       " 'scan': 0.021623718839759543,\n",
       " 'track': 0.006167222511537681,\n",
       " 'satellite': 0.0016376423267885753,\n",
       " 'version': 0.0007868826308649792,\n",
       " 'bright_t31': 0.050853499262769025,\n",
       " 'frp': 0.08440784911151404,\n",
       " 'daynight': 0.022356137691964883,\n",
       " 'type': 0.004158119043926909,\n",
       " 'year': 0.017475320909761304,\n",
       " 'month': 0.00805941517861143,\n",
       " 'day': 0.014432634248683086,\n",
       " 'hour': 0.007034552275200663,\n",
       " 'minute': 0.01507507178250059,\n",
       " 'month_sin': 0.005379242000437235,\n",
       " 'month_cos': 0.020308761212867742,\n",
       " 'day_sin': 0.016438332647391186,\n",
       " 'day_cos': 0.013387045471630516,\n",
       " 'hour_sin': 0.016943600779302917,\n",
       " 'hour_cos': 0.004231291632170769,\n",
       " 'minute_sin': 0.016903530006176084,\n",
       " 'minute_cos': 0.015846768897412555}"
      ]
     },
     "execution_count": 4,
     "metadata": {},
     "output_type": "execute_result"
    }
   ],
   "execution_count": 4
  },
  {
   "metadata": {},
   "cell_type": "markdown",
   "source": "Next I bin the confidence for categorical analysis",
   "id": "d94e612fb9fcfd52"
  },
  {
   "metadata": {
    "ExecuteTime": {
     "end_time": "2025-07-22T22:15:56.973375Z",
     "start_time": "2025-07-22T22:15:56.906091Z"
    }
   },
   "cell_type": "code",
   "source": "data['confidence_binned'] = pd.cut(data['confidence'], bins=[-1, 30, 80, 101], labels=['l', 'n', 'h'])",
   "id": "ea276b76615bca2b",
   "outputs": [],
   "execution_count": 6
  },
  {
   "metadata": {},
   "cell_type": "markdown",
   "source": "next I set up the data for the models by importing libraries, and setting up dependent/independent variables.",
   "id": "c79c5262fe19ac63"
  },
  {
   "metadata": {
    "ExecuteTime": {
     "end_time": "2025-07-22T22:16:21.036341Z",
     "start_time": "2025-07-22T22:15:57.018371Z"
    }
   },
   "cell_type": "code",
   "source": [
    "from sklearn.metrics import accuracy_score, classification_report\n",
    "\n",
    "X = data[data['type'] != 1].drop(['confidence', 'acq_datetime', 'confidence_binned'], axis=1)\n",
    "\n",
    "categorical = ['satellite', 'daynight', 'version', 'type']\n",
    "for cat in categorical:\n",
    "    X[cat] = X[cat].map({name:i for i, name in enumerate(X[cat].unique())})\n",
    "\n",
    "y = data[data['type'] != 1]['confidence_binned']\n",
    "\n",
    "poly = PolynomialFeatures(degree=2)\n",
    "\n",
    "X_poly = poly.fit_transform(X)"
   ],
   "id": "775087b842269205",
   "outputs": [],
   "execution_count": 7
  },
  {
   "metadata": {},
   "cell_type": "markdown",
   "source": "next I import LogisticRegression from sklearn and run the model with polynomial data and normal data. I use saga as the solver because the amount of data is very large.",
   "id": "c68d63009e7b5855"
  },
  {
   "metadata": {
    "ExecuteTime": {
     "end_time": "2025-07-22T22:39:45.230447Z",
     "start_time": "2025-07-22T22:16:47.408323Z"
    }
   },
   "cell_type": "code",
   "source": [
    "from sklearn.linear_model import LogisticRegression\n",
    "\n",
    "X_train, X_test, y_train, y_test = train_test_split(X, y, test_size=0.2, random_state=42, stratify=y)\n",
    "\n",
    "regressor=LogisticRegression(solver='saga')\n",
    "regressor.fit(X_train,y_train)\n",
    "\n",
    "y_pred = regressor.predict(X_test)\n",
    "\n",
    "print(\"Accuracy:\", accuracy_score(y_test, y_pred))\n",
    "print(classification_report(y_test, y_pred))\n",
    "\n",
    "\n",
    "print()\n",
    "\n",
    "# go into polynomial model\n",
    "print(\"polynomial model\")\n",
    "\n",
    "X_poly_train, X_poly_test, _, _ = train_test_split(X_poly, y, test_size=0.2, random_state=42, stratify=y)\n",
    "\n",
    "poly_regressor=LogisticRegression(solver='saga')\n",
    "poly_regressor.fit(X_poly_train,y_train)\n",
    "\n",
    "y_pred = poly_regressor.predict(X_poly_test)\n",
    "\n",
    "print(\"Accuracy:\", accuracy_score(y_test, y_pred))\n",
    "print(classification_report(y_test, y_pred))"
   ],
   "id": "e4fed65243c546de",
   "outputs": [
    {
     "name": "stderr",
     "output_type": "stream",
     "text": [
      "C:\\Users\\Josiah\\miniconda3\\envs\\BigProject_1\\Lib\\site-packages\\sklearn\\linear_model\\_sag.py:348: ConvergenceWarning: The max_iter was reached which means the coef_ did not converge\n",
      "  warnings.warn(\n"
     ]
    },
    {
     "name": "stdout",
     "output_type": "stream",
     "text": [
      "Accuracy: 0.8385939530706225\n",
      "              precision    recall  f1-score   support\n",
      "\n",
      "           h       0.87      0.80      0.83    185524\n",
      "           l       0.00      0.00      0.00     36840\n",
      "           n       0.83      0.94      0.88    355483\n",
      "\n",
      "    accuracy                           0.84    577847\n",
      "   macro avg       0.56      0.58      0.57    577847\n",
      "weighted avg       0.79      0.84      0.81    577847\n",
      "\n",
      "\n",
      "polynomial model\n"
     ]
    },
    {
     "name": "stderr",
     "output_type": "stream",
     "text": [
      "C:\\Users\\Josiah\\miniconda3\\envs\\BigProject_1\\Lib\\site-packages\\sklearn\\linear_model\\_sag.py:348: ConvergenceWarning: The max_iter was reached which means the coef_ did not converge\n",
      "  warnings.warn(\n"
     ]
    },
    {
     "name": "stdout",
     "output_type": "stream",
     "text": [
      "Accuracy: 0.7995161348938387\n",
      "              precision    recall  f1-score   support\n",
      "\n",
      "           h       0.86      0.67      0.75    185524\n",
      "           l       0.00      0.00      0.00     36840\n",
      "           n       0.78      0.95      0.86    355483\n",
      "\n",
      "    accuracy                           0.80    577847\n",
      "   macro avg       0.55      0.54      0.54    577847\n",
      "weighted avg       0.76      0.80      0.77    577847\n",
      "\n"
     ]
    }
   ],
   "execution_count": 9
  },
  {
   "metadata": {},
   "cell_type": "markdown",
   "source": "The accuracy is above 80% and the models are very similar with the polynomial model being worse by a small amount.",
   "id": "6d646dd508416af9"
  },
  {
   "metadata": {},
   "cell_type": "markdown",
   "source": "check coefficients for h/n/l confidence",
   "id": "f425454cef7e2c99"
  },
  {
   "metadata": {
    "ExecuteTime": {
     "end_time": "2025-07-22T19:37:02.767605Z",
     "start_time": "2025-07-22T19:37:02.737622Z"
    }
   },
   "cell_type": "code",
   "source": [
    "pd.DataFrame(\n",
    "    regressor.coef_,\n",
    "    columns=X.columns,\n",
    "    index=regressor.classes_\n",
    ")"
   ],
   "id": "99a0894fe4a7a166",
   "outputs": [
    {
     "data": {
      "text/plain": [
       "   latitude  longitude  brightness      scan     track  satellite   version  \\\n",
       "h -0.012601   0.003590    0.155735 -0.000345 -0.000133   0.009162  0.002798   \n",
       "l  0.012657  -0.007269   -0.089193  0.000975  0.000339   0.002892 -0.000933   \n",
       "n -0.000056   0.003680   -0.066541 -0.000630 -0.000206  -0.012054 -0.001866   \n",
       "\n",
       "   bright_t31       frp  daynight  ...      hour    minute  month_sin  \\\n",
       "h   -0.045107 -0.002019 -0.014941  ... -0.118713 -0.002211   0.001765   \n",
       "l    0.011852  0.001488  0.001055  ...  0.030462  0.000867  -0.005432   \n",
       "n    0.033254  0.000531  0.013887  ...  0.088251  0.001344   0.003667   \n",
       "\n",
       "   month_cos   day_sin   day_cos  hour_sin  hour_cos  minute_sin  minute_cos  \n",
       "h   0.014240  0.000317  0.001187  0.021453 -0.004033    0.000063    0.000656  \n",
       "l  -0.012536 -0.000108 -0.000057 -0.002638 -0.001453   -0.000146   -0.000385  \n",
       "n  -0.001704 -0.000209 -0.001130 -0.018815  0.005486    0.000083   -0.000271  \n",
       "\n",
       "[3 rows x 24 columns]"
      ],
      "text/html": [
       "<div>\n",
       "<style scoped>\n",
       "    .dataframe tbody tr th:only-of-type {\n",
       "        vertical-align: middle;\n",
       "    }\n",
       "\n",
       "    .dataframe tbody tr th {\n",
       "        vertical-align: top;\n",
       "    }\n",
       "\n",
       "    .dataframe thead th {\n",
       "        text-align: right;\n",
       "    }\n",
       "</style>\n",
       "<table border=\"1\" class=\"dataframe\">\n",
       "  <thead>\n",
       "    <tr style=\"text-align: right;\">\n",
       "      <th></th>\n",
       "      <th>latitude</th>\n",
       "      <th>longitude</th>\n",
       "      <th>brightness</th>\n",
       "      <th>scan</th>\n",
       "      <th>track</th>\n",
       "      <th>satellite</th>\n",
       "      <th>version</th>\n",
       "      <th>bright_t31</th>\n",
       "      <th>frp</th>\n",
       "      <th>daynight</th>\n",
       "      <th>...</th>\n",
       "      <th>hour</th>\n",
       "      <th>minute</th>\n",
       "      <th>month_sin</th>\n",
       "      <th>month_cos</th>\n",
       "      <th>day_sin</th>\n",
       "      <th>day_cos</th>\n",
       "      <th>hour_sin</th>\n",
       "      <th>hour_cos</th>\n",
       "      <th>minute_sin</th>\n",
       "      <th>minute_cos</th>\n",
       "    </tr>\n",
       "  </thead>\n",
       "  <tbody>\n",
       "    <tr>\n",
       "      <th>h</th>\n",
       "      <td>-0.012601</td>\n",
       "      <td>0.003590</td>\n",
       "      <td>0.155735</td>\n",
       "      <td>-0.000345</td>\n",
       "      <td>-0.000133</td>\n",
       "      <td>0.009162</td>\n",
       "      <td>0.002798</td>\n",
       "      <td>-0.045107</td>\n",
       "      <td>-0.002019</td>\n",
       "      <td>-0.014941</td>\n",
       "      <td>...</td>\n",
       "      <td>-0.118713</td>\n",
       "      <td>-0.002211</td>\n",
       "      <td>0.001765</td>\n",
       "      <td>0.014240</td>\n",
       "      <td>0.000317</td>\n",
       "      <td>0.001187</td>\n",
       "      <td>0.021453</td>\n",
       "      <td>-0.004033</td>\n",
       "      <td>0.000063</td>\n",
       "      <td>0.000656</td>\n",
       "    </tr>\n",
       "    <tr>\n",
       "      <th>l</th>\n",
       "      <td>0.012657</td>\n",
       "      <td>-0.007269</td>\n",
       "      <td>-0.089193</td>\n",
       "      <td>0.000975</td>\n",
       "      <td>0.000339</td>\n",
       "      <td>0.002892</td>\n",
       "      <td>-0.000933</td>\n",
       "      <td>0.011852</td>\n",
       "      <td>0.001488</td>\n",
       "      <td>0.001055</td>\n",
       "      <td>...</td>\n",
       "      <td>0.030462</td>\n",
       "      <td>0.000867</td>\n",
       "      <td>-0.005432</td>\n",
       "      <td>-0.012536</td>\n",
       "      <td>-0.000108</td>\n",
       "      <td>-0.000057</td>\n",
       "      <td>-0.002638</td>\n",
       "      <td>-0.001453</td>\n",
       "      <td>-0.000146</td>\n",
       "      <td>-0.000385</td>\n",
       "    </tr>\n",
       "    <tr>\n",
       "      <th>n</th>\n",
       "      <td>-0.000056</td>\n",
       "      <td>0.003680</td>\n",
       "      <td>-0.066541</td>\n",
       "      <td>-0.000630</td>\n",
       "      <td>-0.000206</td>\n",
       "      <td>-0.012054</td>\n",
       "      <td>-0.001866</td>\n",
       "      <td>0.033254</td>\n",
       "      <td>0.000531</td>\n",
       "      <td>0.013887</td>\n",
       "      <td>...</td>\n",
       "      <td>0.088251</td>\n",
       "      <td>0.001344</td>\n",
       "      <td>0.003667</td>\n",
       "      <td>-0.001704</td>\n",
       "      <td>-0.000209</td>\n",
       "      <td>-0.001130</td>\n",
       "      <td>-0.018815</td>\n",
       "      <td>0.005486</td>\n",
       "      <td>0.000083</td>\n",
       "      <td>-0.000271</td>\n",
       "    </tr>\n",
       "  </tbody>\n",
       "</table>\n",
       "<p>3 rows × 24 columns</p>\n",
       "</div>"
      ]
     },
     "execution_count": 12,
     "metadata": {},
     "output_type": "execute_result"
    }
   ],
   "execution_count": 12
  },
  {
   "metadata": {},
   "cell_type": "markdown",
   "source": "next I set up a decision tree and get the accuracy and report as well as the feature importances.",
   "id": "c23282d9a6617737"
  },
  {
   "metadata": {
    "ExecuteTime": {
     "end_time": "2025-07-22T22:41:06.350967Z",
     "start_time": "2025-07-22T22:39:45.926858Z"
    }
   },
   "cell_type": "code",
   "source": [
    "from sklearn.tree import DecisionTreeClassifier\n",
    "\n",
    "dt = DecisionTreeClassifier(random_state=42)\n",
    "dt.fit(X_train, y_train)\n",
    "\n",
    "y_pred = dt.predict(X_test)\n",
    "\n",
    "print(\"Accuracy:\", accuracy_score(y_test, y_pred))\n",
    "print(classification_report(y_test, y_pred))\n",
    "\n",
    "{c: f for c, f in zip(X.columns, dt.feature_importances_)}"
   ],
   "id": "128d276a01817b41",
   "outputs": [
    {
     "name": "stdout",
     "output_type": "stream",
     "text": [
      "Accuracy: 0.8257029975062603\n",
      "              precision    recall  f1-score   support\n",
      "\n",
      "           h       0.86      0.85      0.86    185524\n",
      "           l       0.29      0.32      0.31     36840\n",
      "           n       0.87      0.86      0.87    355483\n",
      "\n",
      "    accuracy                           0.83    577847\n",
      "   macro avg       0.67      0.68      0.68    577847\n",
      "weighted avg       0.83      0.83      0.83    577847\n",
      "\n"
     ]
    },
    {
     "data": {
      "text/plain": [
       "{'latitude': 0.052281312028193645,\n",
       " 'longitude': 0.05593738358169366,\n",
       " 'brightness': 0.5272333682265847,\n",
       " 'scan': 0.015926427590389425,\n",
       " 'track': 0.006064053902853737,\n",
       " 'satellite': 0.0017520196062239934,\n",
       " 'version': 0.0008114591579965623,\n",
       " 'bright_t31': 0.07515121541465639,\n",
       " 'frp': 0.05345416461999269,\n",
       " 'daynight': 0.048934790395187326,\n",
       " 'type': 0.0020572543809489413,\n",
       " 'year': 0.01841402775216647,\n",
       " 'month': 0.005575558088728949,\n",
       " 'day': 0.014872170088512384,\n",
       " 'hour': 0.011135657427692978,\n",
       " 'minute': 0.01580315066056507,\n",
       " 'month_sin': 0.00549363409584673,\n",
       " 'month_cos': 0.015518911704271329,\n",
       " 'day_sin': 0.01748549677121142,\n",
       " 'day_cos': 0.013989463472254205,\n",
       " 'hour_sin': 0.003826983851549169,\n",
       " 'hour_cos': 0.0038937127439916163,\n",
       " 'minute_sin': 0.01777621272691782,\n",
       " 'minute_cos': 0.016611571711570763}"
      ]
     },
     "execution_count": 10,
     "metadata": {},
     "output_type": "execute_result"
    }
   ],
   "execution_count": 10
  },
  {
   "metadata": {},
   "cell_type": "markdown",
   "source": "Next I import some libraries to tune hyperparameters and iterate through all options of a param_grid(parameter name than a array of different options) and print results.",
   "id": "569979e8b7c31fa2"
  },
  {
   "metadata": {},
   "cell_type": "markdown",
   "source": "The code below is taking too long for me to include results as of now",
   "id": "fb2e8ad3b5ea00da"
  },
  {
   "metadata": {
    "jupyter": {
     "is_executing": true
    },
    "ExecuteTime": {
     "start_time": "2025-07-22T23:22:03.640288Z"
    }
   },
   "cell_type": "code",
   "source": [
    "from sklearn.model_selection import GridSearchCV\n",
    "import multiprocessing\n",
    "\n",
    "#setup param_grid\n",
    "param_grid = {\n",
    "    'criterion': ['gini', 'entropy'],\n",
    "    'max_depth': [10, 15, 20],\n",
    "    'min_samples_split': [5, 10, 20],\n",
    "    'min_samples_leaf': [2, 5, 10]\n",
    "}\n",
    "\n",
    "dt = DecisionTreeClassifier(random_state=42)\n",
    "\n",
    "#get the number of cores the computer has minus 1 to avoid lack of resources error\n",
    "n_jobs = max(1, multiprocessing.cpu_count() - 1)\n",
    "\n",
    "grid_search = GridSearchCV(estimator=dt, param_grid=param_grid, cv=3, scoring='accuracy')\n",
    "\n",
    "grid_search.fit(X_train, y_train)\n",
    "\n",
    "best_params = grid_search.best_params_\n",
    "best_model = grid_search.best_estimator_\n",
    "\n",
    "print(best_params)\n",
    "print(best_model)"
   ],
   "id": "48174c280ace014b",
   "outputs": [],
   "execution_count": null
  },
  {
   "metadata": {},
   "cell_type": "markdown",
   "source": "Next I use the best parameters for the model.",
   "id": "447ba07ed731fa0f"
  },
  {
   "metadata": {
    "ExecuteTime": {
     "end_time": "2025-07-19T20:27:47.206917Z",
     "start_time": "2025-07-19T20:27:18.218979Z"
    }
   },
   "cell_type": "code",
   "source": [
    "dt = DecisionTreeClassifier(random_state=42, criterion='gini', max_depth=10)\n",
    "dt.fit(X_train, y_train)\n",
    "\n",
    "y_pred = dt.predict(X_test)\n",
    "\n",
    "\n",
    "print(\"Accuracy:\", accuracy_score(y_test, y_pred))\n",
    "print(classification_report(y_test, y_pred))\n",
    "\n",
    "\n",
    "{c: f for c, f in zip(X.columns, dt.feature_importances_)}"
   ],
   "id": "db344e4ed0931dff",
   "outputs": [
    {
     "name": "stdout",
     "output_type": "stream",
     "text": [
      "Accuracy: 0.8719713003615144\n",
      "              precision    recall  f1-score   support\n",
      "\n",
      "           h       0.84      0.93      0.88    185618\n",
      "           l       0.83      0.13      0.22     37044\n",
      "           n       0.89      0.92      0.90    355185\n",
      "\n",
      "    accuracy                           0.87    577847\n",
      "   macro avg       0.85      0.66      0.67    577847\n",
      "weighted avg       0.87      0.87      0.85    577847\n",
      "\n"
     ]
    },
    {
     "data": {
      "text/plain": [
       "{'latitude': 0.007053468550189175,\n",
       " 'longitude': 0.014652101151220207,\n",
       " 'brightness': 0.7877282445789257,\n",
       " 'scan': 0.0021189314201473563,\n",
       " 'track': 0.0003722899444767902,\n",
       " 'satellite': 7.641903008653659e-05,\n",
       " 'version': 4.4983656120045555e-06,\n",
       " 'bright_t31': 0.05206133130007941,\n",
       " 'frp': 0.020983539174514114,\n",
       " 'daynight': 0.07929169720409712,\n",
       " 'type': 0.0021671317867487626,\n",
       " 'year': 5.7515955468228334e-05,\n",
       " 'month': 0.0017135967608949373,\n",
       " 'day': 4.2738759504822664e-05,\n",
       " 'hour': 0.011057979676305358,\n",
       " 'minute': 4.0620226353487834e-05,\n",
       " 'month_sin': 0.0018008012516576735,\n",
       " 'month_cos': 0.01845980313830326,\n",
       " 'day_sin': 7.598213724924507e-05,\n",
       " 'day_cos': 4.17711141230943e-05,\n",
       " 'hour_sin': 4.986674373196467e-05,\n",
       " 'hour_cos': 8.185308909855604e-05,\n",
       " 'minute_sin': 3.676779533979882e-05,\n",
       " 'minute_cos': 3.10508458724331e-05}"
      ]
     },
     "execution_count": 21,
     "metadata": {},
     "output_type": "execute_result"
    }
   ],
   "execution_count": 21
  },
  {
   "metadata": {},
   "cell_type": "markdown",
   "source": "We got good results; with over a 85% accuracy score. The feature importances for month_cos, daynight, frp, bright_t31, and brightness have the highest values, with brightness being the highest at over 0.78 this means that brightness is likely the most significant variable for the target variable.",
   "id": "91b668f9e37c5b6b"
  }
 ],
 "metadata": {
  "kernelspec": {
   "display_name": "Python 3",
   "language": "python",
   "name": "python3"
  },
  "language_info": {
   "codemirror_mode": {
    "name": "ipython",
    "version": 2
   },
   "file_extension": ".py",
   "mimetype": "text/x-python",
   "name": "python",
   "nbconvert_exporter": "python",
   "pygments_lexer": "ipython2",
   "version": "2.7.6"
  }
 },
 "nbformat": 4,
 "nbformat_minor": 5
}
