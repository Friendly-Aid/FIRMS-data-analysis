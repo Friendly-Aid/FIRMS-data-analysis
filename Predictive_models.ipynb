{
 "cells": [
  {
   "metadata": {},
   "cell_type": "markdown",
   "source": "First import libraries and load data, then transform data datetime to a proper datetime.",
   "id": "b1693db5fe910183"
  },
  {
   "metadata": {
    "ExecuteTime": {
     "end_time": "2025-09-08T15:25:29.094542Z",
     "start_time": "2025-09-08T15:25:12.721458Z"
    }
   },
   "cell_type": "code",
   "source": [
    "import pandas as pd\n",
    "import os\n",
    "import numpy as np\n",
    "\n",
    "path = os.getcwd() + \"\\\\data\\\\fire_archive_M-C61_626683.csv.xz\"\n",
    "data = pd.read_csv(path)\n",
    "\n",
    "from datetime import timedelta\n",
    "\n",
    "data['acq_date'] = pd.to_datetime(data['acq_date'])\n",
    "data['acq_datetime'] = data['acq_date'] + pd.Series(\n",
    "    [timedelta(minutes=i % 100, hours=i // 100) for i in data['acq_time']])\n",
    "\n",
    "#drop redundant columns\n",
    "data.drop(['acq_time','acq_date','instrument'], axis=1, inplace=True)\n",
    "\n",
    "data #show data for verification"
   ],
   "id": "94a332a93170e1e1",
   "outputs": [
    {
     "data": {
      "text/plain": [
       "         latitude  longitude  brightness  scan  track satellite  confidence  \\\n",
       "0         38.5422   -78.3047       304.8   2.8    1.6     Terra          23   \n",
       "1         38.5451   -78.3107       309.9   2.8    1.6     Terra          79   \n",
       "2         38.5563   -78.3084       309.4   2.8    1.6     Terra          70   \n",
       "3         38.5586   -78.3170       302.3   2.8    1.6     Terra          45   \n",
       "4         31.3393   -89.9124       304.9   1.0    1.0     Terra          62   \n",
       "...           ...        ...         ...   ...    ...       ...         ...   \n",
       "2960417   41.6966   -99.1437       319.8   1.1    1.0      Aqua          80   \n",
       "2960418   42.4419   -94.3783       300.6   1.2    1.1      Aqua          40   \n",
       "2960419   41.4014   -97.9485       319.9   1.0    1.0      Aqua          80   \n",
       "2960420   41.4032   -97.9369       322.9   1.0    1.0      Aqua          82   \n",
       "2960421   42.7180  -120.4872       303.0   1.1    1.0      Aqua          51   \n",
       "\n",
       "         version  bright_t31   frp daynight  type        acq_datetime  \n",
       "0           6.03       280.9  40.3        N     0 2000-11-01 02:50:00  \n",
       "1           6.03       280.7  58.8        N     0 2000-11-01 02:50:00  \n",
       "2           6.03       280.4  54.5        N     0 2000-11-01 02:50:00  \n",
       "3           6.03       279.8  36.0        N     0 2000-11-01 02:50:00  \n",
       "4           6.03       287.5   8.5        N     0 2000-11-01 04:27:00  \n",
       "...          ...         ...   ...      ...   ...                 ...  \n",
       "2960417    61.03       284.7  21.2        D     0 2025-01-31 20:28:00  \n",
       "2960418    61.03       284.3   6.3        D     0 2025-01-31 20:28:00  \n",
       "2960419    61.03       284.9  19.0        D     0 2025-01-31 20:28:00  \n",
       "2960420    61.03       285.0  22.1        D     0 2025-01-31 20:28:00  \n",
       "2960421    61.03       281.1   7.8        D     0 2025-01-31 22:07:00  \n",
       "\n",
       "[2960422 rows x 13 columns]"
      ],
      "text/html": [
       "<div>\n",
       "<style scoped>\n",
       "    .dataframe tbody tr th:only-of-type {\n",
       "        vertical-align: middle;\n",
       "    }\n",
       "\n",
       "    .dataframe tbody tr th {\n",
       "        vertical-align: top;\n",
       "    }\n",
       "\n",
       "    .dataframe thead th {\n",
       "        text-align: right;\n",
       "    }\n",
       "</style>\n",
       "<table border=\"1\" class=\"dataframe\">\n",
       "  <thead>\n",
       "    <tr style=\"text-align: right;\">\n",
       "      <th></th>\n",
       "      <th>latitude</th>\n",
       "      <th>longitude</th>\n",
       "      <th>brightness</th>\n",
       "      <th>scan</th>\n",
       "      <th>track</th>\n",
       "      <th>satellite</th>\n",
       "      <th>confidence</th>\n",
       "      <th>version</th>\n",
       "      <th>bright_t31</th>\n",
       "      <th>frp</th>\n",
       "      <th>daynight</th>\n",
       "      <th>type</th>\n",
       "      <th>acq_datetime</th>\n",
       "    </tr>\n",
       "  </thead>\n",
       "  <tbody>\n",
       "    <tr>\n",
       "      <th>0</th>\n",
       "      <td>38.5422</td>\n",
       "      <td>-78.3047</td>\n",
       "      <td>304.8</td>\n",
       "      <td>2.8</td>\n",
       "      <td>1.6</td>\n",
       "      <td>Terra</td>\n",
       "      <td>23</td>\n",
       "      <td>6.03</td>\n",
       "      <td>280.9</td>\n",
       "      <td>40.3</td>\n",
       "      <td>N</td>\n",
       "      <td>0</td>\n",
       "      <td>2000-11-01 02:50:00</td>\n",
       "    </tr>\n",
       "    <tr>\n",
       "      <th>1</th>\n",
       "      <td>38.5451</td>\n",
       "      <td>-78.3107</td>\n",
       "      <td>309.9</td>\n",
       "      <td>2.8</td>\n",
       "      <td>1.6</td>\n",
       "      <td>Terra</td>\n",
       "      <td>79</td>\n",
       "      <td>6.03</td>\n",
       "      <td>280.7</td>\n",
       "      <td>58.8</td>\n",
       "      <td>N</td>\n",
       "      <td>0</td>\n",
       "      <td>2000-11-01 02:50:00</td>\n",
       "    </tr>\n",
       "    <tr>\n",
       "      <th>2</th>\n",
       "      <td>38.5563</td>\n",
       "      <td>-78.3084</td>\n",
       "      <td>309.4</td>\n",
       "      <td>2.8</td>\n",
       "      <td>1.6</td>\n",
       "      <td>Terra</td>\n",
       "      <td>70</td>\n",
       "      <td>6.03</td>\n",
       "      <td>280.4</td>\n",
       "      <td>54.5</td>\n",
       "      <td>N</td>\n",
       "      <td>0</td>\n",
       "      <td>2000-11-01 02:50:00</td>\n",
       "    </tr>\n",
       "    <tr>\n",
       "      <th>3</th>\n",
       "      <td>38.5586</td>\n",
       "      <td>-78.3170</td>\n",
       "      <td>302.3</td>\n",
       "      <td>2.8</td>\n",
       "      <td>1.6</td>\n",
       "      <td>Terra</td>\n",
       "      <td>45</td>\n",
       "      <td>6.03</td>\n",
       "      <td>279.8</td>\n",
       "      <td>36.0</td>\n",
       "      <td>N</td>\n",
       "      <td>0</td>\n",
       "      <td>2000-11-01 02:50:00</td>\n",
       "    </tr>\n",
       "    <tr>\n",
       "      <th>4</th>\n",
       "      <td>31.3393</td>\n",
       "      <td>-89.9124</td>\n",
       "      <td>304.9</td>\n",
       "      <td>1.0</td>\n",
       "      <td>1.0</td>\n",
       "      <td>Terra</td>\n",
       "      <td>62</td>\n",
       "      <td>6.03</td>\n",
       "      <td>287.5</td>\n",
       "      <td>8.5</td>\n",
       "      <td>N</td>\n",
       "      <td>0</td>\n",
       "      <td>2000-11-01 04:27:00</td>\n",
       "    </tr>\n",
       "    <tr>\n",
       "      <th>...</th>\n",
       "      <td>...</td>\n",
       "      <td>...</td>\n",
       "      <td>...</td>\n",
       "      <td>...</td>\n",
       "      <td>...</td>\n",
       "      <td>...</td>\n",
       "      <td>...</td>\n",
       "      <td>...</td>\n",
       "      <td>...</td>\n",
       "      <td>...</td>\n",
       "      <td>...</td>\n",
       "      <td>...</td>\n",
       "      <td>...</td>\n",
       "    </tr>\n",
       "    <tr>\n",
       "      <th>2960417</th>\n",
       "      <td>41.6966</td>\n",
       "      <td>-99.1437</td>\n",
       "      <td>319.8</td>\n",
       "      <td>1.1</td>\n",
       "      <td>1.0</td>\n",
       "      <td>Aqua</td>\n",
       "      <td>80</td>\n",
       "      <td>61.03</td>\n",
       "      <td>284.7</td>\n",
       "      <td>21.2</td>\n",
       "      <td>D</td>\n",
       "      <td>0</td>\n",
       "      <td>2025-01-31 20:28:00</td>\n",
       "    </tr>\n",
       "    <tr>\n",
       "      <th>2960418</th>\n",
       "      <td>42.4419</td>\n",
       "      <td>-94.3783</td>\n",
       "      <td>300.6</td>\n",
       "      <td>1.2</td>\n",
       "      <td>1.1</td>\n",
       "      <td>Aqua</td>\n",
       "      <td>40</td>\n",
       "      <td>61.03</td>\n",
       "      <td>284.3</td>\n",
       "      <td>6.3</td>\n",
       "      <td>D</td>\n",
       "      <td>0</td>\n",
       "      <td>2025-01-31 20:28:00</td>\n",
       "    </tr>\n",
       "    <tr>\n",
       "      <th>2960419</th>\n",
       "      <td>41.4014</td>\n",
       "      <td>-97.9485</td>\n",
       "      <td>319.9</td>\n",
       "      <td>1.0</td>\n",
       "      <td>1.0</td>\n",
       "      <td>Aqua</td>\n",
       "      <td>80</td>\n",
       "      <td>61.03</td>\n",
       "      <td>284.9</td>\n",
       "      <td>19.0</td>\n",
       "      <td>D</td>\n",
       "      <td>0</td>\n",
       "      <td>2025-01-31 20:28:00</td>\n",
       "    </tr>\n",
       "    <tr>\n",
       "      <th>2960420</th>\n",
       "      <td>41.4032</td>\n",
       "      <td>-97.9369</td>\n",
       "      <td>322.9</td>\n",
       "      <td>1.0</td>\n",
       "      <td>1.0</td>\n",
       "      <td>Aqua</td>\n",
       "      <td>82</td>\n",
       "      <td>61.03</td>\n",
       "      <td>285.0</td>\n",
       "      <td>22.1</td>\n",
       "      <td>D</td>\n",
       "      <td>0</td>\n",
       "      <td>2025-01-31 20:28:00</td>\n",
       "    </tr>\n",
       "    <tr>\n",
       "      <th>2960421</th>\n",
       "      <td>42.7180</td>\n",
       "      <td>-120.4872</td>\n",
       "      <td>303.0</td>\n",
       "      <td>1.1</td>\n",
       "      <td>1.0</td>\n",
       "      <td>Aqua</td>\n",
       "      <td>51</td>\n",
       "      <td>61.03</td>\n",
       "      <td>281.1</td>\n",
       "      <td>7.8</td>\n",
       "      <td>D</td>\n",
       "      <td>0</td>\n",
       "      <td>2025-01-31 22:07:00</td>\n",
       "    </tr>\n",
       "  </tbody>\n",
       "</table>\n",
       "<p>2960422 rows × 13 columns</p>\n",
       "</div>"
      ]
     },
     "execution_count": 15,
     "metadata": {},
     "output_type": "execute_result"
    }
   ],
   "execution_count": 15
  },
  {
   "metadata": {},
   "cell_type": "markdown",
   "source": "Next I am going to add year, month, and day. I am also adding the sin/cos variants of month to represent relative distance between times e.g. month 12 to month 1 is the same distance as month 7 to month 8.",
   "id": "ce2c3809bee411aa"
  },
  {
   "metadata": {
    "ExecuteTime": {
     "end_time": "2025-09-08T15:25:29.431361Z",
     "start_time": "2025-09-08T15:25:29.131910Z"
    }
   },
   "cell_type": "code",
   "source": [
    "data['year'] = data['acq_datetime'].dt.year\n",
    "data['month'] = data['acq_datetime'].dt.month\n",
    "data['day'] = data['acq_datetime'].dt.day\n",
    "\n",
    "data['month_sin'] = np.sin(2 * np.pi * data['month'] / 12)\n",
    "data['month_cos'] = np.cos(2 * np.pi * data['month'] / 12)"
   ],
   "id": "6d3e76d9e13fecd3",
   "outputs": [],
   "execution_count": 16
  },
  {
   "metadata": {},
   "cell_type": "markdown",
   "source": "Next I am binning the confidence levels for categorical analysis which I will do later.",
   "id": "b06a2b77030c313d"
  },
  {
   "metadata": {
    "ExecuteTime": {
     "end_time": "2025-09-08T15:25:29.590565Z",
     "start_time": "2025-09-08T15:25:29.462297Z"
    }
   },
   "cell_type": "code",
   "source": "data['confidence_binned'] = pd.cut(data['confidence'], bins=[-1, 30, 80, 101], labels=['l', 'n', 'h'])",
   "id": "189a1e7f1df2e203",
   "outputs": [],
   "execution_count": 17
  },
  {
   "metadata": {},
   "cell_type": "markdown",
   "source": "I import libraries for data processing and model analysis.",
   "id": "e388ef0fed2654ce"
  },
  {
   "metadata": {
    "ExecuteTime": {
     "end_time": "2025-09-08T15:25:29.606865Z",
     "start_time": "2025-09-08T15:25:29.600065Z"
    }
   },
   "cell_type": "code",
   "source": [
    "from sklearn.metrics import accuracy_score, classification_report\n",
    "from sklearn.model_selection import train_test_split\n",
    "from sklearn.preprocessing import PolynomialFeatures\n",
    "from sklearn.metrics import mean_squared_error, r2_score"
   ],
   "id": "d6cefecbeddefe43",
   "outputs": [],
   "execution_count": 18
  },
  {
   "metadata": {},
   "cell_type": "markdown",
   "source": "I do some preprocessing for the data I will use for training my models.",
   "id": "a9aeec498be028e5"
  },
  {
   "metadata": {
    "ExecuteTime": {
     "end_time": "2025-09-08T15:25:30.991440Z",
     "start_time": "2025-09-08T15:25:29.650676Z"
    }
   },
   "cell_type": "code",
   "source": [
    "training_data=data.copy()\n",
    "training_data=training_data[training_data['type']!=1]\n",
    "categorical = ['satellite', 'daynight', 'version', 'type']\n",
    "for cat in categorical:\n",
    "    training_data[cat] = training_data[cat].map({name:i for i, name in enumerate(training_data[cat].unique())})\n",
    "training_data.drop(['acq_datetime'], axis=1, inplace=True)"
   ],
   "id": "a429dcd525f925d1",
   "outputs": [],
   "execution_count": 19
  },
  {
   "metadata": {},
   "cell_type": "markdown",
   "source": "I setup a linear regression model and show the r2 score and mean square error.",
   "id": "7833b44f2ab3efb9"
  },
  {
   "metadata": {
    "ExecuteTime": {
     "end_time": "2025-09-08T15:25:36.049962Z",
     "start_time": "2025-09-08T15:25:31.021080Z"
    }
   },
   "cell_type": "code",
   "source": [
    "from sklearn.linear_model import LinearRegression\n",
    "\n",
    "X = training_data.drop(['confidence', 'confidence_binned'], axis=1)\n",
    "y = training_data['confidence']\n",
    "X_train, X_test, y_train, y_test = train_test_split(X, y, test_size=0.2, random_state=42)\n",
    "\n",
    "regressor = LinearRegression()\n",
    "regressor.fit(X_train, y_train)\n",
    "y_pred = regressor.predict(X_test)\n",
    "r2 = r2_score(y_test, y_pred)\n",
    "mse = mean_squared_error(y_test, y_pred)\n",
    "print(r2)\n",
    "print((mse ** 0.5) / 100) #get root of mean square error for just mean error and multiply by 100 for percentile"
   ],
   "id": "60d58244e13f99b5",
   "outputs": [
    {
     "name": "stdout",
     "output_type": "stream",
     "text": [
      "0.43786607938135247\n",
      "0.17187393709919913\n"
     ]
    }
   ],
   "execution_count": 20
  },
  {
   "metadata": {},
   "cell_type": "markdown",
   "source": "Next I set up a polynomial version to check for non-linear relationships.",
   "id": "92c53db2a18f5bb7"
  },
  {
   "metadata": {
    "ExecuteTime": {
     "end_time": "2025-09-08T15:26:17.749029Z",
     "start_time": "2025-09-08T15:25:36.062299Z"
    }
   },
   "cell_type": "code",
   "source": [
    "print(\"degree 2\")\n",
    "\n",
    "X = training_data.drop(['confidence', 'confidence_binned'], axis=1)\n",
    "y = training_data['confidence']\n",
    "\n",
    "poly = PolynomialFeatures(degree=2, include_bias=False)\n",
    "X_poly = poly.fit_transform(X)\n",
    "\n",
    "X_train, X_test, y_train, y_test = train_test_split(X_poly, y, test_size=0.2, random_state=42)\n",
    "\n",
    "regressor = LinearRegression()\n",
    "\n",
    "regressor.fit(X_train, y_train)\n",
    "\n",
    "y_pred = regressor.predict(X_test)\n",
    "r2 = r2_score(y_test, y_pred)\n",
    "mse = mean_squared_error(y_test, y_pred)\n",
    "print(r2)\n",
    "print((mse ** 0.5) / 100) #root and get percentile"
   ],
   "id": "e8f4801a5e5b4ee6",
   "outputs": [
    {
     "name": "stdout",
     "output_type": "stream",
     "text": [
      "degree 2\n",
      "0.5747493096096292\n",
      "0.14949017243126503\n"
     ]
    }
   ],
   "execution_count": 21
  },
  {
   "metadata": {},
   "cell_type": "markdown",
   "source": "The results for both the normal and polynomial regression models are similar with the polynomial being a decent bit better.",
   "id": "4ee51a999a453b29"
  },
  {
   "metadata": {},
   "cell_type": "markdown",
   "source": "Next I try a decision tree regressor and get feature importances.",
   "id": "45673d257c3d1a79"
  },
  {
   "metadata": {
    "jupyter": {
     "is_executing": true
    },
    "ExecuteTime": {
     "start_time": "2025-09-08T15:26:18.184749Z"
    }
   },
   "cell_type": "code",
   "source": [
    "from sklearn.ensemble import RandomForestRegressor\n",
    "\n",
    "X = training_data.drop(['confidence', 'confidence_binned'], axis=1)\n",
    "y = training_data['confidence']\n",
    "X_train, X_test, y_train, y_test = train_test_split(X, y, test_size=0.2, random_state=42)\n",
    "\n",
    "fr = RandomForestRegressor(random_state=42)\n",
    "fr.fit(X_train, y_train)\n",
    "\n",
    "#get predictions\n",
    "y_pred = fr.predict(X_test)\n",
    "\n",
    "print(\"R^2 score:\", r2_score(y_test, y_pred))\n",
    "print(\"RMSE:\", (mean_squared_error(y_test, y_pred) ** 0.5) / 100) # root and percentile\n",
    "{c: f for c, f in zip(X.columns, fr.feature_importances_)}"
   ],
   "id": "2a95034e94892c39",
   "outputs": [],
   "execution_count": null
  },
  {
   "metadata": {},
   "cell_type": "markdown",
   "source": "Next I import LogisticRegression from sklearn and run the model with polynomial data and normal data. I use saga as the solver because the amount of data is very large.",
   "id": "c68d63009e7b5855"
  },
  {
   "metadata": {
    "ExecuteTime": {
     "end_time": "2025-09-08T15:24:50.613384100Z",
     "start_time": "2025-09-05T16:19:51.309803Z"
    }
   },
   "cell_type": "code",
   "source": [
    "from sklearn.linear_model import LogisticRegression\n",
    "\n",
    "X = training_data.drop(['confidence', 'confidence_binned'], axis=1)\n",
    "y = training_data['confidence_binned']\n",
    "X_train, X_test, y_train, y_test = train_test_split(X, y, test_size=0.2, random_state=42)\n",
    "\n",
    "regressor=LogisticRegression(solver='saga')\n",
    "regressor.fit(X_train,y_train)\n",
    "\n",
    "y_pred = regressor.predict(X_test)\n",
    "\n",
    "print(\"Accuracy:\", accuracy_score(y_test, y_pred))\n",
    "print(classification_report(y_test, y_pred))\n",
    "\n",
    "\n",
    "print()\n",
    "\n",
    "# go into polynomial model\n",
    "print(\"polynomial model\")\n",
    "\n",
    "poly = PolynomialFeatures(degree=2)\n",
    "X_poly = poly.fit_transform(X)\n",
    "X_poly_train, X_poly_test, _, _ = train_test_split(X_poly, y, test_size=0.2, random_state=42)\n",
    "\n",
    "poly_regressor=LogisticRegression(solver='saga')\n",
    "poly_regressor.fit(X_poly_train,y_train)\n",
    "\n",
    "y_pred = poly_regressor.predict(X_poly_test)\n",
    "\n",
    "print(\"Accuracy:\", accuracy_score(y_test, y_pred))\n",
    "print(classification_report(y_test, y_pred))"
   ],
   "id": "e4fed65243c546de",
   "outputs": [
    {
     "name": "stderr",
     "output_type": "stream",
     "text": [
      "C:\\Users\\Josiah\\miniconda3\\envs\\BigProject_1\\Lib\\site-packages\\sklearn\\linear_model\\_sag.py:348: ConvergenceWarning: The max_iter was reached which means the coef_ did not converge\n",
      "  warnings.warn(\n"
     ]
    },
    {
     "name": "stdout",
     "output_type": "stream",
     "text": [
      "Accuracy: 0.8243618120367502\n",
      "              precision    recall  f1-score   support\n",
      "\n",
      "           h       0.86      0.76      0.81    185330\n",
      "           l       0.00      0.00      0.00     36574\n",
      "           n       0.81      0.94      0.87    355943\n",
      "\n",
      "    accuracy                           0.82    577847\n",
      "   macro avg       0.56      0.57      0.56    577847\n",
      "weighted avg       0.77      0.82      0.80    577847\n",
      "\n",
      "\n",
      "polynomial model\n"
     ]
    },
    {
     "name": "stderr",
     "output_type": "stream",
     "text": [
      "C:\\Users\\Josiah\\miniconda3\\envs\\BigProject_1\\Lib\\site-packages\\sklearn\\linear_model\\_sag.py:348: ConvergenceWarning: The max_iter was reached which means the coef_ did not converge\n",
      "  warnings.warn(\n"
     ]
    },
    {
     "name": "stdout",
     "output_type": "stream",
     "text": [
      "Accuracy: 0.6159813929984926\n"
     ]
    },
    {
     "name": "stderr",
     "output_type": "stream",
     "text": [
      "C:\\Users\\Josiah\\miniconda3\\envs\\BigProject_1\\Lib\\site-packages\\sklearn\\metrics\\_classification.py:1565: UndefinedMetricWarning: Precision is ill-defined and being set to 0.0 in labels with no predicted samples. Use `zero_division` parameter to control this behavior.\n",
      "  _warn_prf(average, modifier, f\"{metric.capitalize()} is\", len(result))\n",
      "C:\\Users\\Josiah\\miniconda3\\envs\\BigProject_1\\Lib\\site-packages\\sklearn\\metrics\\_classification.py:1565: UndefinedMetricWarning: Precision is ill-defined and being set to 0.0 in labels with no predicted samples. Use `zero_division` parameter to control this behavior.\n",
      "  _warn_prf(average, modifier, f\"{metric.capitalize()} is\", len(result))\n"
     ]
    },
    {
     "name": "stdout",
     "output_type": "stream",
     "text": [
      "              precision    recall  f1-score   support\n",
      "\n",
      "           h       0.00      0.00      0.00    185330\n",
      "           l       0.00      0.00      0.00     36574\n",
      "           n       0.62      1.00      0.76    355943\n",
      "\n",
      "    accuracy                           0.62    577847\n",
      "   macro avg       0.21      0.33      0.25    577847\n",
      "weighted avg       0.38      0.62      0.47    577847\n",
      "\n"
     ]
    },
    {
     "name": "stderr",
     "output_type": "stream",
     "text": [
      "C:\\Users\\Josiah\\miniconda3\\envs\\BigProject_1\\Lib\\site-packages\\sklearn\\metrics\\_classification.py:1565: UndefinedMetricWarning: Precision is ill-defined and being set to 0.0 in labels with no predicted samples. Use `zero_division` parameter to control this behavior.\n",
      "  _warn_prf(average, modifier, f\"{metric.capitalize()} is\", len(result))\n"
     ]
    }
   ],
   "execution_count": 13
  },
  {
   "metadata": {},
   "cell_type": "markdown",
   "source": "The accuracy for the normal model is slightly above 82%, but I rounded it to full percents for simplicity. The non-polynomial model is significantly better, with the polynomial model being worse by about 24%, and having zero accuracy in high, and low confidence prediction.",
   "id": "6d646dd508416af9"
  },
  {
   "metadata": {},
   "cell_type": "markdown",
   "source": "check coefficients for h/n/l confidence",
   "id": "f425454cef7e2c99"
  },
  {
   "metadata": {
    "ExecuteTime": {
     "end_time": "2025-09-08T15:24:50.613384100Z",
     "start_time": "2025-09-03T04:31:15.026497Z"
    }
   },
   "cell_type": "code",
   "source": [
    "pd.DataFrame(\n",
    "    regressor.coef_,\n",
    "    columns=X.columns,\n",
    "    index=regressor.classes_\n",
    ")"
   ],
   "id": "99a0894fe4a7a166",
   "outputs": [
    {
     "data": {
      "text/plain": [
       "   latitude  longitude  brightness      scan     track  satellite   version  \\\n",
       "h -0.025698  -0.004793    0.137587 -0.005289 -0.001724  -0.012369  0.002599   \n",
       "l  0.015890  -0.004912   -0.084673  0.000135  0.000077  -0.000319 -0.001069   \n",
       "n  0.009808   0.009705   -0.052914  0.005154  0.001648   0.012688 -0.001529   \n",
       "\n",
       "   bright_t31       frp  daynight      type      year     month       day  \\\n",
       "h   -0.064113 -0.001751 -0.052818 -0.000256 -0.012302  0.012183 -0.001582   \n",
       "l    0.017219  0.001451 -0.005704  0.004751  0.009758 -0.001228  0.001446   \n",
       "n    0.046894  0.000301  0.058521 -0.004495  0.002545 -0.010955  0.000136   \n",
       "\n",
       "   month_sin  month_cos  \n",
       "h  -0.009803  -0.004907  \n",
       "l  -0.008342  -0.017885  \n",
       "n   0.018145   0.022792  "
      ],
      "text/html": [
       "<div>\n",
       "<style scoped>\n",
       "    .dataframe tbody tr th:only-of-type {\n",
       "        vertical-align: middle;\n",
       "    }\n",
       "\n",
       "    .dataframe tbody tr th {\n",
       "        vertical-align: top;\n",
       "    }\n",
       "\n",
       "    .dataframe thead th {\n",
       "        text-align: right;\n",
       "    }\n",
       "</style>\n",
       "<table border=\"1\" class=\"dataframe\">\n",
       "  <thead>\n",
       "    <tr style=\"text-align: right;\">\n",
       "      <th></th>\n",
       "      <th>latitude</th>\n",
       "      <th>longitude</th>\n",
       "      <th>brightness</th>\n",
       "      <th>scan</th>\n",
       "      <th>track</th>\n",
       "      <th>satellite</th>\n",
       "      <th>version</th>\n",
       "      <th>bright_t31</th>\n",
       "      <th>frp</th>\n",
       "      <th>daynight</th>\n",
       "      <th>type</th>\n",
       "      <th>year</th>\n",
       "      <th>month</th>\n",
       "      <th>day</th>\n",
       "      <th>month_sin</th>\n",
       "      <th>month_cos</th>\n",
       "    </tr>\n",
       "  </thead>\n",
       "  <tbody>\n",
       "    <tr>\n",
       "      <th>h</th>\n",
       "      <td>-0.025698</td>\n",
       "      <td>-0.004793</td>\n",
       "      <td>0.137587</td>\n",
       "      <td>-0.005289</td>\n",
       "      <td>-0.001724</td>\n",
       "      <td>-0.012369</td>\n",
       "      <td>0.002599</td>\n",
       "      <td>-0.064113</td>\n",
       "      <td>-0.001751</td>\n",
       "      <td>-0.052818</td>\n",
       "      <td>-0.000256</td>\n",
       "      <td>-0.012302</td>\n",
       "      <td>0.012183</td>\n",
       "      <td>-0.001582</td>\n",
       "      <td>-0.009803</td>\n",
       "      <td>-0.004907</td>\n",
       "    </tr>\n",
       "    <tr>\n",
       "      <th>l</th>\n",
       "      <td>0.015890</td>\n",
       "      <td>-0.004912</td>\n",
       "      <td>-0.084673</td>\n",
       "      <td>0.000135</td>\n",
       "      <td>0.000077</td>\n",
       "      <td>-0.000319</td>\n",
       "      <td>-0.001069</td>\n",
       "      <td>0.017219</td>\n",
       "      <td>0.001451</td>\n",
       "      <td>-0.005704</td>\n",
       "      <td>0.004751</td>\n",
       "      <td>0.009758</td>\n",
       "      <td>-0.001228</td>\n",
       "      <td>0.001446</td>\n",
       "      <td>-0.008342</td>\n",
       "      <td>-0.017885</td>\n",
       "    </tr>\n",
       "    <tr>\n",
       "      <th>n</th>\n",
       "      <td>0.009808</td>\n",
       "      <td>0.009705</td>\n",
       "      <td>-0.052914</td>\n",
       "      <td>0.005154</td>\n",
       "      <td>0.001648</td>\n",
       "      <td>0.012688</td>\n",
       "      <td>-0.001529</td>\n",
       "      <td>0.046894</td>\n",
       "      <td>0.000301</td>\n",
       "      <td>0.058521</td>\n",
       "      <td>-0.004495</td>\n",
       "      <td>0.002545</td>\n",
       "      <td>-0.010955</td>\n",
       "      <td>0.000136</td>\n",
       "      <td>0.018145</td>\n",
       "      <td>0.022792</td>\n",
       "    </tr>\n",
       "  </tbody>\n",
       "</table>\n",
       "</div>"
      ]
     },
     "execution_count": 58,
     "metadata": {},
     "output_type": "execute_result"
    }
   ],
   "execution_count": 58
  },
  {
   "metadata": {},
   "cell_type": "markdown",
   "source": "next I set up a decision tree and get the accuracy and report as well as the feature importances.",
   "id": "c23282d9a6617737"
  },
  {
   "metadata": {
    "ExecuteTime": {
     "end_time": "2025-09-08T15:24:50.622597Z",
     "start_time": "2025-09-04T15:52:41.701919Z"
    }
   },
   "cell_type": "code",
   "source": [
    "from sklearn.ensemble import RandomForestClassifier\n",
    "X = training_data.drop(['confidence', 'confidence_binned'], axis=1)\n",
    "y = training_data['confidence_binned']\n",
    "X_train, X_test, y_train, y_test = train_test_split(X, y, test_size=0.2, random_state=42)\n",
    "\n",
    "fc = RandomForestClassifier()\n",
    "fc.fit(X_train, y_train)\n",
    "\n",
    "y_pred = fc.predict(X_test)\n",
    "accuracy=accuracy_score(y_test, y_pred)\n",
    "\n",
    "print(\"Accuracy:\", accuracy)\n",
    "print(classification_report(y_test, y_pred))\n",
    "\n",
    "{c: f for c, f in zip(X.columns, fc.feature_importances_)}"
   ],
   "id": "128d276a01817b41",
   "outputs": [
    {
     "name": "stdout",
     "output_type": "stream",
     "text": [
      "Accuracy: 0.8870496861626002\n",
      "              precision    recall  f1-score   support\n",
      "\n",
      "           h       0.87      0.94      0.91    184769\n",
      "           l       0.75      0.20      0.32     37073\n",
      "           n       0.90      0.93      0.91    356005\n",
      "\n",
      "    accuracy                           0.89    577847\n",
      "   macro avg       0.84      0.69      0.71    577847\n",
      "weighted avg       0.88      0.89      0.87    577847\n",
      "\n"
     ]
    },
    {
     "data": {
      "text/plain": [
       "{'latitude': 0.06121906998618347,\n",
       " 'longitude': 0.08672830010421334,\n",
       " 'brightness': 0.37452014780825577,\n",
       " 'scan': 0.036910263033661475,\n",
       " 'track': 0.025507379869393547,\n",
       " 'satellite': 0.006613429113048619,\n",
       " 'version': 0.0020618835023108613,\n",
       " 'bright_t31': 0.07252574024590575,\n",
       " 'frp': 0.19449798127786816,\n",
       " 'daynight': 0.03851906401809685,\n",
       " 'type': 0.0027348555022536736,\n",
       " 'year': 0.02769654557011573,\n",
       " 'month': 0.01282501706473381,\n",
       " 'day': 0.03410549397773451,\n",
       " 'month_sin': 0.008979043896184319,\n",
       " 'month_cos': 0.014555785030040149}"
      ]
     },
     "execution_count": 12,
     "metadata": {},
     "output_type": "execute_result"
    }
   ],
   "execution_count": 12
  },
  {
   "metadata": {},
   "cell_type": "markdown",
   "source": "We got good results; with over a 85% accuracy score. The feature importances for month_cos, daynight, frp, bright_t31, and brightness have the highest values, with brightness being the highest at over 0.78 this means that brightness is likely the most significant variable for the target variable.",
   "id": "91b668f9e37c5b6b"
  }
 ],
 "metadata": {
  "kernelspec": {
   "display_name": "Python 3",
   "language": "python",
   "name": "python3"
  },
  "language_info": {
   "codemirror_mode": {
    "name": "ipython",
    "version": 2
   },
   "file_extension": ".py",
   "mimetype": "text/x-python",
   "name": "python",
   "nbconvert_exporter": "python",
   "pygments_lexer": "ipython2",
   "version": "2.7.6"
  }
 },
 "nbformat": 4,
 "nbformat_minor": 5
}
